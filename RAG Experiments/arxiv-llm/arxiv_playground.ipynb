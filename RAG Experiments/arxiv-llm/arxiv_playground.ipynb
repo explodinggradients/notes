{
 "cells": [
  {
   "cell_type": "markdown",
   "id": "4373246c",
   "metadata": {},
   "source": [
    "## Resoureces\n",
    "- LLM papers\n",
    "    - \n",
    "- Extract and save pdfs : arxiv api\n",
    "- pdf to text : https://github.com/karpathy/arxiv-sanity-preserver/blob/master/parse_pdf_to_text.py\n",
    "- llama_index   "
   ]
  },
  {
   "cell_type": "markdown",
   "id": "195a633f",
   "metadata": {},
   "source": [
    "## Playground"
   ]
  },
  {
   "cell_type": "code",
   "execution_count": 11,
   "id": "f90d96e5",
   "metadata": {},
   "outputs": [
    {
     "name": "stdout",
     "output_type": "stream",
     "text": [
      "A Survey of Large Language Models\n"
     ]
    }
   ],
   "source": [
    "import arxiv\n",
    "\n",
    "# search = arxiv.Search(id_list=[\"2303.18223\",\"1910.10683\"])\n",
    "paper = next(search.results())\n",
    "print(paper.title)"
   ]
  },
  {
   "cell_type": "code",
   "execution_count": 19,
   "id": "9ed16b0c",
   "metadata": {},
   "outputs": [
    {
     "name": "stdout",
     "output_type": "stream",
     "text": [
      "A Survey of Large Language Models\n",
      "Exploring the Limits of Transfer Learning with a Unified Text-to-Text Transformer\n"
     ]
    }
   ],
   "source": [
    "for paper in search.results():\n",
    "    print(paper.title)"
   ]
  },
  {
   "cell_type": "code",
   "execution_count": 16,
   "id": "5f2d2fed",
   "metadata": {},
   "outputs": [],
   "source": [
    "paper = next(search.results())"
   ]
  },
  {
   "cell_type": "code",
   "execution_count": 18,
   "id": "904ee3d9",
   "metadata": {},
   "outputs": [
    {
     "data": {
      "text/plain": [
       "'A Survey of Large Language Models'"
      ]
     },
     "execution_count": 18,
     "metadata": {},
     "output_type": "execute_result"
    }
   ],
   "source": [
    "paper.title"
   ]
  },
  {
   "cell_type": "code",
   "execution_count": 10,
   "id": "7ebbba60",
   "metadata": {},
   "outputs": [
    {
     "data": {
      "text/plain": [
       "'./2303.18223v11.A_Survey_of_Large_Language_Models.pdf'"
      ]
     },
     "execution_count": 10,
     "metadata": {},
     "output_type": "execute_result"
    }
   ],
   "source": [
    "paper.download_pdf()"
   ]
  },
  {
   "cell_type": "code",
   "execution_count": 14,
   "id": "3c515238",
   "metadata": {},
   "outputs": [],
   "source": [
    "from arxiv import SortCriterion,SortOrder"
   ]
  },
  {
   "cell_type": "code",
   "execution_count": 27,
   "id": "e06bc023",
   "metadata": {},
   "outputs": [],
   "source": [
    "search = arxiv.Search(\n",
    "  query=\"llm\",\n",
    "    max_results=10,\n",
    "    sort_by=SortCriterion.SubmittedDate,\n",
    "    sort_order=SortOrder.Descending\n",
    ")"
   ]
  },
  {
   "cell_type": "code",
   "execution_count": 28,
   "id": "d652e8f0",
   "metadata": {},
   "outputs": [
    {
     "name": "stdout",
     "output_type": "stream",
     "text": [
      "LayoutLLM-T2I: Eliciting Layout Guidance from LLM for Text-to-Image Generation\n",
      "An Empirical Study on Using Large Language Models to Analyze Software Supply Chain Security Failures\n",
      "MetRoBERTa: Leveraging Traditional Customer Relationship Management Data to Develop a Transit-Topic-Aware Language Model\n",
      "Extrapolating Large Language Models to Non-English by Aligning Languages\n",
      "LLMeBench: A Flexible Framework for Accelerating LLMs Benchmarking\n",
      "LLaMA-E: Empowering E-commerce Authoring with Multi-Aspect Instruction Following\n",
      "No Need to Lift a Finger Anymore? Assessing the Quality of Code Generation by ChatGPT\n",
      "CLEVA: Chinese Language Models EVAluation Platform\n",
      "Adaptive Intellect Unleashed: The Feasibility of Knowledge Transfer in Large Language Models\n",
      "Universal Fuzzing via Large Language Models\n"
     ]
    }
   ],
   "source": [
    "for result in search.results():\n",
    "      print(result.title)"
   ]
  },
  {
   "cell_type": "markdown",
   "id": "a0f3efba",
   "metadata": {},
   "source": [
    "## Extract links from md"
   ]
  },
  {
   "cell_type": "code",
   "execution_count": 1,
   "id": "78701c33",
   "metadata": {},
   "outputs": [],
   "source": [
    "with open(\"assets/llm_survey.md\") as file:\n",
    "    item = file.read()"
   ]
  },
  {
   "cell_type": "code",
   "execution_count": 2,
   "id": "18301cdf",
   "metadata": {},
   "outputs": [
    {
     "data": {
      "text/plain": [
       "87696"
      ]
     },
     "execution_count": 2,
     "metadata": {},
     "output_type": "execute_result"
    }
   ],
   "source": [
    "len(item)"
   ]
  },
  {
   "cell_type": "code",
   "execution_count": null,
   "id": "bc1237e2",
   "metadata": {},
   "outputs": [],
   "source": []
  },
  {
   "cell_type": "code",
   "execution_count": 3,
   "id": "6f80504e",
   "metadata": {},
   "outputs": [],
   "source": [
    "import markdown\n",
    "import re\n",
    "md_file = markdown.markdown(item)\n"
   ]
  },
  {
   "cell_type": "code",
   "execution_count": 4,
   "id": "63c05459",
   "metadata": {},
   "outputs": [],
   "source": [
    "links_to_scrap = (re.findall(r'https://arxiv.org/abs/\\d+\\.\\d+',md_file))"
   ]
  },
  {
   "cell_type": "code",
   "execution_count": 5,
   "id": "b8c631a0",
   "metadata": {},
   "outputs": [
    {
     "data": {
      "text/plain": [
       "['https://arxiv.org/abs/2303.18223',\n",
       " 'https://arxiv.org/abs/1910.10683',\n",
       " 'https://arxiv.org/abs/2010.11934',\n",
       " 'https://arxiv.org/abs/2104.12369',\n",
       " 'https://arxiv.org/abs/2106.10715',\n",
       " 'https://arxiv.org/abs/2110.08207',\n",
       " 'https://arxiv.org/abs/2204.06745',\n",
       " 'https://arxiv.org/abs/2203.13474',\n",
       " 'https://arxiv.org/abs/2204.07705',\n",
       " 'https://arxiv.org/abs/2205.05131',\n",
       " 'https://arxiv.org/abs/2205.01068',\n",
       " 'https://arxiv.org/abs/2207.04672',\n",
       " 'https://arxiv.org/abs/2211.05100',\n",
       " 'https://arxiv.org/abs/2210.02414',\n",
       " 'https://arxiv.org/abs/2210.11416',\n",
       " 'https://arxiv.org/abs/2211.01786',\n",
       " 'https://arxiv.org/abs/2211.09085',\n",
       " 'https://arxiv.org/abs/2211.01786',\n",
       " 'https://arxiv.org/abs/2212.12017',\n",
       " 'https://arxiv.org/abs/2304.01373',\n",
       " 'https://arxiv.org/abs/2302.13971',\n",
       " 'https://arxiv.org/abs/2303.17568',\n",
       " 'https://arxiv.org/abs/2005.14165',\n",
       " 'https://arxiv.org/abs/2201.08239',\n",
       " 'https://arxiv.org/abs/2109.04650',\n",
       " 'https://arxiv.org/abs/2107.03374',\n",
       " 'https://arxiv.org/abs/2107.02137',\n",
       " 'https://arxiv.org/abs/2109.01652',\n",
       " 'https://arxiv.org/abs/2201.11990',\n",
       " 'https://arxiv.org/abs/2110.04725',\n",
       " 'https://arxiv.org/abs/2112.00861',\n",
       " 'https://arxiv.org/abs/2112.09332',\n",
       " 'https://arxiv.org/abs/2112.12731',\n",
       " 'https://arxiv.org/abs/2112.06905',\n",
       " 'https://arxiv.org/abs/2203.15556',\n",
       " 'https://arxiv.org/abs/2204.02311',\n",
       " 'https://arxiv.org/abs/2208.01448',\n",
       " 'https://arxiv.org/abs/2209.10372',\n",
       " 'https://arxiv.org/abs/2210.11399',\n",
       " 'https://arxiv.org/abs/2210.11416',\n",
       " 'https://arxiv.org/abs/2210.11416',\n",
       " 'https://arxiv.org/abs/2303.10845',\n",
       " 'https://arxiv.org/abs/1910.10683',\n",
       " 'https://arxiv.org/abs/2010.11934',\n",
       " 'https://arxiv.org/abs/2104.12369',\n",
       " 'https://arxiv.org/abs/2106.10715',\n",
       " 'https://arxiv.org/abs/2110.08207',\n",
       " 'https://arxiv.org/abs/2204.06745',\n",
       " 'https://arxiv.org/abs/2203.13474',\n",
       " 'https://arxiv.org/abs/2204.07705',\n",
       " 'https://arxiv.org/abs/2205.05131',\n",
       " 'https://arxiv.org/abs/2205.01068',\n",
       " 'https://arxiv.org/abs/2207.04672',\n",
       " 'https://arxiv.org/abs/2211.05100',\n",
       " 'https://arxiv.org/abs/2210.02414',\n",
       " 'https://arxiv.org/abs/2210.11416',\n",
       " 'https://arxiv.org/abs/2211.01786',\n",
       " 'https://arxiv.org/abs/2211.09085',\n",
       " 'https://arxiv.org/abs/2212.12017',\n",
       " 'https://arxiv.org/abs/2303.17568',\n",
       " 'https://arxiv.org/abs/2304.01373',\n",
       " 'https://arxiv.org/abs/2302.13971',\n",
       " 'https://arxiv.org/abs/2005.14165',\n",
       " 'https://arxiv.org/abs/2201.08239',\n",
       " 'https://arxiv.org/abs/2109.04650',\n",
       " 'https://arxiv.org/abs/2107.03374',\n",
       " 'https://arxiv.org/abs/2107.02137',\n",
       " 'https://arxiv.org/abs/2109.01652',\n",
       " 'https://arxiv.org/abs/2201.11990',\n",
       " 'https://arxiv.org/abs/2110.04725',\n",
       " 'https://arxiv.org/abs/2112.00861',\n",
       " 'https://arxiv.org/abs/2112.09332',\n",
       " 'https://arxiv.org/abs/2112.12731',\n",
       " 'https://arxiv.org/abs/2112.06905',\n",
       " 'https://arxiv.org/abs/2203.15556',\n",
       " 'https://arxiv.org/abs/2204.02311',\n",
       " 'https://arxiv.org/abs/2208.01448',\n",
       " 'https://arxiv.org/abs/2209.10372',\n",
       " 'https://arxiv.org/abs/2210.11399',\n",
       " 'https://arxiv.org/abs/2210.11416',\n",
       " 'https://arxiv.org/abs/2303.10845',\n",
       " 'https://arxiv.org/abs/2303.03915',\n",
       " 'https://arxiv.org/abs/1910.03771',\n",
       " 'https://arxiv.org/abs/1909.08053',\n",
       " 'https://arxiv.org/abs/2103.13262',\n",
       " 'https://arxiv.org/abs/1912.01703',\n",
       " 'https://arxiv.org/abs/1605.08695',\n",
       " 'https://arxiv.org/abs/1512.01274',\n",
       " 'https://arxiv.org/abs/2110.15032',\n",
       " 'https://arxiv.org/abs/2303.03915',\n",
       " 'https://arxiv.org/abs/2107.06499',\n",
       " 'https://arxiv.org/abs/2202.06539',\n",
       " 'https://arxiv.org/abs/2205.10487',\n",
       " 'https://arxiv.org/abs/2305.13169',\n",
       " 'https://arxiv.org/abs/2212.14052',\n",
       " 'https://arxiv.org/abs/2105.13290',\n",
       " 'https://arxiv.org/abs/1910.10683',\n",
       " 'https://arxiv.org/abs/2212.10554',\n",
       " 'https://arxiv.org/abs/1911.02150',\n",
       " 'https://arxiv.org/abs/2205.14135',\n",
       " 'https://arxiv.org/abs/2305.06161',\n",
       " 'https://arxiv.org/abs/1901.11504',\n",
       " 'https://arxiv.org/abs/1910.10683',\n",
       " 'https://arxiv.org/abs/2101.11038',\n",
       " 'https://arxiv.org/abs/2104.08773',\n",
       " 'https://arxiv.org/abs/2109.01652',\n",
       " 'https://arxiv.org/abs/2110.08207',\n",
       " 'https://arxiv.org/abs/2202.01279',\n",
       " 'https://arxiv.org/abs/2203.02155',\n",
       " 'https://arxiv.org/abs/2204.07705',\n",
       " 'https://arxiv.org/abs/2206.12131',\n",
       " 'https://arxiv.org/abs/2211.01786',\n",
       " 'https://arxiv.org/abs/2210.11416',\n",
       " 'https://arxiv.org/abs/2212.09689',\n",
       " 'https://arxiv.org/abs/2212.10560',\n",
       " 'https://arxiv.org/abs/2212.12017',\n",
       " 'https://arxiv.org/abs/2301.13688',\n",
       " 'https://arxiv.org/abs/2303.10475',\n",
       " 'https://arxiv.org/abs/2305.09246',\n",
       " 'https://arxiv.org/abs/2305.11206',\n",
       " 'https://arxiv.org/abs/1701.06049',\n",
       " 'https://arxiv.org/abs/1706.03741',\n",
       " 'https://arxiv.org/abs/1709.10163',\n",
       " 'https://arxiv.org/abs/1909.08593',\n",
       " 'https://arxiv.org/abs/2009.01325',\n",
       " 'https://arxiv.org/abs/2103.14659',\n",
       " 'https://arxiv.org/abs/2109.10862',\n",
       " 'https://arxiv.org/abs/2112.00861',\n",
       " 'https://arxiv.org/abs/2112.09332',\n",
       " 'https://arxiv.org/abs/2203.02155',\n",
       " 'https://arxiv.org/abs/2203.11147',\n",
       " 'https://arxiv.org/abs/2204.05862',\n",
       " 'https://arxiv.org/abs/2208.02294',\n",
       " 'https://arxiv.org/abs/2209.07858',\n",
       " 'https://arxiv.org/abs/2209.14375',\n",
       " 'https://arxiv.org/abs/2210.01241',\n",
       " 'https://arxiv.org/abs/2210.10760',\n",
       " 'https://arxiv.org/abs/2302.05206',\n",
       " 'https://arxiv.org/abs/2304.06767',\n",
       " 'https://arxiv.org/abs/1902.00751',\n",
       " 'https://arxiv.org/abs/2005.00052',\n",
       " 'https://arxiv.org/abs/2010.15980',\n",
       " 'https://arxiv.org/abs/2101.00190',\n",
       " 'https://arxiv.org/abs/2103.10385',\n",
       " 'https://arxiv.org/abs/2106.09685',\n",
       " 'https://arxiv.org/abs/2110.04366',\n",
       " 'https://arxiv.org/abs/2110.07602',\n",
       " 'https://arxiv.org/abs/2210.07558',\n",
       " 'https://arxiv.org/abs/2303.10512',\n",
       " 'https://arxiv.org/abs/2303.16199',\n",
       " 'https://arxiv.org/abs/2304.01933',\n",
       " 'https://arxiv.org/abs/2103.13630',\n",
       " 'https://arxiv.org/abs/2110.02861',\n",
       " 'https://arxiv.org/abs/2203.10705',\n",
       " 'https://arxiv.org/abs/2206.01861',\n",
       " 'https://arxiv.org/abs/2208.07339',\n",
       " 'https://arxiv.org/abs/2210.17323',\n",
       " 'https://arxiv.org/abs/2211.10438',\n",
       " 'https://arxiv.org/abs/2212.09720',\n",
       " 'https://arxiv.org/abs/2303.08302',\n",
       " 'https://arxiv.org/abs/2305.14314',\n",
       " 'https://arxiv.org/abs/2305.17888',\n",
       " 'https://arxiv.org/abs/2306.00978',\n",
       " 'https://arxiv.org/abs/2203.11364',\n",
       " 'https://arxiv.org/abs/2101.06804',\n",
       " 'https://arxiv.org/abs/2112.08633',\n",
       " 'https://arxiv.org/abs/2212.06800',\n",
       " 'https://arxiv.org/abs/2212.04037',\n",
       " 'https://arxiv.org/abs/2211.04486',\n",
       " 'https://arxiv.org/abs/2212.10375',\n",
       " 'https://arxiv.org/abs/2104.08786',\n",
       " 'https://arxiv.org/abs/2212.06713',\n",
       " 'https://arxiv.org/abs/2205.03401',\n",
       " 'https://arxiv.org/abs/2104.08773',\n",
       " 'https://arxiv.org/abs/2212.10873',\n",
       " 'https://arxiv.org/abs/2111.02080',\n",
       " 'https://arxiv.org/abs/2102.09690',\n",
       " 'https://arxiv.org/abs/2205.05055',\n",
       " 'https://arxiv.org/abs/2204.13509',\n",
       " 'https://arxiv.org/abs/2202.12837',\n",
       " 'https://arxiv.org/abs/2212.09095',\n",
       " 'https://arxiv.org/abs/2301.07067',\n",
       " 'https://arxiv.org/abs/2212.07677',\n",
       " 'https://arxiv.org/abs/2211.15661',\n",
       " 'https://arxiv.org/abs/2301.00234',\n",
       " 'https://arxiv.org/abs/2305.09731',\n",
       " 'https://arxiv.org/abs/2303.07895',\n",
       " 'https://arxiv.org/abs/2303.03846',\n",
       " 'https://arxiv.org/abs/2305.12907',\n",
       " 'https://arxiv.org/abs/2305.08298',\n",
       " 'https://arxiv.org/abs/2210.03493',\n",
       " 'https://arxiv.org/abs/2201.11903',\n",
       " 'https://arxiv.org/abs/2203.14465',\n",
       " 'https://arxiv.org/abs/2205.11916',\n",
       " 'https://arxiv.org/abs/2210.00720',\n",
       " 'https://arxiv.org/abs/2210.03057',\n",
       " 'https://arxiv.org/abs/2207.00747',\n",
       " 'https://arxiv.org/abs/2205.10625',\n",
       " 'https://arxiv.org/abs/2302.00923',\n",
       " 'https://arxiv.org/abs/2203.11171',\n",
       " 'https://arxiv.org/abs/2210.11610',\n",
       " 'https://arxiv.org/abs/2110.14168',\n",
       " 'https://arxiv.org/abs/2206.02336',\n",
       " 'https://arxiv.org/abs/2212.09561',\n",
       " 'https://arxiv.org/abs/2212.08410',\n",
       " 'https://arxiv.org/abs/2212.10071',\n",
       " 'https://arxiv.org/abs/2205.03401',\n",
       " 'https://arxiv.org/abs/2210.11416',\n",
       " 'https://arxiv.org/abs/2206.14858',\n",
       " 'https://arxiv.org/abs/2209.07686',\n",
       " 'https://arxiv.org/abs/2212.09597',\n",
       " 'https://arxiv.org/abs/2212.10403',\n",
       " 'https://arxiv.org/abs/2305.04091',\n",
       " 'https://arxiv.org/abs/2209.11302',\n",
       " 'https://arxiv.org/abs/2305.10601',\n",
       " 'https://arxiv.org/abs/2305.16291',\n",
       " 'https://arxiv.org/abs/2303.11366',\n",
       " 'https://arxiv.org/abs/2305.01795',\n",
       " 'https://arxiv.org/abs/2303.06689',\n",
       " 'https://arxiv.org/abs/2302.04761',\n",
       " 'https://arxiv.org/abs/2303.17580',\n",
       " 'https://arxiv.org/abs/2301.13379',\n",
       " 'https://arxiv.org/abs/2304.11477',\n",
       " 'https://arxiv.org/abs/2305.14992',\n",
       " 'https://arxiv.org/abs/2304.03442',\n",
       " 'https://arxiv.org/abs/2305.14323',\n",
       " 'https://arxiv.org/abs/2302.01560',\n",
       " 'https://arxiv.org/abs/2305.16653',\n",
       " 'https://arxiv.org/abs/2206.04615',\n",
       " 'https://arxiv.org/abs/2208.03299',\n",
       " 'https://arxiv.org/abs/2210.11610',\n",
       " 'https://arxiv.org/abs/2211.09110',\n",
       " 'https://arxiv.org/abs/2211.10435',\n",
       " 'https://arxiv.org/abs/2212.09561',\n",
       " 'https://arxiv.org/abs/2301.07597',\n",
       " 'https://arxiv.org/abs/2301.08745',\n",
       " 'https://arxiv.org/abs/2301.12127',\n",
       " 'https://arxiv.org/abs/2301.13867',\n",
       " 'https://arxiv.org/abs/2302.02662',\n",
       " 'https://arxiv.org/abs/2302.03494',\n",
       " 'https://arxiv.org/abs/2302.10198',\n",
       " 'https://arxiv.org/abs/2302.10205',\n",
       " 'https://arxiv.org/abs/2302.12095',\n",
       " 'https://arxiv.org/abs/2302.13814',\n",
       " 'https://arxiv.org/abs/2303.01248',\n",
       " 'https://arxiv.org/abs/2303.03186',\n",
       " 'https://arxiv.org/abs/2303.03836',\n",
       " 'https://arxiv.org/abs/2303.07992',\n",
       " 'https://arxiv.org/abs/2303.09461',\n",
       " 'https://arxiv.org/abs/2303.10420',\n",
       " 'https://arxiv.org/abs/2303.13001',\n",
       " 'https://arxiv.org/abs/2303.13375',\n",
       " 'https://arxiv.org/abs/2303.12767',\n",
       " 'https://arxiv.org/abs/2303.15727',\n",
       " 'https://arxiv.org/abs/2303.17003',\n",
       " 'https://arxiv.org/abs/2303.17276',\n",
       " 'https://arxiv.org/abs/2303.17322',\n",
       " 'https://arxiv.org/abs/2305.02182',\n",
       " 'https://arxiv.org/abs/2305.13172',\n",
       " 'https://arxiv.org/abs/2301.12867',\n",
       " 'https://arxiv.org/abs/2301.12868',\n",
       " 'https://arxiv.org/abs/2305.18486']"
      ]
     },
     "execution_count": 5,
     "metadata": {},
     "output_type": "execute_result"
    }
   ],
   "source": [
    "links_to_scrap"
   ]
  },
  {
   "cell_type": "code",
   "execution_count": 11,
   "id": "a7aa81bc",
   "metadata": {},
   "outputs": [],
   "source": [
    "from llama_index import SimpleDirectoryReader, VectorStoreIndex"
   ]
  },
  {
   "cell_type": "code",
   "execution_count": 5,
   "id": "3b14f217",
   "metadata": {},
   "outputs": [],
   "source": [
    "reader = SimpleDirectoryReader(input_dir=\"./textdata/\")"
   ]
  },
  {
   "cell_type": "code",
   "execution_count": 8,
   "id": "fe4884fb",
   "metadata": {},
   "outputs": [],
   "source": [
    "docs = reader.load_data()"
   ]
  },
  {
   "cell_type": "code",
   "execution_count": 12,
   "id": "b254965b",
   "metadata": {},
   "outputs": [],
   "source": [
    "index = VectorStoreIndex.from_documents(docs)"
   ]
  },
  {
   "cell_type": "code",
   "execution_count": 15,
   "id": "28c3bdb3",
   "metadata": {},
   "outputs": [],
   "source": [
    "from llama_index import ServiceContext, LLMPredictor, OpenAIEmbedding, PromptHelper\n",
    "from llama_index.llms import OpenAI\n",
    "from llama_index.text_splitter import TokenTextSplitter\n",
    "from llama_index.node_parser import SimpleNodeParser\n",
    "\n",
    "llm = OpenAI(model=\"gpt-3.5-turbo\", temperature=0)\n",
    "embed_model = OpenAIEmbedding()\n",
    "node_parser = SimpleNodeParser(\n",
    "  text_splitter=TokenTextSplitter(chunk_size=512, chunk_overlap=100)\n",
    ")\n",
    "# prompt_helper = PromptHelper(\n",
    "#   context_window=4096, \n",
    "#   num_output=256, \n",
    "#   chunk_overlap_ratio=0.1, \n",
    "#   chunk_size_limit=None\n",
    "# )\n",
    "\n",
    "service_context = ServiceContext.from_defaults(\n",
    "  llm=llm,\n",
    "  embed_model=embed_model,\n",
    "  node_parser=node_parser,\n",
    ")"
   ]
  },
  {
   "cell_type": "code",
   "execution_count": 17,
   "id": "c55bc911",
   "metadata": {},
   "outputs": [],
   "source": [
    "query_engine = index.as_query_engine(service_context = service_context)"
   ]
  },
  {
   "cell_type": "code",
   "execution_count": 35,
   "id": "2b53a97b",
   "metadata": {},
   "outputs": [],
   "source": [
    "response = query_engine.query(\"alternatives to Chinchilla scaling laws?\")"
   ]
  },
  {
   "cell_type": "markdown",
   "id": "843efc9a",
   "metadata": {},
   "source": [
    "## Functions"
   ]
  },
  {
   "cell_type": "code",
   "execution_count": 16,
   "id": "2544dd97",
   "metadata": {},
   "outputs": [],
   "source": [
    "from PyPDF2 import PdfReader\n",
    "from glob import glob\n",
    "import markdown\n",
    "import re\n",
    "import arxiv\n",
    "from tqdm import tqdm \n",
    "import os\n",
    "def extract_arxivlinks_md(filename:str):\n",
    "    \n",
    "    with open(filename) as file:\n",
    "        item = file.read()\n",
    "    md_file = markdown.markdown(item)\n",
    "    links_to_scrap = (re.findall(r'https://arxiv.org/abs/\\d+\\.\\d+',md_file))\n",
    "    return [file.split('/')[-1] for file in links_to_scrap]\n",
    "\n",
    "\n",
    "def download_arxiv(id_list:list,dirpath=\"./\"):\n",
    "    \n",
    "    search = arxiv.Search(id_list=id_list)\n",
    "    print(f\"Downloading {len(id_list)} papers..\")\n",
    "    for paper in tqdm(search.results()):\n",
    "        paper.download_pdf(dirpath)\n",
    "    print(\"DONE..let's rock!\")\n",
    "    \n",
    "def pdf_to_text(from_dir:str,to_dir:str):\n",
    "    \n",
    "    pdfs = glob(f\"{from_dir}/*.pdf\")\n",
    "    print(\"Convering pdf to texts...\")\n",
    "    for file in tqdm(pdfs):\n",
    "        pdf_reader = PdfReader(file)\n",
    "        text = \"\"\n",
    "        for page_num in range(len(pdf_reader.pages)):\n",
    "            text = text + \"\\n\\n\" + pdf_reader.pages[page_num].extract_text()\n",
    "        name = os.path.join(to_dir,file.split('/')[-1][:-4])\n",
    "        with open(name,\"w\") as file:\n",
    "            file.write(text)\n",
    "                \n",
    "    print(\"Done...\")\n"
   ]
  },
  {
   "cell_type": "code",
   "execution_count": 17,
   "id": "6106c74c",
   "metadata": {},
   "outputs": [
    {
     "name": "stdout",
     "output_type": "stream",
     "text": [
      "Convering pdf to texts...\n"
     ]
    },
    {
     "name": "stderr",
     "output_type": "stream",
     "text": [
      "100%|████████████████████████████████████████████████████| 3/3 [00:07<00:00,  2.36s/it]"
     ]
    },
    {
     "name": "stdout",
     "output_type": "stream",
     "text": [
      "Done...\n"
     ]
    },
    {
     "name": "stderr",
     "output_type": "stream",
     "text": [
      "\n"
     ]
    }
   ],
   "source": [
    "# filename = \"assets/llm_survey.md\"\n",
    "# files = extract_arxivlinks_md(filename)\n",
    "# download_arxiv(files[:3],dirpath=\"./pdfdata\")\n",
    "pdf_to_text(\"./pdfdata\",\"./textdata\")"
   ]
  },
  {
   "cell_type": "code",
   "execution_count": null,
   "id": "de19111b",
   "metadata": {},
   "outputs": [],
   "source": []
  }
 ],
 "metadata": {
  "kernelspec": {
   "display_name": "Alerts",
   "language": "python",
   "name": "alerts"
  },
  "language_info": {
   "codemirror_mode": {
    "name": "ipython",
    "version": 3
   },
   "file_extension": ".py",
   "mimetype": "text/x-python",
   "name": "python",
   "nbconvert_exporter": "python",
   "pygments_lexer": "ipython3",
   "version": "3.8.13"
  }
 },
 "nbformat": 4,
 "nbformat_minor": 5
}
