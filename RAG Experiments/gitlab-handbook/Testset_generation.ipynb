{
 "cells": [
  {
   "cell_type": "code",
   "execution_count": 1,
   "id": "c2589bb3",
   "metadata": {},
   "outputs": [
    {
     "name": "stdout",
     "output_type": "stream",
     "text": [
      "\u001b[1;36m./data/handbook/communication/\u001b[00m\r\n",
      "├── _index.md\r\n",
      "├── ally-resources.md\r\n",
      "├── ask-me-anything.md\r\n",
      "├── chat.md\r\n",
      "├── confidentiality-levels.md\r\n",
      "├── deep-dives.md\r\n",
      "├── power-of-the-pause.md\r\n",
      "├── top-misused-terms.md\r\n",
      "├── video-playbook.md\r\n",
      "└── \u001b[1;36mzoom\u001b[00m\r\n",
      "    ├── _index.md\r\n",
      "    └── webinars.md\r\n",
      "\r\n",
      "1 directory, 11 files\r\n"
     ]
    }
   ],
   "source": [
    "!tree ./data/handbook/communication/"
   ]
  },
  {
   "cell_type": "markdown",
   "id": "dbc74482",
   "metadata": {},
   "source": [
    "### Read documents "
   ]
  },
  {
   "cell_type": "code",
   "execution_count": 2,
   "id": "333097c5",
   "metadata": {},
   "outputs": [
    {
     "data": {
      "text/plain": [
       "205"
      ]
     },
     "execution_count": 2,
     "metadata": {},
     "output_type": "execute_result"
    }
   ],
   "source": [
    "from llama_index import SimpleDirectoryReader\n",
    "\n",
    "reader = SimpleDirectoryReader('./data/handbook/communication/', recursive=True)\n",
    "docs = reader.load_data()\n",
    "\n",
    "len(docs)"
   ]
  },
  {
   "cell_type": "markdown",
   "id": "423ae9be",
   "metadata": {},
   "source": [
    "## Pass documents and test size"
   ]
  },
  {
   "cell_type": "code",
   "execution_count": 3,
   "id": "4f605077",
   "metadata": {},
   "outputs": [
    {
     "name": "stderr",
     "output_type": "stream",
     "text": [
      "/opt/anaconda3/envs/ragas/lib/python3.10/site-packages/tqdm/auto.py:21: TqdmWarning: IProgress not found. Please update jupyter and ipywidgets. See https://ipywidgets.readthedocs.io/en/stable/user_install.html\n",
      "  from .autonotebook import tqdm as notebook_tqdm\n"
     ]
    }
   ],
   "source": [
    "from ragas.testset.testset_generator import TestsetGenerator"
   ]
  },
  {
   "cell_type": "code",
   "execution_count": 4,
   "id": "e1d2b53b",
   "metadata": {},
   "outputs": [],
   "source": [
    "test_genertor = TestsetGenerator.from_default()"
   ]
  },
  {
   "cell_type": "code",
   "execution_count": 5,
   "id": "a7cfbc59",
   "metadata": {},
   "outputs": [
    {
     "name": "stderr",
     "output_type": "stream",
     "text": [
      "15it [01:47,  7.20s/it]                                                                 \n"
     ]
    }
   ],
   "source": [
    "test_dataset = test_genertor.generate(docs,test_size=5)"
   ]
  },
  {
   "cell_type": "code",
   "execution_count": 6,
   "id": "731adb20",
   "metadata": {},
   "outputs": [
    {
     "data": {
      "text/html": [
       "<div>\n",
       "<style scoped>\n",
       "    .dataframe tbody tr th:only-of-type {\n",
       "        vertical-align: middle;\n",
       "    }\n",
       "\n",
       "    .dataframe tbody tr th {\n",
       "        vertical-align: top;\n",
       "    }\n",
       "\n",
       "    .dataframe thead th {\n",
       "        text-align: right;\n",
       "    }\n",
       "</style>\n",
       "<table border=\"1\" class=\"dataframe\">\n",
       "  <thead>\n",
       "    <tr style=\"text-align: right;\">\n",
       "      <th></th>\n",
       "      <th>question</th>\n",
       "      <th>context</th>\n",
       "      <th>answer</th>\n",
       "      <th>question_type</th>\n",
       "      <th>episode_done</th>\n",
       "    </tr>\n",
       "  </thead>\n",
       "  <tbody>\n",
       "    <tr>\n",
       "      <th>0</th>\n",
       "      <td>How does having a positive attitude affect you...</td>\n",
       "      <td>- A shift in perspective or change in attitude...</td>\n",
       "      <td>Having a positive attitude can greatly affect ...</td>\n",
       "      <td>reasoning</td>\n",
       "      <td>False</td>\n",
       "    </tr>\n",
       "    <tr>\n",
       "      <th>1</th>\n",
       "      <td>In what ways does a change in attitude influen...</td>\n",
       "      <td>- A shift in perspective or change in attitude...</td>\n",
       "      <td>A change in attitude can influence the respons...</td>\n",
       "      <td>reasoning</td>\n",
       "      <td>True</td>\n",
       "    </tr>\n",
       "    <tr>\n",
       "      <th>2</th>\n",
       "      <td>What is the purpose of Project Channels and Wo...</td>\n",
       "      <td>- These channels are temporary and used to foc...</td>\n",
       "      <td>The purpose of Project Channels and Working Gr...</td>\n",
       "      <td>simple</td>\n",
       "      <td>True</td>\n",
       "    </tr>\n",
       "    <tr>\n",
       "      <th>3</th>\n",
       "      <td>What types of information are restricted under...</td>\n",
       "      <td>- Content that would violate confidentiality f...</td>\n",
       "      <td>The types of information that are restricted u...</td>\n",
       "      <td>simple</td>\n",
       "      <td>True</td>\n",
       "    </tr>\n",
       "    <tr>\n",
       "      <th>4</th>\n",
       "      <td>What is the significance of using Simple Langu...</td>\n",
       "      <td>Simple Language is meant to encourage everyone...</td>\n",
       "      <td>The significance of using Simple Language in c...</td>\n",
       "      <td>conditional</td>\n",
       "      <td>True</td>\n",
       "    </tr>\n",
       "    <tr>\n",
       "      <th>5</th>\n",
       "      <td>What is the purpose of the location-specific c...</td>\n",
       "      <td>These channels are used to help GitLab team-me...</td>\n",
       "      <td>The purpose of the location-specific channels ...</td>\n",
       "      <td>simple</td>\n",
       "      <td>True</td>\n",
       "    </tr>\n",
       "  </tbody>\n",
       "</table>\n",
       "</div>"
      ],
      "text/plain": [
       "                                            question  \\\n",
       "0  How does having a positive attitude affect you...   \n",
       "1  In what ways does a change in attitude influen...   \n",
       "2  What is the purpose of Project Channels and Wo...   \n",
       "3  What types of information are restricted under...   \n",
       "4  What is the significance of using Simple Langu...   \n",
       "5  What is the purpose of the location-specific c...   \n",
       "\n",
       "                                             context  \\\n",
       "0  - A shift in perspective or change in attitude...   \n",
       "1  - A shift in perspective or change in attitude...   \n",
       "2  - These channels are temporary and used to foc...   \n",
       "3  - Content that would violate confidentiality f...   \n",
       "4  Simple Language is meant to encourage everyone...   \n",
       "5  These channels are used to help GitLab team-me...   \n",
       "\n",
       "                                              answer question_type  \\\n",
       "0  Having a positive attitude can greatly affect ...     reasoning   \n",
       "1  A change in attitude can influence the respons...     reasoning   \n",
       "2  The purpose of Project Channels and Working Gr...        simple   \n",
       "3  The types of information that are restricted u...        simple   \n",
       "4  The significance of using Simple Language in c...   conditional   \n",
       "5  The purpose of the location-specific channels ...        simple   \n",
       "\n",
       "   episode_done  \n",
       "0         False  \n",
       "1          True  \n",
       "2          True  \n",
       "3          True  \n",
       "4          True  \n",
       "5          True  "
      ]
     },
     "execution_count": 6,
     "metadata": {},
     "output_type": "execute_result"
    }
   ],
   "source": [
    "test_dataset.to_pandas()\n"
   ]
  },
  {
   "cell_type": "code",
   "execution_count": null,
   "id": "9dad1ca7",
   "metadata": {},
   "outputs": [],
   "source": []
  }
 ],
 "metadata": {
  "kernelspec": {
   "display_name": "ragas",
   "language": "python",
   "name": "ragas"
  },
  "language_info": {
   "codemirror_mode": {
    "name": "ipython",
    "version": 3
   },
   "file_extension": ".py",
   "mimetype": "text/x-python",
   "name": "python",
   "nbconvert_exporter": "python",
   "pygments_lexer": "ipython3",
   "version": "3.10.8"
  }
 },
 "nbformat": 4,
 "nbformat_minor": 5
}
