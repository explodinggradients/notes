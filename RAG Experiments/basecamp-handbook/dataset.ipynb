{
 "cells": [
  {
   "cell_type": "code",
   "execution_count": 1,
   "metadata": {},
   "outputs": [],
   "source": [
    "%load_ext autoreload\n",
    "%autoreload 2"
   ]
  },
  {
   "cell_type": "markdown",
   "metadata": {},
   "source": [
    "# The Dataset: Basecamp Handbook\n",
    "\n",
    "(give the resources and intro here)"
   ]
  },
  {
   "cell_type": "code",
   "execution_count": 2,
   "metadata": {},
   "outputs": [
    {
     "name": "stdout",
     "output_type": "stream",
     "text": [
      "\u001b[01;34mdata/\u001b[0m\n",
      "├── 37signals-is-you.md\n",
      "├── benefits-and-perks.md\n",
      "├── code-of-conduct.md\n",
      "├── faq.md\n",
      "├── getting-started.md\n",
      "├── how-we-work.md\n",
      "├── international-travel-guide.md\n",
      "├── LICENSE.md\n",
      "├── making-a-career.md\n",
      "├── managing-work-devices.md\n",
      "├── moonlighting.md\n",
      "├── our-internal-systems.md\n",
      "├── our-rituals.md\n",
      "├── performance-plans.md\n",
      "├── product-histories.md\n",
      "├── README.md\n",
      "├── stateFMLA.md\n",
      "├── titles-for-data.md\n",
      "├── titles-for-designers.md\n",
      "├── titles-for-ops.md\n",
      "├── titles-for-programmers.md\n",
      "├── titles-for-support.md\n",
      "├── vocabulary.md\n",
      "├── what-influenced-us.md\n",
      "├── what-we-stand-for.md\n",
      "└── where-we-work.md\n",
      "\n",
      "0 directories, 26 files\n"
     ]
    }
   ],
   "source": [
    "!tree data/"
   ]
  },
  {
   "cell_type": "markdown",
   "metadata": {},
   "source": [
    "## Generate Synthetic Testset\n",
    "\n",
    "1. load the data as documents\n",
    "2. generate the testset\n",
    "3. upload and verify it with langsmith\n",
    "4. good to go"
   ]
  },
  {
   "cell_type": "code",
   "execution_count": 6,
   "metadata": {},
   "outputs": [
    {
     "data": {
      "text/plain": [
       "26"
      ]
     },
     "execution_count": 6,
     "metadata": {},
     "output_type": "execute_result"
    }
   ],
   "source": [
    "from langchain.document_loaders import DirectoryLoader\n",
    "loader = DirectoryLoader(\"./data/\")\n",
    "documents = loader.load()\n",
    "\n",
    "# add filename as metadata\n",
    "for document in documents:\n",
    "    document.metadata['file_name'] = document.metadata['source']\n",
    "\n",
    "docs = documents\n",
    "# how many docs do we have\n",
    "len(docs)"
   ]
  },
  {
   "cell_type": "code",
   "execution_count": 7,
   "metadata": {},
   "outputs": [
    {
     "data": {
      "application/vnd.jupyter.widget-view+json": {
       "model_id": "609681d7ff3345f991063e9560ec5201",
       "version_major": 2,
       "version_minor": 0
      },
      "text/plain": [
       "embedding nodes:   0%|          | 0/70 [00:00<?, ?it/s]"
      ]
     },
     "metadata": {},
     "output_type": "display_data"
    },
    {
     "name": "stderr",
     "output_type": "stream",
     "text": [
      "Filename and doc_id are the same for all nodes.\n"
     ]
    },
    {
     "data": {
      "application/vnd.jupyter.widget-view+json": {
       "model_id": "ef78e9dd8a2e4aa4956a0ef71cdf3041",
       "version_major": 2,
       "version_minor": 0
      },
      "text/plain": [
       "Generating:   0%|          | 0/7 [00:00<?, ?it/s]"
      ]
     },
     "metadata": {},
     "output_type": "display_data"
    }
   ],
   "source": [
    "# create the TestsetGenerator\n",
    "from ragas.testset.generator import TestsetGenerator\n",
    "from ragas.testset.evolutions import simple, reasoning, multi_context\n",
    "\n",
    "# generator with openai models\n",
    "generator = TestsetGenerator.with_openai()\n",
    "\n",
    "# generate testset\n",
    "testset = generator.generate_with_langchain_docs(\n",
    "    documents, \n",
    "    test_size=6, \n",
    "    distributions={simple: 0.5, reasoning: 0.25, multi_context: 0.25}\n",
    ")"
   ]
  },
  {
   "cell_type": "code",
   "execution_count": 8,
   "metadata": {},
   "outputs": [
    {
     "data": {
      "text/html": [
       "<div>\n",
       "<style scoped>\n",
       "    .dataframe tbody tr th:only-of-type {\n",
       "        vertical-align: middle;\n",
       "    }\n",
       "\n",
       "    .dataframe tbody tr th {\n",
       "        vertical-align: top;\n",
       "    }\n",
       "\n",
       "    .dataframe thead th {\n",
       "        text-align: right;\n",
       "    }\n",
       "</style>\n",
       "<table border=\"1\" class=\"dataframe\">\n",
       "  <thead>\n",
       "    <tr style=\"text-align: right;\">\n",
       "      <th></th>\n",
       "      <th>question</th>\n",
       "      <th>contexts</th>\n",
       "      <th>ground_truth</th>\n",
       "      <th>evolution_type</th>\n",
       "      <th>episode_done</th>\n",
       "    </tr>\n",
       "  </thead>\n",
       "  <tbody>\n",
       "    <tr>\n",
       "      <th>0</th>\n",
       "      <td>What is the value of being straightforward in ...</td>\n",
       "      <td>[What We Stand For\\n\\nValues\\n\\nBefore anythin...</td>\n",
       "      <td>Being straightforward in the company's approac...</td>\n",
       "      <td>simple</td>\n",
       "      <td>True</td>\n",
       "    </tr>\n",
       "    <tr>\n",
       "      <th>1</th>\n",
       "      <td>How does 37signals determine pay and promotions?</td>\n",
       "      <td>[Making A Career\\n\\nYour First 90 Days\\n\\nCong...</td>\n",
       "      <td>37signals determines pay based on Radford mark...</td>\n",
       "      <td>simple</td>\n",
       "      <td>True</td>\n",
       "    </tr>\n",
       "    <tr>\n",
       "      <th>2</th>\n",
       "      <td>What is the significance of limiting the work ...</td>\n",
       "      <td>[als better.\\n\\nAs soon as organizational bott...</td>\n",
       "      <td>Limiting the work week to 40 hours helps prior...</td>\n",
       "      <td>simple</td>\n",
       "      <td>True</td>\n",
       "    </tr>\n",
       "    <tr>\n",
       "      <th>3</th>\n",
       "      <td>How does a presentable scope of work contribut...</td>\n",
       "      <td>[How We Work\\n\\nCycles\\n\\nWe work in 6-week or...</td>\n",
       "      <td>A presentable scope of work contributes to eff...</td>\n",
       "      <td>reasoning</td>\n",
       "      <td>True</td>\n",
       "    </tr>\n",
       "    <tr>\n",
       "      <th>4</th>\n",
       "      <td>What are the responsibilities and qualificatio...</td>\n",
       "      <td>[Titles for Data Analysts\\n\\nWe use the follow...</td>\n",
       "      <td>The responsibilities of a Lead Data Analyst at...</td>\n",
       "      <td>reasoning</td>\n",
       "      <td>True</td>\n",
       "    </tr>\n",
       "  </tbody>\n",
       "</table>\n",
       "</div>"
      ],
      "text/plain": [
       "                                            question  \\\n",
       "0  What is the value of being straightforward in ...   \n",
       "1   How does 37signals determine pay and promotions?   \n",
       "2  What is the significance of limiting the work ...   \n",
       "3  How does a presentable scope of work contribut...   \n",
       "4  What are the responsibilities and qualificatio...   \n",
       "\n",
       "                                            contexts  \\\n",
       "0  [What We Stand For\\n\\nValues\\n\\nBefore anythin...   \n",
       "1  [Making A Career\\n\\nYour First 90 Days\\n\\nCong...   \n",
       "2  [als better.\\n\\nAs soon as organizational bott...   \n",
       "3  [How We Work\\n\\nCycles\\n\\nWe work in 6-week or...   \n",
       "4  [Titles for Data Analysts\\n\\nWe use the follow...   \n",
       "\n",
       "                                        ground_truth evolution_type  \\\n",
       "0  Being straightforward in the company's approac...         simple   \n",
       "1  37signals determines pay based on Radford mark...         simple   \n",
       "2  Limiting the work week to 40 hours helps prior...         simple   \n",
       "3  A presentable scope of work contributes to eff...      reasoning   \n",
       "4  The responsibilities of a Lead Data Analyst at...      reasoning   \n",
       "\n",
       "   episode_done  \n",
       "0          True  \n",
       "1          True  \n",
       "2          True  \n",
       "3          True  \n",
       "4          True  "
      ]
     },
     "execution_count": 8,
     "metadata": {},
     "output_type": "execute_result"
    }
   ],
   "source": [
    "test_df = testset.to_pandas()\n",
    "test_df.head()"
   ]
  },
  {
   "cell_type": "code",
   "execution_count": null,
   "metadata": {},
   "outputs": [],
   "source": [
    "from ragas.integrations.langsmith import upload_dataset\n",
    "\n",
    "dataset_name = \"basecamp\"\n",
    "dataset_desc = \"Synthetic testset data for basecamp\"\n",
    "\n",
    "upload_dataset(testset, dataset_name, dataset_desc)"
   ]
  },
  {
   "cell_type": "code",
   "execution_count": null,
   "metadata": {},
   "outputs": [],
   "source": [
    "from langsmith import Client\n",
    "from langsmith.utils import LangSmithNotFoundError\n",
    "\n",
    "client = Client()"
   ]
  },
  {
   "cell_type": "code",
   "execution_count": null,
   "metadata": {},
   "outputs": [],
   "source": [
    "# upload to langsmith\n",
    "\n",
    "try:\n",
    "    # check if dataset exists\n",
    "    dataset = client.read_dataset(dataset_name=dataset_name)\n",
    "    print(\"using existing dataset: \", dataset.name)\n",
    "except LangSmithNotFoundError:\n",
    "    # if not create a new one with the generated query examples    \n",
    "    dataset = client.upload_dataframe(\n",
    "        df=test_df, \n",
    "        name=dataset_name, \n",
    "        input_keys=[\"question\"], \n",
    "        output_keys=[\"ground_truth\"],\n",
    "        description=dataset_desc\n",
    "    )\n",
    "    \n",
    "    print(\"Created a new dataset: \", dataset.name)"
   ]
  },
  {
   "cell_type": "code",
   "execution_count": null,
   "metadata": {},
   "outputs": [],
   "source": [
    "from ragas.integrations.langsmith import upload_dataset"
   ]
  }
 ],
 "metadata": {
  "kernelspec": {
   "display_name": "notes",
   "language": "python",
   "name": "python3"
  },
  "language_info": {
   "codemirror_mode": {
    "name": "ipython",
    "version": 3
   },
   "file_extension": ".py",
   "mimetype": "text/x-python",
   "name": "python",
   "nbconvert_exporter": "python",
   "pygments_lexer": "ipython3",
   "version": "3.10.12"
  }
 },
 "nbformat": 4,
 "nbformat_minor": 2
}
