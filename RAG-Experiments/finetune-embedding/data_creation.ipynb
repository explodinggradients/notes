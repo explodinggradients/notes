{
 "cells": [
  {
   "cell_type": "markdown",
   "id": "f4807d93-b1db-4121-bb79-3302b8a4ff51",
   "metadata": {},
   "source": [
    "## Modules"
   ]
  },
  {
   "cell_type": "code",
   "execution_count": 1,
   "id": "ee9db711-b7dd-4a0c-b124-154ebcb8dfdd",
   "metadata": {},
   "outputs": [],
   "source": [
    "from llama_index import SimpleDirectoryReader, VectorStoreIndex, ServiceContext, StorageContext, set_global_service_context\n",
    "from llama_index.node_parser import SimpleNodeParser\n",
    "from llama_index.text_splitter import TokenTextSplitter\n",
    "from llama_index.storage.docstore import SimpleDocumentStore\n",
    "from llama_index.storage.index_store import SimpleIndexStore\n",
    "from llama_index.vector_stores import SimpleVectorStore\n",
    "\n",
    "from transformers import AutoTokenizer\n",
    "from langchain.embeddings import HuggingFaceEmbeddings\n",
    "from datasets import Dataset\n",
    "import os\n",
    "import json\n",
    "from ragas.metrics.context_precision import ContextPrecision\n",
    "from datasets import Dataset\n",
    "import numpy as np\n",
    "import matplotlib.pyplot as plt\n",
    "from tqdm import tqdm"
   ]
  },
  {
   "cell_type": "markdown",
   "id": "e0a816d9-d06e-4b72-9bb0-99d2a83342ae",
   "metadata": {},
   "source": [
    "## Experiment\n",
    "1. Take batches of training question\n",
    "2. Load documents associated with it\n",
    "3. Chunk (chunk size per batch) -> 256,356,..\n",
    "4. Retreive\n",
    "5. Score\n",
    "6. If AP < 0.5 store "
   ]
  },
  {
   "cell_type": "markdown",
   "id": "232607dd-3cd6-4820-ade4-bfc1c24d1808",
   "metadata": {},
   "source": [
    "## Playground"
   ]
  },
  {
   "cell_type": "code",
   "execution_count": 47,
   "id": "58b2f231-bc8c-4318-9dc4-2b9466a17b40",
   "metadata": {},
   "outputs": [],
   "source": [
    "reader = SimpleDirectoryReader(\"./wikidata/\")\n",
    "data = reader.load_data()[:50]"
   ]
  },
  {
   "cell_type": "code",
   "execution_count": 2,
   "id": "252cf928-310a-4de3-80e3-b1e54ec89f96",
   "metadata": {},
   "outputs": [],
   "source": [
    "tokenizer = AutoTokenizer.from_pretrained(\"BAAI/bge-small-en-v1.5\",trucation_side='left')"
   ]
  },
  {
   "cell_type": "code",
   "execution_count": 3,
   "id": "d59b1be0-f3f7-4d8a-b4dc-8bbcba22f2a3",
   "metadata": {},
   "outputs": [],
   "source": [
    "tokenizer.truncation_side = \"left\"\n",
    "tokenizer.model_max_length = 512\n"
   ]
  },
  {
   "cell_type": "code",
   "execution_count": 4,
   "id": "c08b52aa-65a7-4cc0-b44e-259b10a2ad83",
   "metadata": {},
   "outputs": [],
   "source": [
    "\n",
    "\n",
    "token_splitter = TokenTextSplitter(chunk_size=356\n",
    "                                   , chunk_overlap=26, tokenizer=tokenizer.encode)\n",
    "node_parser = SimpleNodeParser.from_defaults(text_splitter=token_splitter)"
   ]
  },
  {
   "cell_type": "code",
   "execution_count": 5,
   "id": "0f08674b-734e-44c2-9760-b6b962f0869c",
   "metadata": {},
   "outputs": [],
   "source": [
    "embed_model = HuggingFaceEmbeddings(model_name=\"BAAI/bge-small-en-v1.5\")\n"
   ]
  },
  {
   "cell_type": "code",
   "execution_count": 6,
   "id": "55f03e8f-de94-41d0-aaf7-44c300f9ca6c",
   "metadata": {},
   "outputs": [],
   "source": [
    "\n",
    "# create storage context using default stores\n",
    "storage_context = StorageContext.from_defaults(\n",
    "    docstore=SimpleDocumentStore(),\n",
    "    vector_store=SimpleVectorStore(),\n",
    "    index_store=SimpleIndexStore(),\n",
    ")"
   ]
  },
  {
   "cell_type": "code",
   "execution_count": 7,
   "id": "e30f230b-6904-482f-a095-b58da7cc9812",
   "metadata": {},
   "outputs": [],
   "source": [
    "# nodes = node_parser.get_nodes_from_documents(data)"
   ]
  },
  {
   "cell_type": "code",
   "execution_count": 8,
   "id": "181d3e36-43d9-44cf-8bb6-cd1529e850e9",
   "metadata": {},
   "outputs": [],
   "source": [
    "service_context = ServiceContext.from_defaults(node_parser=node_parser, embed_model=embed_model,)"
   ]
  },
  {
   "cell_type": "code",
   "execution_count": 9,
   "id": "73d770a1-e355-444c-a768-3f7e3dd72ee2",
   "metadata": {},
   "outputs": [],
   "source": [
    "set_global_service_context(service_context)"
   ]
  },
  {
   "cell_type": "code",
   "execution_count": 55,
   "id": "151e0303-e66f-418b-b389-d17c0ddb87db",
   "metadata": {},
   "outputs": [],
   "source": [
    "index = VectorStoreIndex.from_documents(data, storage_context=storage_context, service_context=service_context) "
   ]
  },
  {
   "cell_type": "code",
   "execution_count": 34,
   "id": "4d7b02cc-2ea9-4c77-ab6e-1d8a5b367dd4",
   "metadata": {},
   "outputs": [],
   "source": [
    "index.storage_context.persist(persist_dir=\"sample.index\")\n"
   ]
  },
  {
   "cell_type": "code",
   "execution_count": 56,
   "id": "99ab409a-d3e8-4eaf-a3ff-639d7f61c552",
   "metadata": {},
   "outputs": [],
   "source": [
    "retreiver = index.as_retriever()"
   ]
  },
  {
   "cell_type": "code",
   "execution_count": 57,
   "id": "ef0d9ace-9e12-462b-a58e-b7e7de441d86",
   "metadata": {},
   "outputs": [],
   "source": [
    "retreiver.similarity_top_k = 6"
   ]
  },
  {
   "cell_type": "code",
   "execution_count": 58,
   "id": "e312e99b-1cb4-453f-8bf9-774936c79bb7",
   "metadata": {},
   "outputs": [],
   "source": [
    "chunks = retreiver.retrieve(\"What can you tell me about Gary Cherone?\")"
   ]
  },
  {
   "cell_type": "code",
   "execution_count": 59,
   "id": "65d4ec90-7b4e-4b70-8c95-ec256296f037",
   "metadata": {},
   "outputs": [],
   "source": [
    "dataset = Dataset.from_json(\"/home/shahul/data/qrecc-training.json\")"
   ]
  },
  {
   "cell_type": "code",
   "execution_count": 117,
   "id": "5273e2f6-28ff-4880-a29a-943d54286f04",
   "metadata": {},
   "outputs": [],
   "source": [
    "def prepare_query(item):\n",
    "    context, question = item['Context'], item[\"Question\"]\n",
    "    query = \"\\n\".join(context) + tokenizer.sep_token + question\n",
    "    query = tokenizer.decode(tokenizer.encode(query,max_length=512,truncation=True, add_special_tokens=False))\n",
    "    return query \n",
    "    "
   ]
  },
  {
   "cell_type": "code",
   "execution_count": 142,
   "id": "4d6febd4-9b3e-40b9-959c-4717633f3004",
   "metadata": {},
   "outputs": [],
   "source": [
    "item = dataset[13]"
   ]
  },
  {
   "cell_type": "code",
   "execution_count": 143,
   "id": "208b2d82-827b-4b5a-9ead-c86beab69b37",
   "metadata": {},
   "outputs": [
    {
     "name": "stdout",
     "output_type": "stream",
     "text": [
      "what is mmm? mmm is the debut mixtape by puff daddy, originally released on november 4, 2015 as a free mixtape on bad boy records and epic records. [SEP] is it an album or a song?\n"
     ]
    }
   ],
   "source": [
    "query = prepare_query(item)\n",
    "print(query)"
   ]
  },
  {
   "cell_type": "code",
   "execution_count": 136,
   "id": "569ddcc5-9d19-40b5-96de-87f6fcec8d2f",
   "metadata": {},
   "outputs": [],
   "source": [
    "chunks = retreiver.retrieve(query)"
   ]
  },
  {
   "cell_type": "code",
   "execution_count": 137,
   "id": "fb04229d-2502-4c90-a9cb-b8d2664ed58d",
   "metadata": {},
   "outputs": [],
   "source": [
    "eval_query = item[\"Rewrite\"]"
   ]
  },
  {
   "cell_type": "code",
   "execution_count": 159,
   "id": "ae2d262e-10bb-4cde-abce-86ba80d14f2c",
   "metadata": {},
   "outputs": [],
   "source": [
    "dict = {\"question\":eval_query,\n",
    "        \"contexts\":[node.get_content() for node in chunks],}"
   ]
  },
  {
   "cell_type": "code",
   "execution_count": 160,
   "id": "9b8a0c10-e4a8-47d4-a545-e80c79523cf0",
   "metadata": {},
   "outputs": [],
   "source": [
    "context_precision = ContextPrecision()"
   ]
  },
  {
   "cell_type": "code",
   "execution_count": 161,
   "id": "c27ab425-6f17-4ae1-a749-b80f2edb652b",
   "metadata": {},
   "outputs": [],
   "source": [
    "results = context_precision.score_single(dict)"
   ]
  },
  {
   "cell_type": "code",
   "execution_count": 162,
   "id": "eea2690a-fcf8-465f-a8dd-fb01b8f0766b",
   "metadata": {},
   "outputs": [
    {
     "data": {
      "text/plain": [
       "0.0"
      ]
     },
     "execution_count": 162,
     "metadata": {},
     "output_type": "execute_result"
    }
   ],
   "source": [
    "results"
   ]
  },
  {
   "cell_type": "markdown",
   "id": "13fe023b-b360-421c-8402-ceca4ad95df9",
   "metadata": {},
   "source": [
    "## Data analysis\n",
    "- after `rag.py`"
   ]
  },
  {
   "cell_type": "code",
   "execution_count": 2,
   "id": "a0b7b09f-c12d-4159-8bb3-d78e093037fc",
   "metadata": {},
   "outputs": [],
   "source": [
    "data = Dataset.from_json(\"wikidata/indices/subset.json\")"
   ]
  },
  {
   "cell_type": "code",
   "execution_count": 3,
   "id": "f116d255-4dcd-4ac6-a890-be8063a44fb7",
   "metadata": {},
   "outputs": [
    {
     "data": {
      "text/plain": [
       "(array([1446.,  309.,  198.,  263.,  280.,  116.,  191.,  146.,  152.,\n",
       "         400.]),\n",
       " array([0. , 0.1, 0.2, 0.3, 0.4, 0.5, 0.6, 0.7, 0.8, 0.9, 1. ]),\n",
       " <BarContainer object of 10 artists>)"
      ]
     },
     "execution_count": 3,
     "metadata": {},
     "output_type": "execute_result"
    },
    {
     "data": {
      "image/png": "[encoded data removed]",
      "text/plain": [
       "<Figure size 640x480 with 1 Axes>"
      ]
     },
     "metadata": {},
     "output_type": "display_data"
    }
   ],
   "source": [
    "plt.hist(data[\"ragas_score\"])"
   ]
  },
  {
   "cell_type": "code",
   "execution_count": 4,
   "id": "9b6f363e-e33e-4eaf-87cf-30179b1fe478",
   "metadata": {},
   "outputs": [
    {
     "data": {
      "text/plain": [
       "2496"
      ]
     },
     "execution_count": 4,
     "metadata": {},
     "output_type": "execute_result"
    }
   ],
   "source": [
    "sum(np.array(data[\"ragas_score\"]) < 0.5)"
   ]
  },
  {
   "cell_type": "code",
   "execution_count": 34,
   "id": "a5b35be1-a4a7-4435-9f48-1b02a7a78b29",
   "metadata": {},
   "outputs": [],
   "source": [
    "# best_samples = data.filter(lambda ex: ex[\"ragas_score\"]<0.5)"
   ]
  },
  {
   "cell_type": "code",
   "execution_count": 35,
   "id": "bee8e9f0-5b4a-4714-8bfe-7729990b4938",
   "metadata": {},
   "outputs": [],
   "source": [
    "# best_samples[0]"
   ]
  },
  {
   "cell_type": "code",
   "execution_count": 12,
   "id": "b237bbe5-890e-420e-8f20-b247aaf9f419",
   "metadata": {},
   "outputs": [],
   "source": [
    "from llama_index import load_index_from_storage, load_indices_from_storage, load_graph_from_storage\n"
   ]
  },
  {
   "cell_type": "code",
   "execution_count": 7,
   "id": "0c427e00-96d2-44f2-b093-257914c890ba",
   "metadata": {},
   "outputs": [],
   "source": [
    "datapath=\"./sample-0.index/\"\n",
    "# create storage context using default stores\n",
    "storage_context = StorageContext.from_defaults(\n",
    "    docstore=SimpleDocumentStore.from_persist_dir(persist_dir=datapath),\n",
    "    vector_store=SimpleVectorStore.from_persist_dir(persist_dir=datapath),\n",
    "    index_store=SimpleIndexStore.from_persist_dir(persist_dir=datapath),\n",
    ")"
   ]
  },
  {
   "cell_type": "code",
   "execution_count": 28,
   "id": "af3775f9-f728-42d1-a65f-71b049a45f35",
   "metadata": {},
   "outputs": [],
   "source": [
    "index = load_index_from_storage(storage_context)\n"
   ]
  },
  {
   "cell_type": "code",
   "execution_count": 29,
   "id": "6997f777-20d5-4442-96d9-74b664b6f4ff",
   "metadata": {},
   "outputs": [],
   "source": [
    "retriever = index.as_retriever(similarity_top_k=10)"
   ]
  },
  {
   "cell_type": "markdown",
   "id": "bb4abb62-ea09-4904-96eb-eea64ea09503",
   "metadata": {},
   "source": [
    "- load document from index\n",
    "- search for positve chunk using Answer\n",
    "- add positive/negative chunks to form dataset\n",
    "   - verify positives using llm call\n",
    "   - query,context,pos,neg"
   ]
  },
  {
   "cell_type": "code",
   "execution_count": 17,
   "id": "ae047020-6148-4f18-a71a-4d76497291af",
   "metadata": {},
   "outputs": [],
   "source": [
    "from ragas.metrics.critique import AspectCritique"
   ]
  },
  {
   "cell_type": "code",
   "execution_count": 19,
   "id": "06a1b0cc-58c6-43ac-ba23-b55ca5b04b6f",
   "metadata": {},
   "outputs": [],
   "source": [
    "critic = AspectCritique(name=\"filter\", definition=\"Does the submission contain information that can be derived from input?\")"
   ]
  },
  {
   "cell_type": "code",
   "execution_count": 22,
   "id": "fa2d0448-2793-41e1-8f2e-ee59273a6be0",
   "metadata": {},
   "outputs": [
    {
     "data": {
      "text/plain": [
       "0"
      ]
     },
     "execution_count": 22,
     "metadata": {},
     "output_type": "execute_result"
    }
   ],
   "source": [
    "item=finetuning_dataset[0]\n",
    "critic.score_single({\"question\":item[\"\"][0],\"answer\":item[\"Answer\"]})"
   ]
  },
  {
   "cell_type": "code",
   "execution_count": 16,
   "id": "72afd40f-a02b-4be0-b509-16aa11f05213",
   "metadata": {},
   "outputs": [
    {
     "data": {
      "application/vnd.jupyter.widget-view+json": {
       "model_id": "66691aa7a63e4e42a07bd015cfcc68cb",
       "version_major": 2,
       "version_minor": 0
      },
      "text/plain": [
       "Filter:   0%|          | 0/3501 [00:00<?, ? examples/s]"
      ]
     },
     "metadata": {},
     "output_type": "display_data"
    },
    {
     "data": {
      "text/plain": [
       "2949"
      ]
     },
     "execution_count": 16,
     "metadata": {},
     "output_type": "execute_result"
    }
   ],
   "source": [
    "len(dataset.filter(lambda ex: ex[\"ragas_score\"]<=0.8))"
   ]
  },
  {
   "cell_type": "markdown",
   "id": "81d872f3-ba83-4d22-af08-4fdeb211f2a5",
   "metadata": {},
   "source": [
    "## Mining for hard negatives"
   ]
  },
  {
   "cell_type": "code",
   "execution_count": 28,
   "id": "842b952c-6b7f-43a3-82d7-95c666e7169d",
   "metadata": {},
   "outputs": [
    {
     "name": "stderr",
     "output_type": "stream",
     "text": [
      "100%|█████████████████████████████████████████████████████| 2/2 [00:34<00:00, 17.29s/it]\n"
     ]
    }
   ],
   "source": [
    "dataset = Dataset.from_json(\"wikidata/indices/subset.json\")\n",
    "batch_size=100\n",
    "max_ragas_score = 0.8\n",
    "threshold=0.8\n",
    "finetuning_dataset = []\n",
    "for batch in tqdm(range(0,200, batch_size)):\n",
    "    datapath=f\"./sample-{batch}.index/\"\n",
    "    # create storage context using default stores\n",
    "    storage_context = StorageContext.from_defaults(\n",
    "        docstore=SimpleDocumentStore.from_persist_dir(persist_dir=datapath),\n",
    "        vector_store=SimpleVectorStore.from_persist_dir(persist_dir=datapath),\n",
    "        index_store=SimpleIndexStore.from_persist_dir(persist_dir=datapath),\n",
    "    )\n",
    "    set_global_service_context(service_context)\n",
    "    index = load_index_from_storage(storage_context)\n",
    "    retriever = index.as_retriever(similarity_top_k=1)\n",
    "    subsample = dataset.select(range(batch, batch+batch_size))\n",
    "    try:\n",
    "        for item in subsample:\n",
    "            if item[\"ragas_score\"] <= max_ragas_score:\n",
    "    \n",
    "                node = retriever.retrieve(item[\"Answer\"])[0]\n",
    "                # filter = critic.score_single({\"question\":node.get_content(),\"answer\":item[\"Answer\"]})\n",
    "\n",
    "                if node.get_score()>=threshold:\n",
    "                # if filter:\n",
    "                    pos_chunk = node.to_dict()\n",
    "                else:\n",
    "                    continue\n",
    "\n",
    "                \n",
    "    \n",
    "                retrieved_chunks = item[\"chunks\"]\n",
    "                # hard negatives : till positive hash\n",
    "                hard = True\n",
    "                hard_negatives,negatives = [], []\n",
    "                for node in retrieved_chunks:\n",
    "    \n",
    "                    if node[\"node\"][\"hash\"] == pos_chunk[\"node\"][\"hash\"]:\n",
    "                        hard = False\n",
    "    \n",
    "                    if hard:\n",
    "                        hard_negatives.append(node)\n",
    "                    else:\n",
    "                        negatives.append(node)\n",
    "    \n",
    "                sample = {\"Question\":item[\"Question\"], \"Answer\":item[\"Answer\"],\n",
    "                        \"positives\":[pos_chunk[\"node\"][\"text\"]],\n",
    "                        \"negatives\":[chunk[\"node\"][\"text\"] for chunk in negatives],\n",
    "                        \"hard_negatives\":[chunk[\"node\"][\"text\"] for chunk in hard_negatives]}\n",
    "                finetuning_dataset.append(sample)\n",
    "    except Exception as e:\n",
    "        print(e)\n",
    "            \n",
    "            \n",
    "        "
   ]
  },
  {
   "cell_type": "code",
   "execution_count": 30,
   "id": "02968ea5-6e71-4a93-9e8b-ec1519e14dc4",
   "metadata": {},
   "outputs": [
    {
     "data": {
      "text/plain": [
       "21"
      ]
     },
     "execution_count": 30,
     "metadata": {},
     "output_type": "execute_result"
    }
   ],
   "source": [
    "len(finetuning_dataset)"
   ]
  },
  {
   "cell_type": "markdown",
   "id": "8944460b-e0db-4f7e-b0c3-bdc02c936965",
   "metadata": {},
   "source": [
    "## Dataset push to hub"
   ]
  },
  {
   "cell_type": "code",
   "execution_count": 7,
   "id": "e016b96e-c760-4492-94e3-01be637c5122",
   "metadata": {},
   "outputs": [],
   "source": [
    "dataset = Dataset.from_json(\"finetuning_dataset.json\")"
   ]
  },
  {
   "cell_type": "code",
   "execution_count": 13,
   "id": "8522ccd1-c653-4750-b560-385e99a890e1",
   "metadata": {},
   "outputs": [],
   "source": [
    "dataset = dataset.remove_columns([\"hard_negatives\",\"negatives\",\"positives\"])"
   ]
  },
  {
   "cell_type": "code",
   "execution_count": 19,
   "id": "c78be3e2-8089-4e19-99d0-77542142c67f",
   "metadata": {},
   "outputs": [
    {
     "data": {
      "application/vnd.jupyter.widget-view+json": {
       "model_id": "03153dac8c4e400b90d754fba87c7eee",
       "version_major": 2,
       "version_minor": 0
      },
      "text/plain": [
       "Pushing dataset shards to the dataset hub:   0%|          | 0/1 [00:00<?, ?it/s]"
      ]
     },
     "metadata": {},
     "output_type": "display_data"
    },
    {
     "data": {
      "application/vnd.jupyter.widget-view+json": {
       "model_id": "db77d857ce7c42708fe21265d42b954c",
       "version_major": 2,
       "version_minor": 0
      },
      "text/plain": [
       "Creating parquet from Arrow format:   0%|          | 0/2 [00:00<?, ?ba/s]"
      ]
     },
     "metadata": {},
     "output_type": "display_data"
    }
   ],
   "source": [
    "dataset.push_to_hub(\"explodinggradients/qrecc_conversational_embeddings\")"
   ]
  },
  {
   "cell_type": "code",
   "execution_count": null,
   "id": "cbbb2670-27db-466b-bf44-6fa6954235f2",
   "metadata": {},
   "outputs": [],
   "source": []
  }
 ],
 "metadata": {
  "kernelspec": {
   "display_name": "Python 3 (ipykernel)",
   "language": "python",
   "name": "python3"
  },
  "language_info": {
   "codemirror_mode": {
    "name": "ipython",
    "version": 3
   },
   "file_extension": ".py",
   "mimetype": "text/x-python",
   "name": "python",
   "nbconvert_exporter": "python",
   "pygments_lexer": "ipython3",
   "version": "3.10.12"
  }
 },
 "nbformat": 4,
 "nbformat_minor": 5
}
