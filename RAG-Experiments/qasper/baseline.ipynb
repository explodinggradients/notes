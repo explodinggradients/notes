{
 "cells": [
  {
   "cell_type": "markdown",
   "id": "c330ddad-c0ad-448d-a4f9-de431e84a593",
   "metadata": {},
   "source": [
    "# Dataset\n",
    "lets load the dataset and verified testset"
   ]
  },
  {
   "cell_type": "code",
   "execution_count": 42,
   "id": "35c1deca",
   "metadata": {},
   "outputs": [
    {
     "data": {
      "text/plain": [
       "DatasetDict({\n",
       "    train: Dataset({\n",
       "        features: ['id', 'title', 'abstract', 'full_text', 'qas', 'figures_and_tables'],\n",
       "        num_rows: 888\n",
       "    })\n",
       "    validation: Dataset({\n",
       "        features: ['id', 'title', 'abstract', 'full_text', 'qas', 'figures_and_tables'],\n",
       "        num_rows: 281\n",
       "    })\n",
       "    test: Dataset({\n",
       "        features: ['id', 'title', 'abstract', 'full_text', 'qas', 'figures_and_tables'],\n",
       "        num_rows: 416\n",
       "    })\n",
       "})"
      ]
     },
     "execution_count": 42,
     "metadata": {},
     "output_type": "execute_result"
    }
   ],
   "source": [
    "from datasets import load_dataset\n",
    "\n",
    "qasper_dataset = load_dataset(\"allenai/qasper\")\n",
    "qasper_dataset"
   ]
  },
  {
   "cell_type": "code",
   "execution_count": 43,
   "id": "3b80da0d",
   "metadata": {},
   "outputs": [
    {
     "data": {
      "text/plain": [
       "['1912.01214',\n",
       " '1810.08699',\n",
       " '1609.00425',\n",
       " '1801.05147',\n",
       " '1811.00383',\n",
       " '1909.09067',\n",
       " '1704.06194',\n",
       " '1909.00512',\n",
       " '2003.03106',\n",
       " '1708.01464']"
      ]
     },
     "execution_count": 43,
     "metadata": {},
     "output_type": "execute_result"
    }
   ],
   "source": [
    "val_ids = qasper_dataset['validation']['id']\n",
    "val_ids[:10]"
   ]
  },
  {
   "cell_type": "code",
   "execution_count": 44,
   "id": "3056cc1e",
   "metadata": {},
   "outputs": [
    {
     "name": "stdout",
     "output_type": "stream",
     "text": [
      "1609.00425.pdf  1708.01464.pdf  1810.08699.pdf  1909.00512.pdf  1912.01214.pdf\n",
      "1704.06194.pdf  1801.05147.pdf  1811.00383.pdf  1909.09067.pdf  2003.03106.pdf\n"
     ]
    }
   ],
   "source": [
    "ls ./data/"
   ]
  },
  {
   "cell_type": "code",
   "execution_count": 45,
   "id": "81fb1bc2-de49-424f-ac79-353ff8cc02b5",
   "metadata": {},
   "outputs": [
    {
     "data": {
      "text/html": [
       "<div>\n",
       "<style scoped>\n",
       "    .dataframe tbody tr th:only-of-type {\n",
       "        vertical-align: middle;\n",
       "    }\n",
       "\n",
       "    .dataframe tbody tr th {\n",
       "        vertical-align: top;\n",
       "    }\n",
       "\n",
       "    .dataframe thead th {\n",
       "        text-align: right;\n",
       "    }\n",
       "</style>\n",
       "<table border=\"1\" class=\"dataframe\">\n",
       "  <thead>\n",
       "    <tr style=\"text-align: right;\">\n",
       "      <th></th>\n",
       "      <th>question</th>\n",
       "      <th>contexts</th>\n",
       "      <th>ground_truth</th>\n",
       "      <th>evolution_type</th>\n",
       "      <th>episode_done</th>\n",
       "    </tr>\n",
       "  </thead>\n",
       "  <tbody>\n",
       "    <tr>\n",
       "      <th>0</th>\n",
       "      <td>What are some linguistic signals of dogmatic l...</td>\n",
       "      <td>['ers, often in a strongly opinionated way (“y...</td>\n",
       "      <td>Present tense, past tense, negative emotion, s...</td>\n",
       "      <td>simple</td>\n",
       "      <td>True</td>\n",
       "    </tr>\n",
       "    <tr>\n",
       "      <th>1</th>\n",
       "      <td>How does the previous vowel affect the pronunc...</td>\n",
       "      <td>[' ein English that affects the pro-\\nnunciati...</td>\n",
       "      <td>The previous vowel affects the pronunciation o...</td>\n",
       "      <td>simple</td>\n",
       "      <td>True</td>\n",
       "    </tr>\n",
       "    <tr>\n",
       "      <th>2</th>\n",
       "      <td>What are the two natural language processing t...</td>\n",
       "      <td>['arXiv:1909.09067v1  [cs.CL]  19 Sep 2019A Co...</td>\n",
       "      <td>The two natural language processing tasks that...</td>\n",
       "      <td>simple</td>\n",
       "      <td>True</td>\n",
       "    </tr>\n",
       "    <tr>\n",
       "      <th>3</th>\n",
       "      <td>What is the Cloze objective of MLM in cross-li...</td>\n",
       "      <td>['Figure 2: The overview of BRidge Language Mo...</td>\n",
       "      <td>The Cloze objective of MLM in cross-lingual pr...</td>\n",
       "      <td>simple</td>\n",
       "      <td>True</td>\n",
       "    </tr>\n",
       "    <tr>\n",
       "      <th>4</th>\n",
       "      <td>What is the main challenge that leads to the f...</td>\n",
       "      <td>['Cross-lingual Pre-training Based Transfer fo...</td>\n",
       "      <td>The main challenge that leads to the failure o...</td>\n",
       "      <td>simple</td>\n",
       "      <td>True</td>\n",
       "    </tr>\n",
       "    <tr>\n",
       "      <th>...</th>\n",
       "      <td>...</td>\n",
       "      <td>...</td>\n",
       "      <td>...</td>\n",
       "      <td>...</td>\n",
       "      <td>...</td>\n",
       "    </tr>\n",
       "    <tr>\n",
       "      <th>59</th>\n",
       "      <td>How does the increased context-specificity in ...</td>\n",
       "      <td>['Figure 3: The intra-sentence similarity is t...</td>\n",
       "      <td>In ELMo, words in the same sentence are more s...</td>\n",
       "      <td>conditional</td>\n",
       "      <td>True</td>\n",
       "    </tr>\n",
       "    <tr>\n",
       "      <th>60</th>\n",
       "      <td>What is the dataset used for Armenian named en...</td>\n",
       "      <td>['arXiv:1810.08699v1  [cs.CL]  19 Oct 2018pioN...</td>\n",
       "      <td>The dataset used for Armenian named entity rec...</td>\n",
       "      <td>conditional</td>\n",
       "      <td>True</td>\n",
       "    </tr>\n",
       "    <tr>\n",
       "      <th>61</th>\n",
       "      <td>What role do grapheme-phoneme mappings play in...</td>\n",
       "      <td>['with the output of the wFST-based Phonetisau...</td>\n",
       "      <td>Grapheme-phoneme mappings play a crucial role ...</td>\n",
       "      <td>conditional</td>\n",
       "      <td>True</td>\n",
       "    </tr>\n",
       "    <tr>\n",
       "      <th>62</th>\n",
       "      <td>Why is pre-ordering the assisting language cru...</td>\n",
       "      <td>[' 1999) which enables the model to learn\\nthe...</td>\n",
       "      <td>Pre-ordering the assisting language is crucial...</td>\n",
       "      <td>conditional</td>\n",
       "      <td>True</td>\n",
       "    </tr>\n",
       "    <tr>\n",
       "      <th>63</th>\n",
       "      <td>What additional alignment methods are used in ...</td>\n",
       "      <td>[', MNMT\\nusually performs worse than the pivo...</td>\n",
       "      <td>The additional alignment methods used in the p...</td>\n",
       "      <td>conditional</td>\n",
       "      <td>True</td>\n",
       "    </tr>\n",
       "  </tbody>\n",
       "</table>\n",
       "<p>64 rows × 5 columns</p>\n",
       "</div>"
      ],
      "text/plain": [
       "                                             question  \\\n",
       "0   What are some linguistic signals of dogmatic l...   \n",
       "1   How does the previous vowel affect the pronunc...   \n",
       "2   What are the two natural language processing t...   \n",
       "3   What is the Cloze objective of MLM in cross-li...   \n",
       "4   What is the main challenge that leads to the f...   \n",
       "..                                                ...   \n",
       "59  How does the increased context-specificity in ...   \n",
       "60  What is the dataset used for Armenian named en...   \n",
       "61  What role do grapheme-phoneme mappings play in...   \n",
       "62  Why is pre-ordering the assisting language cru...   \n",
       "63  What additional alignment methods are used in ...   \n",
       "\n",
       "                                             contexts  \\\n",
       "0   ['ers, often in a strongly opinionated way (“y...   \n",
       "1   [' ein English that affects the pro-\\nnunciati...   \n",
       "2   ['arXiv:1909.09067v1  [cs.CL]  19 Sep 2019A Co...   \n",
       "3   ['Figure 2: The overview of BRidge Language Mo...   \n",
       "4   ['Cross-lingual Pre-training Based Transfer fo...   \n",
       "..                                                ...   \n",
       "59  ['Figure 3: The intra-sentence similarity is t...   \n",
       "60  ['arXiv:1810.08699v1  [cs.CL]  19 Oct 2018pioN...   \n",
       "61  ['with the output of the wFST-based Phonetisau...   \n",
       "62  [' 1999) which enables the model to learn\\nthe...   \n",
       "63  [', MNMT\\nusually performs worse than the pivo...   \n",
       "\n",
       "                                         ground_truth evolution_type  \\\n",
       "0   Present tense, past tense, negative emotion, s...         simple   \n",
       "1   The previous vowel affects the pronunciation o...         simple   \n",
       "2   The two natural language processing tasks that...         simple   \n",
       "3   The Cloze objective of MLM in cross-lingual pr...         simple   \n",
       "4   The main challenge that leads to the failure o...         simple   \n",
       "..                                                ...            ...   \n",
       "59  In ELMo, words in the same sentence are more s...    conditional   \n",
       "60  The dataset used for Armenian named entity rec...    conditional   \n",
       "61  Grapheme-phoneme mappings play a crucial role ...    conditional   \n",
       "62  Pre-ordering the assisting language is crucial...    conditional   \n",
       "63  The additional alignment methods used in the p...    conditional   \n",
       "\n",
       "    episode_done  \n",
       "0           True  \n",
       "1           True  \n",
       "2           True  \n",
       "3           True  \n",
       "4           True  \n",
       "..           ...  \n",
       "59          True  \n",
       "60          True  \n",
       "61          True  \n",
       "62          True  \n",
       "63          True  \n",
       "\n",
       "[64 rows x 5 columns]"
      ]
     },
     "execution_count": 45,
     "metadata": {},
     "output_type": "execute_result"
    }
   ],
   "source": [
    "import pandas as pd\n",
    "\n",
    "df = pd.read_csv(\"./valid_first_10_ragas.csv\", index_col=0)\n",
    "df = df.dropna().reset_index(drop=True)\n",
    "df"
   ]
  },
  {
   "cell_type": "markdown",
   "id": "70ad4ce1-cfea-4774-a0b3-27e3a572146a",
   "metadata": {},
   "source": [
    "# Baseline LlamaIndex"
   ]
  },
  {
   "cell_type": "code",
   "execution_count": 2,
   "id": "d4cf9f09",
   "metadata": {},
   "outputs": [],
   "source": [
    "from llama_index.core import VectorStoreIndex, SimpleDirectoryReader\n",
    "\n",
    "documents = SimpleDirectoryReader(\"data\").load_data()\n",
    "index = VectorStoreIndex.from_documents(documents)"
   ]
  },
  {
   "cell_type": "code",
   "execution_count": 105,
   "id": "12b98d24-80b3-44fc-8689-ab1d892e5559",
   "metadata": {},
   "outputs": [],
   "source": [
    "index.storage_context.persist()"
   ]
  },
  {
   "cell_type": "code",
   "execution_count": 3,
   "id": "41795413",
   "metadata": {},
   "outputs": [
    {
     "name": "stdout",
     "output_type": "stream",
     "text": [
      "Query: What are some linguistic signals of dogmatic language?\n",
      "Answer: Pronouns, verb tense, sentiment (positive or negative), emotion (positive or negative), swearing, interrogative language, and negation are some linguistic signals of dogmatic language.\n",
      "Ground Truth: Present tense, past tense, negative emotion, swearing, interrogative language, and negation are some linguistic signals of dogmatic language.\n",
      "\n"
     ]
    }
   ],
   "source": [
    "i = 0\n",
    "query_engine = index.as_query_engine()\n",
    "response = query_engine.query(df.question[i])\n",
    "print(f\"\"\"\\\n",
    "Query: {df.question[i]}\n",
    "Answer: {response}\n",
    "Ground Truth: {df.ground_truth[i]}\n",
    "\"\"\")"
   ]
  },
  {
   "cell_type": "markdown",
   "id": "60ea9628-8b6c-4470-b5c3-dfdb57c09325",
   "metadata": {},
   "source": [
    "# Baseline GPT3.5"
   ]
  },
  {
   "cell_type": "code",
   "execution_count": 4,
   "id": "69cd34ca-981f-4db0-b411-f3ec030da4f8",
   "metadata": {},
   "outputs": [],
   "source": [
    "from llama_index.llms.openai import OpenAI\n",
    "\n",
    "llm = OpenAI()\n",
    "\n",
    "prompt = \"\"\"\\\n",
    "Answer the following question.\n",
    "Question: {question}\n",
    "Answer:\n",
    "\"\"\"\n",
    "\n",
    "async def query_llm(query):\n",
    "    resp = await llm.acomplete(prompt.format(question=query))\n",
    "    return resp.text"
   ]
  },
  {
   "cell_type": "code",
   "execution_count": 5,
   "id": "be335f73-af22-4e56-9e51-b662e544fbea",
   "metadata": {},
   "outputs": [
    {
     "name": "stdout",
     "output_type": "stream",
     "text": [
      "Query: What are some linguistic signals of dogmatic language?\n",
      "Answer: Some linguistic signals of dogmatic language include the use of absolute terms such as \"always,\" \"never,\" \"must,\" and \"should,\" as well as a lack of willingness to consider alternative viewpoints or evidence. Dogmatic language often involves making definitive statements without room for discussion or debate, and may be characterized by a tone of certainty or superiority. Additionally, dogmatic language may involve personal attacks or dismissive language towards those who hold differing opinions.\n",
      "Ground Truth: Present tense, past tense, negative emotion, swearing, interrogative language, and negation are some linguistic signals of dogmatic language.\n",
      "\n"
     ]
    }
   ],
   "source": [
    "i = 0\n",
    "response = await query_llm(df.question[i])\n",
    "print(f\"\"\"\\\n",
    "Query: {df.question[i]}\n",
    "Answer: {response}\n",
    "Ground Truth: {df.ground_truth[i]}\n",
    "\"\"\")"
   ]
  },
  {
   "cell_type": "markdown",
   "id": "c379ce20-f837-4743-8aea-58b525dcfe67",
   "metadata": {},
   "source": [
    "# Evaluate a few Examples\n",
    "\n",
    "lets evaluate a few examples and this is a good time to introduce our first metric.\n",
    "\n",
    "## Answer Correctness\n",
    "but what is it? Que slides ->"
   ]
  },
  {
   "cell_type": "code",
   "execution_count": 96,
   "id": "79119b33-fc67-459b-a340-6370a9429b2d",
   "metadata": {},
   "outputs": [],
   "source": [
    "from ragas.metrics import answer_correctness, faithfulness\n",
    "from ragas import evaluate\n",
    "\n",
    "from datasets import Dataset"
   ]
  },
  {
   "cell_type": "code",
   "execution_count": 97,
   "id": "4efde313-a372-4fe1-84a1-ca84dbe95d9d",
   "metadata": {},
   "outputs": [],
   "source": [
    "i = 11\n",
    "\n",
    "q = df.question[i]\n",
    "gt = df.ground_truth[i]\n",
    "\n",
    "rag_response = query_engine.query(q)\n",
    "llm_response = await query_llm(q)"
   ]
  },
  {
   "cell_type": "code",
   "execution_count": 98,
   "id": "917fc37d-adcd-43ab-afaa-6eff330e3936",
   "metadata": {},
   "outputs": [
    {
     "name": "stdout",
     "output_type": "stream",
     "text": [
      "query:  How does the pre-ordering of assisting language sentences help bridge the word order gap in low resource language translation?\n",
      "ground_truth: The pre-ordering of assisting language sentences helps bridge the word order gap in low resource language translation by matching the word order of the source language.\n"
     ]
    }
   ],
   "source": [
    "print(\"query: \", q)\n",
    "print(\"ground_truth:\", gt)"
   ]
  },
  {
   "cell_type": "code",
   "execution_count": 99,
   "id": "1c3a398a-edf3-492a-853b-aadfed5d314e",
   "metadata": {},
   "outputs": [],
   "source": [
    "# evaluate single\n",
    "row = {\n",
    "    \"question\": [q],\n",
    "    \"ground_truth\": [gt],\n",
    "    \"rag_answer\": [rag_response.response],\n",
    "    \"llm_answer\": [llm_response],\n",
    "}\n",
    "ds = Dataset.from_dict(row)"
   ]
  },
  {
   "cell_type": "code",
   "execution_count": 100,
   "id": "0c5b31fc-b18d-4dd1-a20f-d8503e572b75",
   "metadata": {},
   "outputs": [],
   "source": [
    "# attaching a tracer\n",
    "# langsmith\n",
    "from langchain.callbacks.tracers import LangChainTracer\n",
    "\n",
    "tracer = LangChainTracer(project_name=\"notes\")"
   ]
  },
  {
   "cell_type": "code",
   "execution_count": 101,
   "id": "5802d2bd-679a-474c-948a-8d0e1736aaa8",
   "metadata": {},
   "outputs": [
    {
     "name": "stdout",
     "output_type": "stream",
     "text": [
      "rag_response: Pre-ordering the assisting language sentences to match the word order of the source language ensures that the context of words in the parallel source and assisting language sentences are similar. This leads to consistent contextual representations across the source languages, helping to bridge the word order gap in low resource language translation.\n"
     ]
    }
   ],
   "source": [
    "print(\"rag_response:\", rag_response.response)"
   ]
  },
  {
   "cell_type": "code",
   "execution_count": 102,
   "id": "3e36aed5-4ba3-41aa-89cc-33f56824f425",
   "metadata": {},
   "outputs": [
    {
     "data": {
      "application/vnd.jupyter.widget-view+json": {
       "model_id": "2950694d45f1450f87a9231b2f8a481d",
       "version_major": 2,
       "version_minor": 0
      },
      "text/plain": [
       "Evaluating:   0%|          | 0/1 [00:00<?, ?it/s]"
      ]
     },
     "metadata": {},
     "output_type": "display_data"
    },
    {
     "data": {
      "text/plain": [
       "{'answer_correctness': 0.8405}"
      ]
     },
     "execution_count": 102,
     "metadata": {},
     "output_type": "execute_result"
    }
   ],
   "source": [
    "r = evaluate(\n",
    "    ds, \n",
    "    metrics=[answer_correctness], column_map={\"answer\": \"rag_answer\"},\n",
    "    callbacks=[tracer],\n",
    ")\n",
    "r"
   ]
  },
  {
   "cell_type": "code",
   "execution_count": 103,
   "id": "7dad104c-3d6b-45ff-a1c5-2550b7606737",
   "metadata": {},
   "outputs": [
    {
     "name": "stdout",
     "output_type": "stream",
     "text": [
      "llm_response: Pre-ordering of assisting language sentences helps bridge the word order gap in low resource language translation by rearranging the words in the assisting language to match the word order of the target low-resource language before translation. This makes the translation process easier and more accurate as it reduces the complexity of the translation model. It also helps to preserve the meaning of the original sentence during translation.\n"
     ]
    }
   ],
   "source": [
    "print(\"llm_response:\", llm_response)"
   ]
  },
  {
   "cell_type": "code",
   "execution_count": 104,
   "id": "884ecc60-abd3-4742-98a9-00e92872549c",
   "metadata": {},
   "outputs": [
    {
     "data": {
      "application/vnd.jupyter.widget-view+json": {
       "model_id": "25263a4c5a144b9e9a93e2a38ec4bb90",
       "version_major": 2,
       "version_minor": 0
      },
      "text/plain": [
       "Evaluating:   0%|          | 0/1 [00:00<?, ?it/s]"
      ]
     },
     "metadata": {},
     "output_type": "display_data"
    },
    {
     "data": {
      "text/plain": [
       "{'answer_correctness': 0.8871}"
      ]
     },
     "execution_count": 104,
     "metadata": {},
     "output_type": "execute_result"
    }
   ],
   "source": [
    "r = evaluate(ds, metrics=[answer_correctness], column_map={\"answer\": \"llm_answer\"})\n",
    "r"
   ]
  },
  {
   "cell_type": "markdown",
   "id": "04c5c8fc-4f50-4e4c-91f8-2b35167cb692",
   "metadata": {},
   "source": [
    "# Evaluation"
   ]
  },
  {
   "cell_type": "code",
   "execution_count": 14,
   "id": "e8fd4725-adc6-44b8-9a5e-0acd4f26f5dd",
   "metadata": {},
   "outputs": [],
   "source": [
    "from tqdm import tqdm"
   ]
  },
  {
   "cell_type": "code",
   "execution_count": 66,
   "id": "ba69f61c-e0dc-4e0b-ad1d-0884795ed9de",
   "metadata": {},
   "outputs": [
    {
     "name": "stderr",
     "output_type": "stream",
     "text": [
      "100%|██████████████████████████████████████████████████████████| 64/64 [01:57<00:00,  1.83s/it]\n"
     ]
    }
   ],
   "source": [
    "# build dataset - RAG\n",
    "rag_contexts = []\n",
    "rag_answer = []\n",
    "for q in tqdm(df.question):\n",
    "    resp = await query_engine.aquery(q)\n",
    "    rag_answer.append(resp.response)\n",
    "    rag_contexts.append(\n",
    "        [n.node.text for n in resp.source_nodes]\n",
    "    )"
   ]
  },
  {
   "cell_type": "code",
   "execution_count": 67,
   "id": "17669a17-b409-4b88-bef6-fceb00d3f0f9",
   "metadata": {},
   "outputs": [
    {
     "name": "stderr",
     "output_type": "stream",
     "text": [
      "100%|██████████████████████████████████████████████████████████| 64/64 [04:50<00:00,  4.54s/it]\n"
     ]
    }
   ],
   "source": [
    "# build dataset - LLM gpt-3.5\n",
    "llm_answers = []\n",
    "for q in tqdm(df.question):\n",
    "    resp = await query_llm(q)\n",
    "    llm_answers.append(resp)"
   ]
  },
  {
   "cell_type": "code",
   "execution_count": 68,
   "id": "5ad5578a-08d8-4e8e-8af8-3ef1520af3bf",
   "metadata": {},
   "outputs": [],
   "source": [
    "# convert to dataset\n",
    "dataset_dict = {\n",
    "    \"question\": df.question,\n",
    "    \"rag_answer\": rag_answer,\n",
    "    \"rag_contexts\": rag_contexts,\n",
    "    \"llm_answer\": llm_answers,\n",
    "    \"llm_contexts\": [['']] * len(llm_answers),\n",
    "    \"ground_truth\": df.ground_truth\n",
    "}\n",
    "\n",
    "ds = Dataset.from_dict(dataset_dict)"
   ]
  },
  {
   "cell_type": "code",
   "execution_count": 69,
   "id": "94b09e6d-9e51-4582-9253-0a8f44080d30",
   "metadata": {},
   "outputs": [
    {
     "data": {
      "application/vnd.jupyter.widget-view+json": {
       "model_id": "8224841764d54732bca44acf81b23516",
       "version_major": 2,
       "version_minor": 0
      },
      "text/plain": [
       "Evaluating:   0%|          | 0/64 [00:00<?, ?it/s]"
      ]
     },
     "metadata": {},
     "output_type": "display_data"
    },
    {
     "data": {
      "text/plain": [
       "{'answer_correctness': 0.7069}"
      ]
     },
     "execution_count": 69,
     "metadata": {},
     "output_type": "execute_result"
    }
   ],
   "source": [
    "# evaluate RAG\n",
    "rag_eval_result = evaluate(\n",
    "    ds, \n",
    "    metrics=[answer_correctness], column_map={\"answer\": \"rag_answer\", \"contexts\": \"rag_contexts\"},\n",
    "    callbacks=[tracer],\n",
    "    raise_exceptions=False,\n",
    ")\n",
    "rag_eval_result"
   ]
  },
  {
   "cell_type": "code",
   "execution_count": 70,
   "id": "f3a93060-94ab-4257-9712-2cfe43474176",
   "metadata": {},
   "outputs": [
    {
     "data": {
      "application/vnd.jupyter.widget-view+json": {
       "model_id": "dfb09b3ddd914a03997e1e4367e99f2e",
       "version_major": 2,
       "version_minor": 0
      },
      "text/plain": [
       "Evaluating:   0%|          | 0/64 [00:00<?, ?it/s]"
      ]
     },
     "metadata": {},
     "output_type": "display_data"
    },
    {
     "data": {
      "text/plain": [
       "{'answer_correctness': 0.5967}"
      ]
     },
     "execution_count": 70,
     "metadata": {},
     "output_type": "execute_result"
    }
   ],
   "source": [
    "# evaluate LLM\n",
    "llm_eval_result = evaluate(\n",
    "    ds, \n",
    "    metrics=[answer_correctness], \n",
    "    column_map={\"answer\": \"llm_answer\", \"contexts\": \"llm_contexts\"}\n",
    ")\n",
    "llm_eval_result"
   ]
  },
  {
   "cell_type": "markdown",
   "id": "99b90f17-691f-4826-bdfb-de2b4ab44c93",
   "metadata": {},
   "source": [
    "Hmmm, seems like GPT already knows a lot about this dataset - lets try GPT-4 then?"
   ]
  },
  {
   "cell_type": "code",
   "execution_count": 30,
   "id": "df8877a0-beb1-45ba-8038-e94d29b6aca8",
   "metadata": {},
   "outputs": [],
   "source": [
    "llm = OpenAI(model=\"gpt-4\")\n",
    "\n",
    "async def query_llm(query):\n",
    "    resp = await llm.acomplete(prompt.format(question=query))\n",
    "    return resp.text"
   ]
  },
  {
   "cell_type": "code",
   "execution_count": 34,
   "id": "7e3f6a06-3436-4508-ac9b-1c1dc9a47df1",
   "metadata": {},
   "outputs": [
    {
     "name": "stderr",
     "output_type": "stream",
     "text": [
      "100%|██████████████████████████████████████████████████████████| 64/64 [05:08<00:00,  4.81s/it]\n"
     ]
    }
   ],
   "source": [
    "# build dataset - LLM get-4\n",
    "gpt4_answers = []\n",
    "for q in tqdm(df.question):\n",
    "    resp = await query_llm(q)\n",
    "    gpt4_answers.append(resp)"
   ]
  },
  {
   "cell_type": "code",
   "execution_count": 36,
   "id": "7eaa9fbf-4623-482c-b89b-fb29956a627e",
   "metadata": {},
   "outputs": [],
   "source": [
    "# convert to dataset\n",
    "dataset_dict = {\n",
    "    \"question\": df.question,\n",
    "    \"rag_answer\": rag_answer,\n",
    "    \"rag_contexts\": rag_contexts,\n",
    "    \"llm_answer\": llm_answers,\n",
    "    \"llm_contexts\": [['']] * len(llm_answers),\n",
    "    \"gpt4_answer\": gpt4_answers,\n",
    "    \"gpt4_contexts\": [['']] * len(gpt4_answers),\n",
    "    \"ground_truth\": df.ground_truth,\n",
    "}\n",
    "\n",
    "ds = Dataset.from_dict(dataset_dict)"
   ]
  },
  {
   "cell_type": "code",
   "execution_count": 39,
   "id": "ba787821-3bc8-4840-9fff-3ee4af461c90",
   "metadata": {},
   "outputs": [
    {
     "data": {
      "application/vnd.jupyter.widget-view+json": {
       "model_id": "dcfd0d24e29943b4a82a4d09aaac972a",
       "version_major": 2,
       "version_minor": 0
      },
      "text/plain": [
       "Evaluating:   0%|          | 0/64 [00:00<?, ?it/s]"
      ]
     },
     "metadata": {},
     "output_type": "display_data"
    },
    {
     "data": {
      "text/plain": [
       "{'answer_correctness': 0.6203}"
      ]
     },
     "execution_count": 39,
     "metadata": {},
     "output_type": "execute_result"
    }
   ],
   "source": [
    "# evaluate LLM\n",
    "gpt4_eval_result = evaluate(\n",
    "    ds, \n",
    "    metrics=[answer_correctness], \n",
    "    column_map={\"answer\": \"gpt4_answer\", \"contexts\": \"gpt4_contexts\"}\n",
    ")\n",
    "gpt4_eval_result"
   ]
  },
  {
   "cell_type": "markdown",
   "id": "38a26de5-b72e-4d20-8239-c6d061eea556",
   "metadata": {},
   "source": [
    "# Analyse Results"
   ]
  },
  {
   "cell_type": "code",
   "execution_count": 72,
   "id": "6c1e3c40-0512-417d-b647-ef247172c3f3",
   "metadata": {},
   "outputs": [
    {
     "data": {
      "text/html": [
       "<div>\n",
       "<style scoped>\n",
       "    .dataframe tbody tr th:only-of-type {\n",
       "        vertical-align: middle;\n",
       "    }\n",
       "\n",
       "    .dataframe tbody tr th {\n",
       "        vertical-align: top;\n",
       "    }\n",
       "\n",
       "    .dataframe thead th {\n",
       "        text-align: right;\n",
       "    }\n",
       "</style>\n",
       "<table border=\"1\" class=\"dataframe\">\n",
       "  <thead>\n",
       "    <tr style=\"text-align: right;\">\n",
       "      <th></th>\n",
       "      <th>question</th>\n",
       "      <th>rag_answer</th>\n",
       "      <th>rag_contexts</th>\n",
       "      <th>llm_answer</th>\n",
       "      <th>llm_contexts</th>\n",
       "      <th>ground_truth</th>\n",
       "      <th>answer_correctness_llm</th>\n",
       "      <th>answer_correctness_rag</th>\n",
       "    </tr>\n",
       "  </thead>\n",
       "  <tbody>\n",
       "    <tr>\n",
       "      <th>0</th>\n",
       "      <td>What are some linguistic signals of dogmatic l...</td>\n",
       "      <td>Pronouns, verb tense, sentiment (positive or n...</td>\n",
       "      <td>[From a behavioral standpoint,\\ndogmatic peopl...</td>\n",
       "      <td>1. Absolutist Language: Dogmatic language ofte...</td>\n",
       "      <td>[]</td>\n",
       "      <td>Present tense, past tense, negative emotion, s...</td>\n",
       "      <td>0.456591</td>\n",
       "      <td>0.822189</td>\n",
       "    </tr>\n",
       "    <tr>\n",
       "      <th>1</th>\n",
       "      <td>How does the previous vowel affect the pronunc...</td>\n",
       "      <td>The previous vowel in English can be affected ...</td>\n",
       "      <td>[But despite\\nbeing glottographic, in few writ...</td>\n",
       "      <td>The pronunciation of a word in English can be ...</td>\n",
       "      <td>[]</td>\n",
       "      <td>The previous vowel affects the pronunciation o...</td>\n",
       "      <td>0.412959</td>\n",
       "      <td>0.607144</td>\n",
       "    </tr>\n",
       "    <tr>\n",
       "      <th>2</th>\n",
       "      <td>What are the two natural language processing t...</td>\n",
       "      <td>Text simplification and readability assessment...</td>\n",
       "      <td>[As\\npart of a rule-based approach, the operat...</td>\n",
       "      <td>Text simplification and Machine translation</td>\n",
       "      <td>[]</td>\n",
       "      <td>The two natural language processing tasks that...</td>\n",
       "      <td>0.218641</td>\n",
       "      <td>0.740867</td>\n",
       "    </tr>\n",
       "    <tr>\n",
       "      <th>3</th>\n",
       "      <td>What is the Cloze objective of MLM in cross-li...</td>\n",
       "      <td>The Cloze objective of MLM in cross-lingual pr...</td>\n",
       "      <td>[In the pretraining phase, we ﬁrst pretrain ML...</td>\n",
       "      <td>The Cloze objective of MLM (Masked Language Mo...</td>\n",
       "      <td>[]</td>\n",
       "      <td>The Cloze objective of MLM in cross-lingual pr...</td>\n",
       "      <td>0.616323</td>\n",
       "      <td>0.749505</td>\n",
       "    </tr>\n",
       "    <tr>\n",
       "      <th>4</th>\n",
       "      <td>What is the main challenge that leads to the f...</td>\n",
       "      <td>The main challenge that leads to the failure o...</td>\n",
       "      <td>[tialize a low-resource source →target model (...</td>\n",
       "      <td>The main challenge that leads to the failure o...</td>\n",
       "      <td>[]</td>\n",
       "      <td>The main challenge that leads to the failure o...</td>\n",
       "      <td>0.612409</td>\n",
       "      <td>0.614842</td>\n",
       "    </tr>\n",
       "  </tbody>\n",
       "</table>\n",
       "</div>"
      ],
      "text/plain": [
       "                                            question  \\\n",
       "0  What are some linguistic signals of dogmatic l...   \n",
       "1  How does the previous vowel affect the pronunc...   \n",
       "2  What are the two natural language processing t...   \n",
       "3  What is the Cloze objective of MLM in cross-li...   \n",
       "4  What is the main challenge that leads to the f...   \n",
       "\n",
       "                                          rag_answer  \\\n",
       "0  Pronouns, verb tense, sentiment (positive or n...   \n",
       "1  The previous vowel in English can be affected ...   \n",
       "2  Text simplification and readability assessment...   \n",
       "3  The Cloze objective of MLM in cross-lingual pr...   \n",
       "4  The main challenge that leads to the failure o...   \n",
       "\n",
       "                                        rag_contexts  \\\n",
       "0  [From a behavioral standpoint,\\ndogmatic peopl...   \n",
       "1  [But despite\\nbeing glottographic, in few writ...   \n",
       "2  [As\\npart of a rule-based approach, the operat...   \n",
       "3  [In the pretraining phase, we ﬁrst pretrain ML...   \n",
       "4  [tialize a low-resource source →target model (...   \n",
       "\n",
       "                                          llm_answer llm_contexts  \\\n",
       "0  1. Absolutist Language: Dogmatic language ofte...           []   \n",
       "1  The pronunciation of a word in English can be ...           []   \n",
       "2        Text simplification and Machine translation           []   \n",
       "3  The Cloze objective of MLM (Masked Language Mo...           []   \n",
       "4  The main challenge that leads to the failure o...           []   \n",
       "\n",
       "                                        ground_truth  answer_correctness_llm  \\\n",
       "0  Present tense, past tense, negative emotion, s...                0.456591   \n",
       "1  The previous vowel affects the pronunciation o...                0.412959   \n",
       "2  The two natural language processing tasks that...                0.218641   \n",
       "3  The Cloze objective of MLM in cross-lingual pr...                0.616323   \n",
       "4  The main challenge that leads to the failure o...                0.612409   \n",
       "\n",
       "   answer_correctness_rag  \n",
       "0                0.822189  \n",
       "1                0.607144  \n",
       "2                0.740867  \n",
       "3                0.749505  \n",
       "4                0.614842  "
      ]
     },
     "execution_count": 72,
     "metadata": {},
     "output_type": "execute_result"
    }
   ],
   "source": [
    "rag_eval_df = rag_eval_result.to_pandas()\n",
    "llm_eval_df = llm_eval_result.to_pandas()\n",
    "dataset_df = ds.to_pandas()\n",
    "\n",
    "dataset_df[\"answer_correctness_llm\"] = llm_eval_df.answer_correctness\n",
    "dataset_df[\"answer_correctness_rag\"] = rag_eval_df.answer_correctness\n",
    "dataset_df.head()"
   ]
  },
  {
   "cell_type": "code",
   "execution_count": 73,
   "id": "18004a69-cabf-4c2d-9c08-f3727a751918",
   "metadata": {},
   "outputs": [],
   "source": [
    "dataset_df.to_csv(\"baseline_eval.csv\")"
   ]
  },
  {
   "cell_type": "markdown",
   "id": "5f23108e-d714-42dc-b2c6-6f97162a01f6",
   "metadata": {},
   "source": [
    "You can check the [spreadsheet](https://docs.google.com/spreadsheets/d/1FJ55p6QrP7WqBsOGF4lwhYZAeHZbZmWqY_7MgfbvjL4/edit?usp=sharing) for full analysis."
   ]
  },
  {
   "cell_type": "code",
   "execution_count": null,
   "id": "2adad764-0324-4283-8da6-db7fbef37cf7",
   "metadata": {},
   "outputs": [],
   "source": []
  }
 ],
 "metadata": {
  "kernelspec": {
   "display_name": "Python 3 (ipykernel)",
   "language": "python",
   "name": "python3"
  },
  "language_info": {
   "codemirror_mode": {
    "name": "ipython",
    "version": 3
   },
   "file_extension": ".py",
   "mimetype": "text/x-python",
   "name": "python",
   "nbconvert_exporter": "python",
   "pygments_lexer": "ipython3",
   "version": "3.10.12"
  }
 },
 "nbformat": 4,
 "nbformat_minor": 5
}
