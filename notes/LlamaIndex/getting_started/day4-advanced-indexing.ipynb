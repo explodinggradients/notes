{
 "cells": [
  {
   "cell_type": "markdown",
   "id": "67991b31",
   "metadata": {},
   "source": [
    "4. this can be seperate\n",
    "    - composability\n",
    "    - different indicies"
   ]
  },
  {
   "cell_type": "markdown",
   "id": "2ae482b5",
   "metadata": {},
   "source": [
    "# Advanced Indices\n",
    "\n",
    "Indices are really thin data structures that provide structure and metadata to the documents to help retrieve the correct information that is needed by the LLM. Today we are going to be discussing the advantages and disadvantages of the most popular ones and seeing them in action. We'll also learn about how you can put different types of indices together to get the best out of each of them."
   ]
  },
  {
   "cell_type": "code",
   "execution_count": 2,
   "id": "f9afccc7",
   "metadata": {},
   "outputs": [],
   "source": [
    "# make sure you have a valid OpenAI API key and it set as an \n",
    "# environment variable \"OPENAI_API_KEY\".\n",
    "import os\n",
    "import logging\n",
    "import sys\n",
    "\n",
    "from IPython.display import Markdown, display\n",
    "\n",
    "from llama_index import (\n",
    "    GPTVectorStoreIndex, \n",
    "    GPTSimpleKeywordTableIndex, \n",
    "    SimpleDirectoryReader,\n",
    "    LLMPredictor,\n",
    "    ServiceContext\n",
    ")\n",
    "from langchain.llms.openai import OpenAIChat\n",
    "\n",
    "if os.environ.get(\"OPENAI_API_KEY\") is None:\n",
    "    logging.error(\"OPENAI_API_KEY not Found! Please add it as an env var\")\n",
    "    \n",
    "# ennable DEBUG mode to more logs and understand what is happening.\n",
    "#logging.basicConfig(stream=sys.stdout, level=logging.INFO)\n",
    "#logging.getLogger().addHandler(logging.StreamHandler(stream=sys.stdout))\n",
    "\n",
    "logger = logging.getLogger()\n",
    "logger.disabled = True"
   ]
  },
  {
   "cell_type": "code",
   "execution_count": 42,
   "id": "83679129",
   "metadata": {},
   "outputs": [],
   "source": [
    "from os import listdir\n",
    "from llama_index import SimpleDirectoryReader\n",
    "\n",
    "pg_docs = {}\n",
    "essays_list = listdir('./essays/')\n",
    "\n",
    "for file_name in essays_list:\n",
    "    if '.md' not in file_name:\n",
    "        continue \n",
    "    key = file_name[:-3]\n",
    "    key = ' '.join(key.split('_')[1:])\n",
    "    pg_docs[key] = SimpleDirectoryReader(\n",
    "        input_files=[f\"./essays/{file_name}\"]\n",
    "    ).load_data()\n",
    "          \n",
    "\n",
    "startup_blogs = [\n",
    "    \"how to get startup ideas\",\n",
    "    \"startup  growth\", \"schlep blindness\", \n",
    "    \"organic startup ideas\",\n",
    "    \"the 18 mistakes that kill startups\", \n",
    "    \"why to not not start a startup\",\n",
    "    \"what ive learned from users\", \"how to make wealth\"\n",
    "]\n",
    "\n",
    "for blog in startup_blogs:\n",
    "    assert blog in pg_docs, f\"{blog} not found\""
   ]
  },
  {
   "cell_type": "code",
   "execution_count": 17,
   "id": "9335f4b5",
   "metadata": {},
   "outputs": [
    {
     "name": "stderr",
     "output_type": "stream",
     "text": [
      "/home/jjmachan/miniconda3/envs/asktheblog/lib/python3.10/site-packages/langchain/llms/openai.py:696: UserWarning: You are trying to use a chat model. This way of initializing it is no longer supported. Instead, please use: `from langchain.chat_models import ChatOpenAI`\n",
      "  warnings.warn(\n"
     ]
    }
   ],
   "source": [
    "\n",
    "# Config LLM\n",
    "chatgpt = LLMPredictor(llm=OpenAIChat(temperature=0, model_name=\"gpt-3.5-turbo\"))\n",
    "service_context = ServiceContext.from_defaults(\n",
    "    llm_predictor=chatgpt, chunk_size_limit=1024\n",
    ")\n",
    "\n",
    "# gpt4 = LLMPredictor(llm=OpenAIChat(temperature=0, model_name=\"gpt-4\"))\n",
    "# service_context = ServiceContext.from_defaults(\n",
    "#     llm_predictor=gpt4, chunk_size_limit=1024\n",
    "# )"
   ]
  },
  {
   "cell_type": "code",
   "execution_count": 18,
   "id": "52b9dd47",
   "metadata": {},
   "outputs": [
    {
     "ename": "NameError",
     "evalue": "name 'tree_index' is not defined",
     "output_type": "error",
     "traceback": [
      "\u001b[0;31m---------------------------------------------------------------------------\u001b[0m",
      "\u001b[0;31mNameError\u001b[0m                                 Traceback (most recent call last)",
      "Cell \u001b[0;32mIn[18], line 1\u001b[0m\n\u001b[0;32m----> 1\u001b[0m \u001b[43mtree_index\u001b[49m\u001b[38;5;241m.\u001b[39mdocstore\u001b[38;5;241m.\u001b[39mdocs\u001b[38;5;241m.\u001b[39m\u001b[38;5;21m__len__\u001b[39m()\n",
      "\u001b[0;31mNameError\u001b[0m: name 'tree_index' is not defined"
     ]
    }
   ],
   "source": [
    "tree_index.docstore.docs.__len__()"
   ]
  },
  {
   "cell_type": "code",
   "execution_count": 46,
   "id": "8b6eb923",
   "metadata": {},
   "outputs": [],
   "source": [
    "from llama_index import GPTTreeIndex, GPTListIndex, GPTKeywordTableIndex, GPTEmptyIndex, GPTVectorStoreIndex\n",
    "from llama_index.indices.document_summary import GPTDocumentSummaryIndex"
   ]
  },
  {
   "cell_type": "code",
   "execution_count": 36,
   "id": "cb0c2587",
   "metadata": {},
   "outputs": [
    {
     "name": "stdout",
     "output_type": "stream",
     "text": [
      "The essay discusses the economic proposition of startups and entrepreneurship, including the idea that startups involve technology and take on hard technical problems. The author also suggests that startups allow individuals to compress their working life into a few years and be more productive than in a corporate job. The essay does not provide a comprehensive list of underlying principles of startups and entrepreneurship.\n"
     ]
    }
   ],
   "source": [
    "from llama_index import GPTTreeIndex\n",
    "\n",
    "tree_index = GPTTreeIndex.from_documents(\n",
    "    pg_docs['how to make wealth'],\n",
    "    service_context=service_context\n",
    ")\n",
    "tree_qe = tree_index.as_query_engine()\n",
    "resp = tree_qe.query(\"what are the underlying principles of startups and entrepreneurship\")\n",
    "print(resp)"
   ]
  },
  {
   "cell_type": "code",
   "execution_count": 59,
   "id": "0694c4be",
   "metadata": {},
   "outputs": [
    {
     "name": "stderr",
     "output_type": "stream",
     "text": [
      "INFO:llama_index.token_counter.token_counter:> [build_index_from_nodes] Total LLM token usage: 0 tokens\n",
      "INFO:llama_index.token_counter.token_counter:> [build_index_from_nodes] Total embedding token usage: 0 tokens\n",
      "INFO:llama_index.token_counter.token_counter:> [get_response] Total LLM token usage: 23323 tokens\n",
      "INFO:llama_index.token_counter.token_counter:> [get_response] Total embedding token usage: 0 tokens\n"
     ]
    },
    {
     "name": "stdout",
     "output_type": "stream",
     "text": [
      "The key takeaways from Paul Graham's essay are that creating wealth is a legitimate and straightforward way to get rich, and starting or joining a startup in the technology industry is a reliable path to wealth creation. Graham emphasizes that wealth is not the same thing as money and that businesses create wealth by doing something people want. He also notes that there is not a fixed amount of wealth in the world and that wealth can be created and destroyed.\n",
      "\n",
      "Graham highlights the importance of hard work, endurance, and a willingness to take on hard technical problems in creating a successful startup. He notes that programmers are among the few remaining craftsmen who can create wealth by sitting down in front of a computer and writing software. Graham also points out that there are huge variations in the rate at which wealth is created and that the best programmers can be 36 times more productive than in a random corporate job, earning up to $3 million a year.\n",
      "\n",
      "Furthermore, Graham argues that to get rich, you need to be in a situation with two things: measurement and leverage. You need to be in a position where your performance can be measured, and the decisions you make have a big effect. Measurement alone is not enough, as seen in jobs like piecework in a sweatshop. An example of a job with both measurement and leverage would be a lead actor in a movie or a CEO.\n",
      "\n",
      "Graham also emphasizes the importance of smallness and technology in creating leverage. Small groups working on hard problems can accurately measure the value of individual contributions, and startups offer anyone a way to be in a situation with measurement and leverage. They allow measurement because they're small, and they offer leverage because they make money by inventing new technology. Graham argues that most people who got rich by creating wealth did it by developing new technology.\n",
      "\n",
      "However, Graham also notes that there are catches to starting a startup. One is that you can't choose the point on the curve that you want to inhabit. You can't decide, for example, that you want to work only two hours a day and still get rich. Starting a startup requires hard work and a willingness to take on difficult challenges. Additionally, while starting a startup may be more fun than working in a big company, there are still challenges such as patent litigation and the need to develop technology that is too hard for competitors to duplicate.\n",
      "\n",
      "Graham also discusses the importance of getting users and treating a startup as an optimization problem in which performance is measured by the number of users. He argues that wealth is what people want, and if people aren't using your software, maybe it's not just because you're bad at marketing. Maybe it's because you haven't made what they want. Graham also notes that making wealth is not the only way to get rich, but it is a reliable way to create wealth. Governments that forbid you to accumulate wealth are in effect decreeing that you work slowly, and technical innovation grinds to a halt.\n",
      "\n",
      "Finally, Graham suggests that allowing those who make a lot of money to keep it is a powerful idea that can lead to technological growth and military power. This idea has been used throughout history, from Florence in 1200 to Silicon Valley today. Understanding this may help to answer why Europe grew so powerful and why technological growth is important for creating wealth and power. Graham also notes that interruptions can be a major hindrance to productivity and that startups offer an advantage in this regard. Additionally, he suggests that paying employees in proportion to the wealth they generate could maximize a company's profitability.\n"
     ]
    }
   ],
   "source": [
    "from llama_index import GPTListIndex\n",
    "\n",
    "list_index = GPTListIndex.from_documents(\n",
    "    pg_docs['how to make wealth'],\n",
    "    service_context=service_context\n",
    ")\n",
    "list_qe = list_index.as_query_engine()\n",
    "resp = list_qe.query(\n",
    "    \"what are the key take aways? explain as if you are paul graham\")\n",
    "print(resp)"
   ]
  },
  {
   "cell_type": "code",
   "execution_count": 20,
   "id": "1f578df2",
   "metadata": {},
   "outputs": [
    {
     "name": "stdout",
     "output_type": "stream",
     "text": [
      "None\n",
      "current doc id: 4b8cfb61-b171-4964-97b4-c3e072bce91c\n"
     ]
    }
   ],
   "source": [
    "# summary index\n",
    "\n",
    "from llama_index.indices.document_summary import GPTDocumentSummaryIndex\n",
    "\n",
    "summary_index = GPTDocumentSummaryIndex.from_documents(\n",
    "    documents=pg_docs['how to make wealth']\n",
    ")"
   ]
  },
  {
   "cell_type": "code",
   "execution_count": 16,
   "id": "fa17db89",
   "metadata": {},
   "outputs": [
    {
     "name": "stdout",
     "output_type": "stream",
     "text": [
      "\n",
      "\n",
      "• Start or join a small group working on a hard problem\n",
      "• Work hard and fast, with an emphasis on productivity\n",
      "• Compress your working life into a few years\n",
      "• Do something people want\n",
      "• Understand that money is not wealth\n",
      "• Disprove the Pie Fallacy\n",
      "• Create wealth by making things\n",
      "• Craftsmen can create wealth by making things\n",
      "• Understand that a job means doing something people want\n",
      "• Working harder can create more wealth\n",
      "• Look for jobs with measurement and leverage\n",
      "• Small groups working on hard problems can create wealth\n",
      "• Understand that smallness equals measurement\n",
      "• Recognize that upside must be balanced by downside\n",
      "• Be aware that if there is no danger, there is likely no leverage\n",
      "• Use difficulty as a guide not just in selecting the overall aim of your company, but also at decision points along the way\n",
      "• Develop technology that's too hard for competitors to duplicate\n",
      "• Pick a hard problem and take the harder choice at every decision point\n",
      "• Be aware that success is often an all-or-nothing proposition, and you may not know which you'll get until the last minute\n",
      "• Get users by treating a startup as an optimization problem in which performance is measured by number of users\n",
      "\n"
     ]
    }
   ],
   "source": [
    "qe = summary_index.as_query_engine()\n",
    "response = qe.query(\"how to make wealth? explain in bullet points\")\n",
    "print(response)"
   ]
  },
  {
   "cell_type": "markdown",
   "id": "88dcbea6",
   "metadata": {},
   "source": [
    "## Composition"
   ]
  },
  {
   "cell_type": "code",
   "execution_count": 22,
   "id": "dafd7329",
   "metadata": {},
   "outputs": [
    {
     "name": "stdout",
     "output_type": "stream",
     "text": [
      "None\n",
      "current doc id: 4b8cfb61-b171-4964-97b4-c3e072bce91c\n"
     ]
    }
   ],
   "source": [
    "tree_index = GPTTreeIndex.from_documents(\n",
    "    pg_docs['how to make wealth'],\n",
    "    service_context=service_context\n",
    ")\n",
    "\n",
    "list_index = GPTListIndex.from_documents(\n",
    "    pg_docs['how to make wealth'],\n",
    "    service_context=service_context\n",
    ")\n",
    "\n",
    "summary_index = GPTDocumentSummaryIndex.from_documents(\n",
    "    documents=pg_docs['how to make wealth']\n",
    ")\n",
    "empty_index = GPTEmptyIndex()"
   ]
  },
  {
   "cell_type": "code",
   "execution_count": 44,
   "id": "a8428de0",
   "metadata": {},
   "outputs": [],
   "source": [
    "empty_index = GPTEmptyIndex(service_context=service_context)\n"
   ]
  },
  {
   "cell_type": "code",
   "execution_count": 45,
   "id": "5e3fd002",
   "metadata": {},
   "outputs": [
    {
     "name": "stdout",
     "output_type": "stream",
     "text": [
      "None\n"
     ]
    }
   ],
   "source": [
    "qe = empty_index.as_query_engine()\n",
    "r = qe.query(\"what is the essay about?\")\n",
    "print(r)"
   ]
  },
  {
   "cell_type": "code",
   "execution_count": 47,
   "id": "90640db0",
   "metadata": {},
   "outputs": [],
   "source": [
    "startup_ideas = GPTVectorStoreIndex.from_documents(\n",
    "    pg_docs[\"how to get startup ideas\"],\n",
    "    service_context=service_context\n",
    ")\n",
    "wealth = GPTVectorStoreIndex.from_documents(\n",
    "    pg_docs['how to make wealth'],\n",
    "    service_context=service_context\n",
    ")\n",
    "why_startup = GPTVectorStoreIndex.from_documents(\n",
    "    pg_docs[\"why to not not start a startup\"],\n",
    "    service_context=service_context\n",
    ")"
   ]
  },
  {
   "cell_type": "code",
   "execution_count": 48,
   "id": "e6fe8d89",
   "metadata": {},
   "outputs": [],
   "source": [
    "from llama_index.indices.composability import ComposableGraph\n",
    "\n",
    "graph = ComposableGraph.from_indices(\n",
    "    GPTTreeIndex,\n",
    "    [startup_ideas, wealth, why_startup],\n",
    "    index_summaries=[\n",
    "        \"explains how to get startup ideas\",\n",
    "        \"explains how to make wealth and why startups are a good choice\",\n",
    "        \"explains the reasons why you should start a startup\",\n",
    "    ]\n",
    ")"
   ]
  },
  {
   "cell_type": "code",
   "execution_count": 51,
   "id": "413070d3",
   "metadata": {},
   "outputs": [
    {
     "name": "stderr",
     "output_type": "stream",
     "text": [
      "Retrying langchain.llms.openai.completion_with_retry.<locals>._completion_with_retry in 4.0 seconds as it raised RateLimitError: That model is currently overloaded with other requests. You can retry your request, or contact us through our help center at help.openai.com if the error persists. (Please include the request ID a5029e54ff876300f910ff81ad66edb3 in your message.).\n"
     ]
    },
    {
     "name": "stdout",
     "output_type": "stream",
     "text": [
      "\n",
      "You can get wealthy by creating wealth and getting paid for it, as well as by taking advantage of chance, speculation, marriage, inheritance, theft, extortion, fraud, monopoly, graft, lobbying, counterfeiting, and prospecting.\n"
     ]
    }
   ],
   "source": [
    "qe = graph.as_query_engine()\n",
    "r = qe.query(\"how do you get wealthy?\")\n",
    "print(r)"
   ]
  },
  {
   "cell_type": "code",
   "execution_count": 52,
   "id": "3f096d6e",
   "metadata": {},
   "outputs": [
    {
     "name": "stdout",
     "output_type": "stream",
     "text": [
      "> Source (Doc id: 7d1c8d8c-af94-45b8-90a3-2288f7db8b17): According to the essay, one way to get wealthy is by creating wealth and getting paid for it. Thi...\n",
      "\n",
      "> Source (Doc id: 2a801093-5f24-4372-af51-f15d64f24d02): wealth creation. They just represent a point at the far end of the curve. There is a conservation...\n",
      "\n",
      "> Source (Doc id: 8f72f854-4353-45af-9233-d54615c903c9): some imaginary Daddy.   \n",
      "  \n",
      " It's also obvious to programmers that there are huge variations in t...\n"
     ]
    }
   ],
   "source": [
    "print(r.get_formatted_sources())"
   ]
  },
  {
   "cell_type": "code",
   "execution_count": 53,
   "id": "25d92894",
   "metadata": {},
   "outputs": [
    {
     "name": "stdout",
     "output_type": "stream",
     "text": [
      "\n",
      "Starting a startup can be a great way to make a difference in the world and to create something that can have a lasting impact. It can also be a great way to make money and to gain experience in the business world. To get ideas for a startup, one can look for something that is missing in their own life and try to supply that need, even if it seems specific to them. Additionally, it is possible to look at current trends and problems in the world and try to come up with a solution. Finally, it is important to find a cofounder to share the workload and to brainstorm ideas.\n"
     ]
    }
   ],
   "source": [
    "qe = graph.as_query_engine()\n",
    "r = qe.query(\"why should I start a startup? how can I get ideas\")\n",
    "print(r)"
   ]
  },
  {
   "cell_type": "code",
   "execution_count": 54,
   "id": "5ca05e2a",
   "metadata": {},
   "outputs": [
    {
     "name": "stdout",
     "output_type": "stream",
     "text": [
      "> Source (Doc id: 94b6b511-f47d-4efd-b38f-b8ae72035ec2): According to the context information, starting a startup can be a good idea because there is no l...\n",
      "\n",
      "> Source (Doc id: accd98b6-b582-459d-9f20-a40e172e05eb): In the average Y Combinator startup, I'd guess 70% of the idea is new at the end of the first thr...\n",
      "\n",
      "> Source (Doc id: 57acf0a4-2380-4487-81fc-2186a1546435): holds for them too: if users love you, you can always make money from that somehow, and if they d...\n"
     ]
    }
   ],
   "source": [
    "print(r.get_formatted_sources())"
   ]
  },
  {
   "cell_type": "code",
   "execution_count": 55,
   "id": "1bd18c16",
   "metadata": {},
   "outputs": [
    {
     "name": "stdout",
     "output_type": "stream",
     "text": [
      "\n",
      "The exact startup ideas that will make you wealthy will depend on your individual skills, interests, and the current market conditions. However, the essay suggests that the key to generating wealth is to understand what people want and make customers happy. Therefore, you should focus on creating a startup that solves a problem that people have and that they are willing to pay for. Additionally, you should focus on creating a product or service that is of high quality and that customers are satisfied with.\n"
     ]
    }
   ],
   "source": [
    "qe = graph.as_query_engine()\n",
    "r = qe.query(\"which startup ideas will make me weathly?\")\n",
    "print(r)"
   ]
  },
  {
   "cell_type": "code",
   "execution_count": 56,
   "id": "fc71d041",
   "metadata": {},
   "outputs": [
    {
     "name": "stdout",
     "output_type": "stream",
     "text": [
      "> Source (Doc id: 37c76376-755c-4b1d-8f2b-00f72e3151e1): The essay does not provide specific startup ideas that will make someone wealthy. Instead, it dis...\n",
      "\n",
      "> Source (Doc id: 92793f54-8e2a-433d-8b19-9beb1e3fae5d): \n",
      "\n",
      "028 How to Make Wealth\n",
      "\n",
      "\n",
      "  \n",
      " \n",
      "  \n",
      " **Want to start a startup?** Get funded by Y Combinator.   \n",
      " ...\n",
      "\n",
      "> Source (Doc id: 4063b5c2-31bc-45d6-a955-6fa03d9e935b): where your program is slow, and what would make it faster, you almost always guess wrong.   \n",
      "  \n",
      " ...\n"
     ]
    }
   ],
   "source": [
    "print(r.get_formatted_sources())"
   ]
  },
  {
   "cell_type": "code",
   "execution_count": 60,
   "id": "22e9ba6d",
   "metadata": {},
   "outputs": [],
   "source": [
    "full_index = GPTVectorStoreIndex.from_documents(\n",
    "    documents=[\n",
    "        pg_docs[\"how to get startup ideas\"][0],\n",
    "        pg_docs['how to make wealth'][0],\n",
    "        pg_docs[\"why to not not start a startup\"][0],\n",
    "    ],\n",
    "    service_context=service_context\n",
    ")"
   ]
  },
  {
   "cell_type": "code",
   "execution_count": 62,
   "id": "f1ba2a5f",
   "metadata": {},
   "outputs": [
    {
     "name": "stdout",
     "output_type": "stream",
     "text": [
      "The essay does not provide specific startup ideas that will make someone wealthy. Instead, it discusses the economic proposition of startups and the potential for individuals to earn a high income by working hard and solving hard technical problems. It also emphasizes the importance of understanding what people want and making customers happy in order to generate wealth.\n"
     ]
    }
   ],
   "source": [
    "qe = full_index.as_query_engine()\n",
    "r = qe.query(\"which startup ideas will make me weathly?\")\n",
    "print(r)"
   ]
  },
  {
   "cell_type": "code",
   "execution_count": 63,
   "id": "323326ce",
   "metadata": {},
   "outputs": [
    {
     "name": "stdout",
     "output_type": "stream",
     "text": [
      "According to the essay, one way to get wealthy is by creating wealth and getting paid for it. This involves doing something that people want and creating value. However, the essay also notes that there are many other ways to get money, including chance, speculation, marriage, inheritance, theft, extortion, fraud, monopoly, graft, lobbying, counterfeiting, and prospecting.\n"
     ]
    }
   ],
   "source": [
    "r = qe.query(\"how do you get wealthy?\")\n",
    "print(r)"
   ]
  },
  {
   "cell_type": "code",
   "execution_count": 64,
   "id": "6e9648d2",
   "metadata": {},
   "outputs": [
    {
     "name": "stdout",
     "output_type": "stream",
     "text": [
      "According to the article, the best way to get startup ideas is to look for problems, preferably problems you have yourself. The article also emphasizes the importance of working on a problem that really exists and that there are users who really need what you're making. The article suggests that good startup ideas tend to have three things in common: they're something the founders themselves want, that they themselves can build, and that few others realize are worth doing. The article does not explicitly state why someone should start a startup, but it does provide guidance on how to come up with good startup ideas.\n"
     ]
    }
   ],
   "source": [
    "r = qe.query(\"why should I start a startup? how can I get ideas\")\n",
    "print(r)"
   ]
  },
  {
   "cell_type": "code",
   "execution_count": null,
   "id": "c520ad8a",
   "metadata": {},
   "outputs": [],
   "source": []
  }
 ],
 "metadata": {
  "kernelspec": {
   "display_name": "Python 3 (ipykernel)",
   "language": "python",
   "name": "python3"
  },
  "language_info": {
   "codemirror_mode": {
    "name": "ipython",
    "version": 3
   },
   "file_extension": ".py",
   "mimetype": "text/x-python",
   "name": "python",
   "nbconvert_exporter": "python",
   "pygments_lexer": "ipython3",
   "version": "3.10.9"
  }
 },
 "nbformat": 4,
 "nbformat_minor": 5
}
