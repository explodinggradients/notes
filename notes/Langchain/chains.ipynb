{
 "cells": [
  {
   "cell_type": "markdown",
   "id": "f46200c8",
   "metadata": {},
   "source": [
    "# Chains - Intro\n",
    "\n",
    "chains are a core concept in langchain. It enables you to group together complex LLM calls and other functionality together\n",
    "\n",
    "\n",
    "The base interface is \n",
    "```python\n",
    "class Chain(BaseModel, ABC):\n",
    "    \"\"\"Base interface that all chains should implement.\"\"\"\n",
    "\n",
    "    memory: BaseMemory\n",
    "    callbacks: Callbacks\n",
    "\n",
    "    def __call__(\n",
    "        self,\n",
    "        inputs: Any,\n",
    "        return_only_outputs: bool = False,\n",
    "        callbacks: Callbacks = None,\n",
    "    ) -> Dict[str, Any]:\n",
    "        ...\n",
    "```"
   ]
  },
  {
   "cell_type": "markdown",
   "id": "4b779141",
   "metadata": {},
   "source": [
    "## Getting Started\n",
    "\n",
    "`LLMChain` is the basic building block for chains."
   ]
  },
  {
   "cell_type": "code",
   "execution_count": 7,
   "id": "f9207cec",
   "metadata": {},
   "outputs": [],
   "source": [
    "from langchain.llms import OpenAI\n",
    "from langchain.prompts import PromptTemplate\n",
    "from langchain.chat_models import ChatOpenAI\n",
    "\n",
    "llm = OpenAI(temperature=0.9)\n",
    "chat_llm = ChatOpenAI()\n",
    "\n",
    "prompt = PromptTemplate(\n",
    "    input_variables=[\"product\"],\n",
    "    template=\"What is a good name for a company that makes {product}?\",\n",
    ")"
   ]
  },
  {
   "cell_type": "code",
   "execution_count": 8,
   "id": "6d81a9b8",
   "metadata": {},
   "outputs": [
    {
     "data": {
      "text/plain": [
       "{'product': 'colorful vests', 'text': 'VibrantVests'}"
      ]
     },
     "execution_count": 8,
     "metadata": {},
     "output_type": "execute_result"
    }
   ],
   "source": [
    "from langchain.chains import LLMChain\n",
    "chain = LLMChain(llm=chat_llm, prompt=prompt)\n",
    "\n",
    "# Run the chain only specifying the input variable.\n",
    "chain({\"product\": \"colorful vests\"})"
   ]
  },
  {
   "cell_type": "markdown",
   "id": "a3908709",
   "metadata": {},
   "source": [
    "## Custom Chain\n",
    "\n",
    "You have to implement"
   ]
  },
  {
   "cell_type": "code",
   "execution_count": 13,
   "id": "528baa20",
   "metadata": {},
   "outputs": [],
   "source": [
    "from langchain.chains.base import Chain\n",
    "\n",
    "class MyCustomChain(Chain):\n",
    "    @property\n",
    "    def input_keys(self):\n",
    "        return [\"question\", \"answer\", \"contexts\"]\n",
    "    \n",
    "    @property\n",
    "    def output_keys(self):\n",
    "        return [\"score\"]\n",
    "    \n",
    "    def _call(self, inputs, run_manager = None):\n",
    "        print(inputs)\n",
    "        return {\"score\": 1}"
   ]
  },
  {
   "cell_type": "code",
   "execution_count": 14,
   "id": "391033b6",
   "metadata": {},
   "outputs": [],
   "source": [
    "chain = MyCustomChain()"
   ]
  },
  {
   "cell_type": "code",
   "execution_count": 15,
   "id": "598474ff",
   "metadata": {},
   "outputs": [
    {
     "name": "stdout",
     "output_type": "stream",
     "text": [
      "{'question': 'q', 'answer': 'a', 'contexts': ['a']}\n"
     ]
    },
    {
     "data": {
      "text/plain": [
       "{'question': 'q', 'answer': 'a', 'contexts': ['a'], 'score': 1}"
      ]
     },
     "execution_count": 15,
     "metadata": {},
     "output_type": "execute_result"
    }
   ],
   "source": [
    "chain({\n",
    "    \"question\": \"q\",\n",
    "    \"answer\": \"a\",\n",
    "    \"contexts\": [\"a\"]\n",
    "})"
   ]
  },
  {
   "cell_type": "code",
   "execution_count": null,
   "id": "ab88ba75",
   "metadata": {},
   "outputs": [],
   "source": []
  }
 ],
 "metadata": {
  "kernelspec": {
   "display_name": "Python 3 (ipykernel)",
   "language": "python",
   "name": "python3"
  },
  "language_info": {
   "codemirror_mode": {
    "name": "ipython",
    "version": 3
   },
   "file_extension": ".py",
   "mimetype": "text/x-python",
   "name": "python",
   "nbconvert_exporter": "python",
   "pygments_lexer": "ipython3",
   "version": "3.10.12"
  }
 },
 "nbformat": 4,
 "nbformat_minor": 5
}
