{
 "cells": [
  {
   "cell_type": "markdown",
   "id": "4ac3c236",
   "metadata": {},
   "source": [
    "# CallbackHandlers and CallbackManagers"
   ]
  },
  {
   "cell_type": "code",
   "execution_count": 9,
   "id": "0c11f0ae",
   "metadata": {},
   "outputs": [],
   "source": [
    "from langchain.callbacks.manager import (\n",
    "    trace_as_chain_group, \n",
    "    atrace_as_chain_group,\n",
    ")\n",
    "\n",
    "# Example usage:\n",
    "from langchain.chat_models import ChatOpenAI\n",
    "from langchain.chains import LLMChain\n",
    "from langchain.prompts import PromptTemplate\n",
    "\n",
    "llm = ChatOpenAI(temperature=0.9)\n",
    "prompt = PromptTemplate(\n",
    "    input_variables=[\"question\"],\n",
    "    template=\"What is the answer to {question}?\",\n",
    ")\n",
    "chain = LLMChain(llm=llm, prompt=prompt)\n",
    "with trace_as_chain_group(\"my_group\") as group_manager:\n",
    "    chain.run(question=\"What is your name?\", callbacks=group_manager)\n",
    "    with trace_as_chain_group(\"inside_my_group\", callback_manager=group_manager) as sub_group:\n",
    "        chain.run(question=\"What is your quest?\", callbacks=sub_group)\n",
    "        chain.run(question=\"What is your favorite color?\", callbacks=sub_group)\n",
    "        llm.predict(prompt.format(question=\"how is president?\"))\n",
    "        llm.predict(prompt.format(question=\"how is president?\"), callbacks=sub_group)"
   ]
  },
  {
   "cell_type": "code",
   "execution_count": 8,
   "id": "bc8310b2",
   "metadata": {},
   "outputs": [
    {
     "data": {
      "text/plain": [
       "'The president is the head of state and the highest-ranking government official in a country.'"
      ]
     },
     "execution_count": 8,
     "metadata": {},
     "output_type": "execute_result"
    }
   ],
   "source": [
    "llm.predict(prompt.format(question=\"how is president?\"))"
   ]
  },
  {
   "cell_type": "code",
   "execution_count": null,
   "id": "d8cb6fce",
   "metadata": {},
   "outputs": [],
   "source": []
  }
 ],
 "metadata": {
  "kernelspec": {
   "display_name": "Python 3 (ipykernel)",
   "language": "python",
   "name": "python3"
  },
  "language_info": {
   "codemirror_mode": {
    "name": "ipython",
    "version": 3
   },
   "file_extension": ".py",
   "mimetype": "text/x-python",
   "name": "python",
   "nbconvert_exporter": "python",
   "pygments_lexer": "ipython3",
   "version": "3.10.12"
  }
 },
 "nbformat": 4,
 "nbformat_minor": 5
}
