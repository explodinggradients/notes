{
 "cells": [
  {
   "cell_type": "markdown",
   "id": "00728137",
   "metadata": {},
   "source": [
    "# Evaluating RAG Systems\n",
    "\n",
    "Langchain has the [data connection](https://python.langchain.com/docs/modules/data_connection/) module which helps you connect your own data with LLMs and build Retrieval Augmented Generation pipelines. We will be testing out\n",
    "\n",
    "1. QA\n",
    "2. COT_QA\n",
    "2. CONTEXT_QA\n",
    "\n",
    "\n",
    "Lets see how we can evaluate those but first lets build a QA system to test.\n",
    "\n",
    "## Build a RAG pipeline"
   ]
  },
  {
   "cell_type": "code",
   "execution_count": 1,
   "id": "af723314",
   "metadata": {},
   "outputs": [],
   "source": [
    "from langchain.document_loaders import TextLoader\n",
    "from langchain.indexes import VectorstoreIndexCreator\n",
    "\n",
    "loader = TextLoader(\"nyc_text.txt\")\n",
    "index = VectorstoreIndexCreator().from_loaders([loader])"
   ]
  },
  {
   "cell_type": "code",
   "execution_count": 2,
   "id": "d4eec2c7",
   "metadata": {},
   "outputs": [
    {
     "data": {
      "text/plain": [
       "' New York City was named after King Charles II of England, who granted the lands to his brother, the Duke of York.'"
      ]
     },
     "execution_count": 2,
     "metadata": {},
     "output_type": "execute_result"
    }
   ],
   "source": [
    "question = \"How did New York City get its name?\"\n",
    "index.query(question)"
   ]
  },
  {
   "cell_type": "code",
   "execution_count": 44,
   "id": "72a89ca8",
   "metadata": {},
   "outputs": [
    {
     "name": "stdout",
     "output_type": "stream",
     "text": [
      "4\n"
     ]
    },
    {
     "data": {
      "text/plain": [
       "Document(page_content=\"== Etymology ==\\n\\nIn 1664, New York was named in honor of the Duke of York, who would become King James II of England. James's elder brother, King Charles II, appointed the Duke as proprietor of the former territory of New Netherland, including the city of New Amsterdam, when England seized it from Dutch control.\\n\\n\\n== History ==\", metadata={'source': 'nyc_text.txt'})"
      ]
     },
     "execution_count": 44,
     "metadata": {},
     "output_type": "execute_result"
    }
   ],
   "source": [
    "from langchain.chains import RetrievalQA\n",
    "from langchain.chat_models import ChatOpenAI\n",
    "\n",
    "llm = ChatOpenAI()\n",
    "qa_chain = RetrievalQA.from_chain_type(\n",
    "    llm,\n",
    "    retriever=index.vectorstore.as_retriever(),\n",
    "    return_source_documents=True\n",
    ")\n",
    "result = qa_chain({\"query\": question})\n",
    "print(len(result['source_documents']))\n",
    "result['source_documents'][0]"
   ]
  },
  {
   "cell_type": "code",
   "execution_count": 45,
   "id": "3cba1c5f",
   "metadata": {},
   "outputs": [
    {
     "data": {
      "text/plain": [
       "{'query': 'How did New York City get its name?',\n",
       " 'result': 'New York City got its name in 1664 when it was renamed by the British after King Charles II granted the lands to his brother, the Duke of York. It was originally settled by the Dutch and named New Amsterdam in 1626. After coming under British control, the city was renamed New York in honor of the Duke of York, who would later become King James II of England.',\n",
       " 'source_documents': [Document(page_content=\"== Etymology ==\\n\\nIn 1664, New York was named in honor of the Duke of York, who would become King James II of England. James's elder brother, King Charles II, appointed the Duke as proprietor of the former territory of New Netherland, including the city of New Amsterdam, when England seized it from Dutch control.\\n\\n\\n== History ==\", metadata={'source': 'nyc_text.txt'}),\n",
       "  Document(page_content=\"During the Wisconsin glaciation, 75,000 to 11,000 years ago, the New York City area was situated at the edge of a large ice sheet over 2,000 feet (610 m) in depth. The erosive forward movement of the ice (and its subsequent retreat) contributed to the separation of what is now Long Island and Staten Island. That action also left bedrock at a relatively shallow depth, providing a solid foundation for most of Manhattan's skyscrapers.New York City is situated in the northeastern United States, in southeastern New York State, approximately halfway between Washington, D.C. and Boston. The location at the mouth of the Hudson River, which feeds into a naturally sheltered harbor and then into the Atlantic Ocean, has helped the city grow in significance as a trading port. Most of New York City is built on the three islands of Long Island, Manhattan, and Staten Island.\", metadata={'source': 'nyc_text.txt'}),\n",
       "  Document(page_content='The city and its metropolitan area constitute the premier gateway for legal immigration to the United States. As many as 800 languages are spoken in New York, making it the most linguistically diverse city in the world. New York City is home to more than 3.2 million residents born outside the U.S., the largest foreign-born population of any city in the world as of 2016.New York City traces its origins to a trading post founded on the southern tip of Manhattan Island by Dutch colonists in approximately 1624. The settlement was named New Amsterdam (Dutch: Nieuw Amsterdam) in 1626 and was chartered as a city in 1653. The city came under British control in 1664 and was renamed New York after King Charles II of England granted the lands to his brother, the Duke of York. The city was regained by the Dutch in July 1673 and was renamed New Orange for one year and three months; the city has been continuously named New York since November 1674. New York City was the capital of the United States', metadata={'source': 'nyc_text.txt'}),\n",
       "  Document(page_content=\"Despite New York's heavy reliance on its vast public transit system, streets are a defining feature of the city. The Commissioners' Plan of 1811 greatly influenced the city's physical development. Several of the city's streets and avenues, including Broadway, Wall Street, Madison Avenue, and Seventh Avenue are also used as metonyms for national industries there: the theater, finance, advertising, and fashion organizations, respectively.\", metadata={'source': 'nyc_text.txt'})]}"
      ]
     },
     "execution_count": 45,
     "metadata": {},
     "output_type": "execute_result"
    }
   ],
   "source": [
    "result"
   ]
  },
  {
   "cell_type": "markdown",
   "id": "cf7dd36f",
   "metadata": {},
   "source": [
    "## Coldstart eval data\n",
    "\n",
    "We don't have any evaluation data to run the evaluation against so lets synthesis some. We need questions and Answer for this and we are going to use [LlamaIndex](https://github.com/jerryjliu/llama_index) for this."
   ]
  },
  {
   "cell_type": "code",
   "execution_count": 5,
   "id": "890e28e3",
   "metadata": {},
   "outputs": [
    {
     "data": {
      "text/plain": [
       "['What is the population of New York City as of 2020?',\n",
       " 'Which borough of New York City has the highest population?',\n",
       " 'What is the economic significance of New York City?',\n",
       " 'How did New York City get its name?',\n",
       " 'What is the significance of the Statue of Liberty in New York City?']"
      ]
     },
     "execution_count": 5,
     "metadata": {},
     "output_type": "execute_result"
    }
   ],
   "source": [
    "from llama_index import VectorStoreIndex, SimpleDirectoryReader, Document\n",
    "from llama_index.evaluation import DatasetGenerator\n",
    "\n",
    "with open(\"./nyc_text.txt\") as f:\n",
    "    docs = [Document(text=f.read())]\n",
    "    \n",
    "question_generator = DatasetGenerator.from_documents(docs)\n",
    "eval_questions = question_generator.generate_questions_from_nodes(5)\n",
    "\n",
    "eval_questions"
   ]
  },
  {
   "cell_type": "markdown",
   "id": "ba789a77",
   "metadata": {},
   "source": [
    "## Run Evaluation chains\n",
    "Lets start of with \n",
    "1. `EvaluatorType.CONTEXT_QA` which evaluates the generated answer to check if it is factually correct with the context."
   ]
  },
  {
   "cell_type": "code",
   "execution_count": 23,
   "id": "6777006e",
   "metadata": {},
   "outputs": [],
   "source": [
    "examples = []\n",
    "predictions = []\n",
    "\n",
    "for q in eval_questions:\n",
    "    example = {\"query\": q}\n",
    "    result = qa_chain(example)\n",
    "    example[\"context\"] = \"\\n\".join([c.page_content for c in result[\"source_documents\"]])\n",
    "    \n",
    "    examples.append(example)\n",
    "    predictions.append(result)"
   ]
  },
  {
   "cell_type": "code",
   "execution_count": 24,
   "id": "ffe63518",
   "metadata": {},
   "outputs": [
    {
     "data": {
      "text/plain": [
       "[{'text': 'CORRECT'},\n",
       " {'text': 'CORRECT'},\n",
       " {'text': 'CORRECT'},\n",
       " {'text': 'CORRECT'},\n",
       " {'text': 'CORRECT'}]"
      ]
     },
     "execution_count": 24,
     "metadata": {},
     "output_type": "execute_result"
    }
   ],
   "source": [
    "from langchain.evaluation import load_evaluator, EvaluatorType\n",
    "\n",
    "context_qa_eval = load_evaluator(EvaluatorType.CONTEXT_QA)\n",
    "\n",
    "# evaluation\n",
    "context_qa_eval.evaluate(examples, predictions)"
   ]
  },
  {
   "cell_type": "markdown",
   "id": "c90caf84",
   "metadata": {},
   "source": [
    "2. `EvaluatorType.COT_QA` which is the same as `EvaluatorType.CONTEXT_QA` but uses Chain of Thought (COT) reasoning for better answer."
   ]
  },
  {
   "cell_type": "code",
   "execution_count": 27,
   "id": "e0714111",
   "metadata": {},
   "outputs": [],
   "source": [
    "cot_qa_eval = load_evaluator(EvaluatorType.COT_QA)\n",
    "result = cot_qa_eval.evaluate(examples, predictions)"
   ]
  },
  {
   "cell_type": "code",
   "execution_count": 28,
   "id": "c03f4d97",
   "metadata": {},
   "outputs": [
    {
     "data": {
      "text/plain": [
       "[{'text': \"The context states that the population of New York City in 2020 is 8,804,190. The student's answer matches this information exactly. Therefore, the student's answer is correct.\\nGRADE: CORRECT\"},\n",
       " {'text': 'The context mentions that \"Brooklyn (Kings County), on the western tip of Long Island, is the city\\'s most populous borough.\" This statement directly aligns with the student\\'s answer, which states that Brooklyn has the highest population in New York City. Therefore, the student\\'s answer is correct.\\nGRADE: CORRECT'},\n",
       " {'text': \"The student's answer correctly identifies New York City as the headquarters for the U.S. financial industry, including Wall Street, and mentions the presence of large financial companies and startups. The student also correctly identifies New York City as a global hub for business and commerce, attracting capital, business, and tourists from around the world. The student correctly lists several industries that are centered in New York City, such as banking and finance, healthcare and life sciences, retailing, world trade, transportation, tourism, media, advertising, fashion, and the arts. The student correctly mentions the significant role of the Port of New York and New Jersey in handling maritime cargo. The student also correctly identifies the fashion industry as a significant part of New York City's economy, with a large number of employees and substantial annual wages. The student's answer is in line with the context provided and does not contain any conflicting statements.\\nGRADE: CORRECT\"},\n",
       " {'text': \"The student's answer matches the information provided in the context. The context states that the city was originally named New Amsterdam by Dutch colonists, which the student correctly identified. The context also states that the city was renamed New York in 1664 after King Charles II granted the lands to his brother, the Duke of York, which the student also correctly identified. The student's answer also correctly states that the city has been continuously named New York since November 1674, which is also stated in the context. Therefore, the student's answer is factually accurate.\\nGRADE: CORRECT\"},\n",
       " {'text': \"The student's answer correctly identifies the Statue of Liberty as a symbol of the United States and its ideals of liberty and peace, which is stated in the context. The student also correctly states that the statue greeted millions of immigrants as they came to the U.S. by ship in the late 19th and early 20th centuries, which is also mentioned in the context. The student's claim that the statue represents freedom, cultural diversity, and the welcoming of immigrants to America is supported by the context's mention of New York City as a symbol of freedom and cultural diversity. The student's statement that the Statue of Liberty is one of the most iconic landmarks in New York City and serves as a reminder of the city's historical and cultural significance is a reasonable interpretation of the context's information about the city's landmarks and history. Therefore, the student's answer is factually accurate based on the context.\\nGRADE: CORRECT\"}]"
      ]
     },
     "execution_count": 28,
     "metadata": {},
     "output_type": "execute_result"
    }
   ],
   "source": [
    "result"
   ]
  },
  {
   "cell_type": "markdown",
   "id": "b12f0f52",
   "metadata": {},
   "source": [
    "3. `EvaluatorType.QA` which compares the answer generated and the ground truth to check if there are any factual inconsistancies.\n",
    "\n",
    "\n",
    "to run this we need ground truth answers, for this we are going to use llamaIndex as the source of truth (don't do this in prod)."
   ]
  },
  {
   "cell_type": "code",
   "execution_count": 15,
   "id": "36a8394d",
   "metadata": {},
   "outputs": [],
   "source": [
    "# create vector index\n",
    "vector_index = VectorStoreIndex.from_documents(docs)\n",
    "qe = vector_index.as_query_engine()"
   ]
  },
  {
   "cell_type": "code",
   "execution_count": 25,
   "id": "e75565fc",
   "metadata": {},
   "outputs": [],
   "source": [
    "# generate answer in examples\n",
    "for i, e in enumerate(eval_questions):\n",
    "    r = qe.query(e)\n",
    "    examples[i][\"answer\"] = r.response"
   ]
  },
  {
   "cell_type": "code",
   "execution_count": 26,
   "id": "0c538740",
   "metadata": {},
   "outputs": [
    {
     "data": {
      "text/plain": [
       "[{'results': 'CORRECT'},\n",
       " {'results': 'INCORRECT'},\n",
       " {'results': 'CORRECT'},\n",
       " {'results': 'CORRECT'},\n",
       " {'results': 'CORRECT'}]"
      ]
     },
     "execution_count": 26,
     "metadata": {},
     "output_type": "execute_result"
    }
   ],
   "source": [
    "# load and evaluate\n",
    "qa_eval = load_evaluator(EvaluatorType.QA)\n",
    "qa_eval.evaluate(examples, predictions)"
   ]
  },
  {
   "cell_type": "markdown",
   "id": "435af87c",
   "metadata": {},
   "source": [
    "## Evaluating QA with langsmith\n",
    "\n",
    "Lets try evaluating qa systems with langsmith. Checkout the langsmith intro notebook to know more about setting langsmith up.\n",
    "\n",
    "### 1. Create a dataset\n",
    "\n",
    "lets create and upload the `examples` as dataset for evaluations."
   ]
  },
  {
   "cell_type": "code",
   "execution_count": 35,
   "id": "8e08a05c",
   "metadata": {},
   "outputs": [
    {
     "data": {
      "text/plain": [
       "UUID('754c4ec6-14ec-4d4c-b955-4a8b4ac2e4c5')"
      ]
     },
     "execution_count": 35,
     "metadata": {},
     "output_type": "execute_result"
    }
   ],
   "source": [
    "from langsmith import Client\n",
    "\n",
    "client = Client()\n",
    "\n",
    "dataset_name = \"NYC test\"\n",
    "\n",
    "dataset_list = client.list_datasets()\n",
    "dataset_exists = False\n",
    "dataset = None\n",
    "for d in dataset_list:\n",
    "    if d.name == dataset_name:\n",
    "        dataset_exists=True\n",
    "        dataset = d\n",
    "        \n",
    "if not dataset_exists:\n",
    "    dataset = client.create_dataset(\n",
    "        dataset_name=dataset_name\n",
    "    )\n",
    "    \n",
    "dataset.id"
   ]
  },
  {
   "cell_type": "code",
   "execution_count": 42,
   "id": "87fc0e00",
   "metadata": {},
   "outputs": [
    {
     "data": {
      "text/plain": [
       "{'query': 'What is the significance of the Statue of Liberty in New York City?',\n",
       " 'context': 'from 1785 until 1790, and has been the largest U.S. city since 1790. The Statue of Liberty greeted millions of immigrants as they came to the U.S. by ship in the late 19th and early 20th centuries, and is a symbol of the U.S. and its ideals of liberty and peace. In the 21st century, New York City has emerged as a global node of creativity, entrepreneurship, and as a symbol of freedom and cultural diversity. The New York Times has won the most Pulitzer Prizes for journalism and remains the U.S. media\\'s \"newspaper of record\". In 2019, New York City was voted the greatest city in the world in a survey of over 30,000 people from 48 cities worldwide, citing its cultural diversity.Many districts and monuments in New York City are major landmarks, including three of the world\\'s ten most visited tourist attractions in 2013. A record 66.6 million tourists visited New York City in 2019. Times Square is the brightly illuminated hub of the Broadway Theater District, one of the world\\'s busiest\\nThe Statue of Liberty National Monument and Ellis Island Immigration Museum are managed by the National Park Service and are in both New York and New Jersey. They are joined in the harbor by Governors Island National Monument. Historic sites under federal management on Manhattan Island include Stonewall National Monument; Castle Clinton National Monument; Federal Hall National Memorial; Theodore Roosevelt Birthplace National Historic Site; General Grant National Memorial (Grant\\'s Tomb); African Burial Ground National Monument; and Hamilton Grange National Memorial. Hundreds of properties are listed on the National Register of Historic Places or as a National Historic Landmark.\\nThe majority of the most high-profile tourist destinations to the city are situated in Manhattan. These include Times Square; Broadway theater productions; the Empire State Building; the Statue of Liberty; Ellis Island; the United Nations headquarters; the World Trade Center (including the National September 11 Memorial & Museum and One World Trade Center); the art museums along Museum Mile; green spaces such as Central Park, Washington Square Park, the High Line, and the medieval gardens of The Cloisters; the Stonewall Inn; Rockefeller Center; ethnic enclaves including the Manhattan Chinatown, Koreatown, Curry Hill, Harlem, Spanish Harlem, Little Italy, and Little Australia; luxury shopping along Fifth and Madison Avenues; and events such as the Halloween Parade in Greenwich Village; the Brooklyn Bridge (shared with Brooklyn); the Macy\\'s Thanksgiving Day Parade; the lighting of the Rockefeller Center Christmas Tree; the St. Patrick\\'s Day Parade; seasonal activities such as ice\\nTourism is a vital industry for New York City, and NYC & Company represents the city\\'s official bureau of tourism. New York has witnessed a growing combined volume of international and domestic tourists, reflecting over 60 million visitors to the city per year, the world\\'s busiest tourist destination. Approximately 12 million visitors to New York City have been from outside the United States, with the highest numbers from the United Kingdom, Canada, Brazil, and China. Multiple sources have called New York the most photographed city in the world.I Love New York (stylized I ❤ NY) is both a logo and a song that are the basis of an advertising campaign and have been used since 1977 to promote tourism in New York City, and later to promote New York State as well. The trademarked logo, owned by New York State Empire State Development, appears in souvenir shops and brochures throughout the city and state, some licensed, many not. The song is the state song of New York.',\n",
       " 'answer': '\\nThe Statue of Liberty is an iconic symbol of freedom and democracy in the United States. It is located in New York Harbor and has become a symbol of the city and a welcoming sight for immigrants arriving in the United States. The Statue of Liberty was a gift from France to the United States in 1886 and is a reminder of the friendship between the two countries. It is also a reminder of the ideals of freedom and democracy that the United States stands for.'}"
      ]
     },
     "execution_count": 42,
     "metadata": {},
     "output_type": "execute_result"
    }
   ],
   "source": [
    "e"
   ]
  },
  {
   "cell_type": "code",
   "execution_count": 51,
   "id": "9f5d2ed4",
   "metadata": {},
   "outputs": [],
   "source": [
    "# add examples to the dataset\n",
    "for e in examples:\n",
    "    client.create_example(\n",
    "        inputs={\"query\": e[\"query\"]},\n",
    "        outputs={\"answer\": e[\"answer\"]},\n",
    "        dataset_id=dataset.id\n",
    "    )"
   ]
  },
  {
   "cell_type": "markdown",
   "id": "89e13e87",
   "metadata": {},
   "source": [
    "### 2. Define the QA chain to evaluate\n",
    "\n",
    "In order to evaluate each example individually, langsmith requries you to pass in a factory function that creates the QA chain to evaluate. This is especially important if the QA chains contain memory or other stateful variables wrapped in it."
   ]
  },
  {
   "cell_type": "code",
   "execution_count": 40,
   "id": "df3d4460",
   "metadata": {},
   "outputs": [],
   "source": [
    "def create_qa_chain():\n",
    "    qa_chain = RetrievalQA.from_chain_type(\n",
    "        llm,\n",
    "        retriever=index.vectorstore.as_retriever(),\n",
    "        return_source_documents=False\n",
    "    )\n",
    "    return qa_chain"
   ]
  },
  {
   "cell_type": "markdown",
   "id": "c2a195d2",
   "metadata": {},
   "source": [
    "### 3. Evaluate\n",
    "\n"
   ]
  },
  {
   "cell_type": "code",
   "execution_count": 48,
   "id": "3c003641",
   "metadata": {},
   "outputs": [],
   "source": [
    "from langchain.smith import RunEvalConfig, run_on_dataset\n",
    "\n",
    "eval_config = RunEvalConfig(\n",
    "    evaluators=[\n",
    "      \"qa\",\n",
    "      \"cot_qa\",\n",
    "      \"context_qa\",\n",
    "  ],\n",
    "    reference_key = \"answer\"\n",
    ")"
   ]
  },
  {
   "cell_type": "code",
   "execution_count": 52,
   "id": "e5103adb",
   "metadata": {},
   "outputs": [
    {
     "name": "stdout",
     "output_type": "stream",
     "text": [
      "View the evaluation results for project '2023-08-01-23-47-46-RetrievalQA' at:\n",
      "https://smith.langchain.com/projects/p/8856c6e9-98c5-47fc-9319-d72942a9af5b?eval=true\n",
      "5 processed\r"
     ]
    },
    {
     "name": "stderr",
     "output_type": "stream",
     "text": [
      "Retrying langchain.chat_models.openai.ChatOpenAI.completion_with_retry.<locals>._completion_with_retry in 1.0 seconds as it raised ServiceUnavailableError: The server is overloaded or not ready yet..\n",
      "Retrying langchain.chat_models.openai.ChatOpenAI.completion_with_retry.<locals>._completion_with_retry in 1.0 seconds as it raised ServiceUnavailableError: The server is overloaded or not ready yet..\n",
      "Retrying langchain.chat_models.openai.ChatOpenAI.completion_with_retry.<locals>._completion_with_retry in 1.0 seconds as it raised ServiceUnavailableError: The server is overloaded or not ready yet..\n",
      "Retrying langchain.chat_models.openai.ChatOpenAI.completion_with_retry.<locals>._completion_with_retry in 1.0 seconds as it raised ServiceUnavailableError: The server is overloaded or not ready yet..\n"
     ]
    },
    {
     "data": {
      "text/plain": [
       "{'project_name': '2023-08-01-23-47-46-RetrievalQA',\n",
       " 'results': {'6ddbfe30-309c-401e-8a6b-e17f091cfa1b': ['The Statue of Liberty in New York City is significant as a symbol of the United States and its ideals of liberty and peace. It greeted millions of immigrants as they arrived in the U.S. by ship in the late 19th and early 20th centuries, representing the hope for a new life and freedom. It has since become an iconic landmark and a symbol of cultural diversity and freedom.'],\n",
       "  '8d0bf6f3-096b-4092-b2e9-cacc0b5f21de': ['New York City was named in honor of the Duke of York, who later became King James II of England. In 1664, King Charles II appointed the Duke as proprietor of the former territory of New Netherland, which included the city of New Amsterdam (now New York City), when England seized it from Dutch control. The city was then renamed New York after the Duke of York.'],\n",
       "  'b3704607-ed11-4da5-bc01-3788e58e28c0': [\"New York City has significant economic significance in several sectors. It is a major hub for the U.S. financial industry, with Wall Street serving as the headquarters for many large financial companies. The city's securities industry is the largest segment of its financial sector. Additionally, New York City is a global center for business and commerce, attracting capital, business, and tourists from around the world. It is a leading city in industries such as banking and finance, healthcare and life sciences, retailing, world trade, transportation, tourism, real estate, media, advertising, fashion, and the arts. The city's ports, particularly the Port of New York and New Jersey, play a crucial role in international trade. New York City is also home to numerous Fortune 500 and multinational corporations. The non-profit sector, universities, and the manufacturing industry (although declined) also contribute to the city's economy.\"],\n",
       "  'b51abfb6-5a74-4225-b0fc-2bd5ce1270a4': ['The borough of Brooklyn has the highest population in New York City.'],\n",
       "  'a0f330d3-5d5e-4da4-8637-0a57cd22b761': ['The population of New York City as of 2020 is 8,804,190.']}}"
      ]
     },
     "execution_count": 52,
     "metadata": {},
     "output_type": "execute_result"
    }
   ],
   "source": [
    "run_on_dataset(\n",
    "    client=client,\n",
    "    dataset_name=dataset_name,\n",
    "    llm_or_chain_factory=create_qa_chain,\n",
    "    evaluation=eval_config,\n",
    "    verbose=True,\n",
    ")"
   ]
  }
 ],
 "metadata": {
  "kernelspec": {
   "display_name": "Python 3 (ipykernel)",
   "language": "python",
   "name": "python3"
  },
  "language_info": {
   "codemirror_mode": {
    "name": "ipython",
    "version": 3
   },
   "file_extension": ".py",
   "mimetype": "text/x-python",
   "name": "python",
   "nbconvert_exporter": "python",
   "pygments_lexer": "ipython3",
   "version": "3.10.12"
  }
 },
 "nbformat": 4,
 "nbformat_minor": 5
}
