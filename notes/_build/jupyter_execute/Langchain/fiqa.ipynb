{
 "cells": [
  {
   "cell_type": "markdown",
   "id": "33361c87",
   "metadata": {},
   "source": [
    "# QA System on fiqa dataset"
   ]
  },
  {
   "cell_type": "code",
   "execution_count": 2,
   "id": "5e9de430",
   "metadata": {},
   "outputs": [
    {
     "name": "stderr",
     "output_type": "stream",
     "text": [
      "Found cached dataset fiqa (/home/jjmachan/.cache/huggingface/datasets/explodinggradients___fiqa/corpus/1.0.0/3dc7b639f5b4b16509a3299a2ceb78bf5fe98ee6b5fee25e7d5e4d290c88efb8)\n"
     ]
    },
    {
     "data": {
      "application/vnd.jupyter.widget-view+json": {
       "model_id": "9bb60bcdd94f45e6a56858ad2b1dc705",
       "version_major": 2,
       "version_minor": 0
      },
      "text/plain": [
       "  0%|          | 0/1 [00:00<?, ?it/s]"
      ]
     },
     "metadata": {},
     "output_type": "display_data"
    },
    {
     "name": "stderr",
     "output_type": "stream",
     "text": [
      "Found cached dataset fiqa (/home/jjmachan/.cache/huggingface/datasets/explodinggradients___fiqa/main/1.0.0/3dc7b639f5b4b16509a3299a2ceb78bf5fe98ee6b5fee25e7d5e4d290c88efb8)\n"
     ]
    },
    {
     "data": {
      "application/vnd.jupyter.widget-view+json": {
       "model_id": "634113b0ec1844eda349f17c2c1dbdef",
       "version_major": 2,
       "version_minor": 0
      },
      "text/plain": [
       "  0%|          | 0/3 [00:00<?, ?it/s]"
      ]
     },
     "metadata": {},
     "output_type": "display_data"
    },
    {
     "data": {
      "text/plain": [
       "(Dataset({\n",
       "     features: ['doc'],\n",
       "     num_rows: 57638\n",
       " }),\n",
       " Dataset({\n",
       "     features: ['question', 'ground_truths'],\n",
       "     num_rows: 648\n",
       " }))"
      ]
     },
     "execution_count": 2,
     "metadata": {},
     "output_type": "execute_result"
    }
   ],
   "source": [
    "from datasets import load_dataset\n",
    "\n",
    "fiqa_corpus = load_dataset(\"explodinggradients/fiqa\", \"corpus\")['corpus']\n",
    "fiqa_qa = load_dataset(\"explodinggradients/fiqa\", \"main\")[\"test\"]\n",
    "fiqa_corpus, fiqa_qa"
   ]
  },
  {
   "cell_type": "code",
   "execution_count": 75,
   "id": "a8cbb928",
   "metadata": {},
   "outputs": [
    {
     "name": "stdout",
     "output_type": "stream",
     "text": [
      "1706\n"
     ]
    }
   ],
   "source": [
    "from langchain.embeddings import OpenAIEmbeddings\n",
    "from langchain.vectorstores import Chroma\n",
    "from langchain.schema import Document\n",
    "\n",
    "data = fiqa_qa[\"ground_truths\"]\n",
    "docs = []\n",
    "for r in data:\n",
    "    for t in r:\n",
    "        docs.append(Document(page_content=t))\n",
    "        \n",
    "vectorstore = Chroma.from_documents(\n",
    "    documents=docs,\n",
    "    embedding=OpenAIEmbeddings(),\n",
    ")"
   ]
  },
  {
   "cell_type": "code",
   "execution_count": 90,
   "id": "b5966503",
   "metadata": {},
   "outputs": [
    {
     "data": {
      "text/plain": [
       "'Using credit card points to pay for tax deductible business expenses'"
      ]
     },
     "execution_count": 90,
     "metadata": {},
     "output_type": "execute_result"
    }
   ],
   "source": [
    "q = fiqa_qa[\"question\"][10]\n",
    "q"
   ]
  },
  {
   "cell_type": "code",
   "execution_count": 91,
   "id": "32754868",
   "metadata": {
    "scrolled": true
   },
   "outputs": [
    {
     "data": {
      "text/plain": [
       "[Document(page_content='\"For simplicity, let\\'s start by just considering cash back. In general, cash back from credit cards for personal use is not taxable, but for business use it is taxable (sort of, I\\'ll explain later). The reason is most personal purchases are made with after tax dollars; you typically aren\\'t deducting the cost of what you purchased from your personal income, so if you purchase something that costs $100 and you receive $2 back from the CC company, effectively you have paid $98 for that item but that wouldn\\'t affect your tax bill. However, since businesses typically deduct most expenses, that same $100 deduction would have only been a $98 deduction for business tax purposes, so in this case the $2 should be accounted for. Note, you should not consider that $2 as income though; that would artificially inflate your revenue. It should be treated as a negative expense, similar to how you would handle returning an item you purchased and receiving a CC refund. Now for your specific questions: Part 1: As a small business owner, I wish to attend an annual seminar to improve my business. I have enough credit card reward points to cover the airfare, hotel, and rental car. Will those expenses still be deductible at the value displayed on the receipt? Effectively no, these expenses are not deductible. If you deduct them they will be completely counter-acted by the \"\"refund\"\" you receive for the payments. Part 2: Does it matter if those points are accrued on my personal credit card, rather than a business credit card? This is where it gets hairy. Suppose your company policy is that employees make purchases with their own personal credit cards and submit receipts for reimbursement. In this case the employer can simply reimburse and would not know or care if the employee is racking up rewards/points/cashback. The trick is, as the employee, you must always purchase business related items normally so you have receipts to show, and if you receive cashback on the side there seems to be a \"\"don\\'t ask, don\\'t tell\"\" rule that the IRS is OK with. It works the same way with heavy business travelers and airline miles- the free vacations those users get as perks are not treated as taxable income. However, I would not go out of my way to abuse this \"\"loophole\"\". Typically, things like travel (airfare, hotel, car rental, meals) are expected. But I wouldn\\'t go purchase 100 company laptops on your personal card and ask the company to reimburse you. The company should purchase those 100 laptops on a company card and effectively reduce the sale price by the cashback received. (Or more realistically, negotiate a better discount with your account rep and just cut them a check.) Part 3: Would there be any difference between credit card points and brand-loyalty points? If the rental car were paid for with points earned directly on the rental car company\\'s loyalty system (not a CC), would that yield a different result? There is no difference. Perhaps the simplest way to think about this is you can only deduct an expense that you actually incur. In other words, the expense should show up on a bank or CC statement. This is why when you volunteer and work 10 hours for a charity, you can\\'t call that a \"\"donation\"\" of any amount of money because there is no actual payment made that would show up on a bank statement. Instead you could have billed the charity for your 10 hours of work, and then turned around and donated that same amount back to them, but it ends up being a wash.\"', metadata={}),\n",
       " Document(page_content='\"There are two fundamentally different reasons merchants will give cash discounts. One is that they will not have to pay interchange fees on cash (or pay much lower fees on no-reward debit cards).  Gas stations in my home state of NJ already universally offer different cash and credit prices.  Costco will not even take Visa and MasterCard credit cards (debit only) for this reason. The second reason, not often talked about but widely known amongst smaller merchants, is that they can fail to declare the sale (or claim a smaller portion of the sale) to the authorities in order to reduce their tax liability.  Obviously the larger stores will not risk their jobs for this, but smaller owner-operated (\"\"mom and pop\"\") stores often will.  This applies to both reduced sales tax liability and income tax liability.  This used to be more limited per sale (but more widespread overall), since tax authorities would look closely for a mismatch between declared income and spending, but with an ever-larger proportion of customers paying by credit card, merchants can take a bigger chunk of their cash sales off the books without drawing too much suspicion. Both of the above are more applicable to TVs than cars, since (1) car salesmen make substantial money from offering financing and (2) all cars must be registered with the state, so alternative records of sales abound.  Also, car prices tend to be at or near the credit limit of most cards, so it is not as common to pay for them in this way.\"', metadata={}),\n",
       " Document(page_content=\"I had $70K in credit card at one point.  Limited income, starting a business - it's the only credit available. (yes, all paid off now).\", metadata={}),\n",
       " Document(page_content='\"I pay taxes on revenue.  You do have the ability to deduct expenses, though it\\'s not as comprehensive as what companies can do: These figures apply to everybody, so those that earn more get taxed more on thee additional income in each bracket (meaning the first $100,000 of taxable income is taxed the same for everybody at one rate, the next $100,000 at a different rate, etc.) So you do get to deduct personal expenses and get taxed on \"\"profit\"\" - but since the vast majority of people don\\'t keep detailed records of what they spend, it\\'s much simpler just to use blanket deduction amounts for everyone. Companies have much more detailed systems in place to track and categorize expenses, so it\\'s easier to just tax on net profit. Plus, the corporate tax rate is much higher than the average individual tax rate - would you trade more deductions for a higher tax rate?\"', metadata={})]"
      ]
     },
     "execution_count": 91,
     "metadata": {},
     "output_type": "execute_result"
    }
   ],
   "source": [
    "response_docs = vectorstore.similarity_search(q)\n",
    "response_docs"
   ]
  },
  {
   "cell_type": "code",
   "execution_count": 143,
   "id": "c8b4d66e",
   "metadata": {},
   "outputs": [],
   "source": [
    "from langchain.chains import RetrievalQA\n",
    "from langchain.chat_models import ChatOpenAI\n",
    "\n",
    "llm = ChatOpenAI(model_name=\"gpt-3.5-turbo\", temperature=0)\n",
    "qa_chain = RetrievalQA.from_chain_type(\n",
    "    llm,\n",
    "    retriever=vectorstore.as_retriever(),\n",
    "    return_source_documents=True,\n",
    ")\n",
    "\n",
    "result = qa_chain({\"query\": q})"
   ]
  },
  {
   "cell_type": "code",
   "execution_count": 144,
   "id": "87e4d009",
   "metadata": {},
   "outputs": [
    {
     "data": {
      "text/plain": [
       "{'query': 'Using credit card points to pay for tax deductible business expenses',\n",
       " 'result': 'Using credit card points to pay for tax deductible business expenses can be a bit tricky. Generally, if you use credit card points to cover business expenses, those expenses may not be deductible. This is because the points effectively reduce the cost of the expenses, and deducting them would be counteracted by the value of the points. However, if you have a company policy where employees make purchases with their personal credit cards and submit receipts for reimbursement, the employer may not be concerned with the rewards or points earned. In this case, as long as the expenses are legitimate business expenses, they should still be deductible. It\\'s important to note that this \"don\\'t ask, don\\'t tell\" approach may not be advisable to abuse, and it\\'s always best to consult with a tax professional for specific guidance.',\n",
       " 'source_documents': [Document(page_content='\"For simplicity, let\\'s start by just considering cash back. In general, cash back from credit cards for personal use is not taxable, but for business use it is taxable (sort of, I\\'ll explain later). The reason is most personal purchases are made with after tax dollars; you typically aren\\'t deducting the cost of what you purchased from your personal income, so if you purchase something that costs $100 and you receive $2 back from the CC company, effectively you have paid $98 for that item but that wouldn\\'t affect your tax bill. However, since businesses typically deduct most expenses, that same $100 deduction would have only been a $98 deduction for business tax purposes, so in this case the $2 should be accounted for. Note, you should not consider that $2 as income though; that would artificially inflate your revenue. It should be treated as a negative expense, similar to how you would handle returning an item you purchased and receiving a CC refund. Now for your specific questions: Part 1: As a small business owner, I wish to attend an annual seminar to improve my business. I have enough credit card reward points to cover the airfare, hotel, and rental car. Will those expenses still be deductible at the value displayed on the receipt? Effectively no, these expenses are not deductible. If you deduct them they will be completely counter-acted by the \"\"refund\"\" you receive for the payments. Part 2: Does it matter if those points are accrued on my personal credit card, rather than a business credit card? This is where it gets hairy. Suppose your company policy is that employees make purchases with their own personal credit cards and submit receipts for reimbursement. In this case the employer can simply reimburse and would not know or care if the employee is racking up rewards/points/cashback. The trick is, as the employee, you must always purchase business related items normally so you have receipts to show, and if you receive cashback on the side there seems to be a \"\"don\\'t ask, don\\'t tell\"\" rule that the IRS is OK with. It works the same way with heavy business travelers and airline miles- the free vacations those users get as perks are not treated as taxable income. However, I would not go out of my way to abuse this \"\"loophole\"\". Typically, things like travel (airfare, hotel, car rental, meals) are expected. But I wouldn\\'t go purchase 100 company laptops on your personal card and ask the company to reimburse you. The company should purchase those 100 laptops on a company card and effectively reduce the sale price by the cashback received. (Or more realistically, negotiate a better discount with your account rep and just cut them a check.) Part 3: Would there be any difference between credit card points and brand-loyalty points? If the rental car were paid for with points earned directly on the rental car company\\'s loyalty system (not a CC), would that yield a different result? There is no difference. Perhaps the simplest way to think about this is you can only deduct an expense that you actually incur. In other words, the expense should show up on a bank or CC statement. This is why when you volunteer and work 10 hours for a charity, you can\\'t call that a \"\"donation\"\" of any amount of money because there is no actual payment made that would show up on a bank statement. Instead you could have billed the charity for your 10 hours of work, and then turned around and donated that same amount back to them, but it ends up being a wash.\"', metadata={}),\n",
       "  Document(page_content='\"There are two fundamentally different reasons merchants will give cash discounts. One is that they will not have to pay interchange fees on cash (or pay much lower fees on no-reward debit cards).  Gas stations in my home state of NJ already universally offer different cash and credit prices.  Costco will not even take Visa and MasterCard credit cards (debit only) for this reason. The second reason, not often talked about but widely known amongst smaller merchants, is that they can fail to declare the sale (or claim a smaller portion of the sale) to the authorities in order to reduce their tax liability.  Obviously the larger stores will not risk their jobs for this, but smaller owner-operated (\"\"mom and pop\"\") stores often will.  This applies to both reduced sales tax liability and income tax liability.  This used to be more limited per sale (but more widespread overall), since tax authorities would look closely for a mismatch between declared income and spending, but with an ever-larger proportion of customers paying by credit card, merchants can take a bigger chunk of their cash sales off the books without drawing too much suspicion. Both of the above are more applicable to TVs than cars, since (1) car salesmen make substantial money from offering financing and (2) all cars must be registered with the state, so alternative records of sales abound.  Also, car prices tend to be at or near the credit limit of most cards, so it is not as common to pay for them in this way.\"', metadata={}),\n",
       "  Document(page_content=\"I had $70K in credit card at one point.  Limited income, starting a business - it's the only credit available. (yes, all paid off now).\", metadata={}),\n",
       "  Document(page_content='\"I pay taxes on revenue.  You do have the ability to deduct expenses, though it\\'s not as comprehensive as what companies can do: These figures apply to everybody, so those that earn more get taxed more on thee additional income in each bracket (meaning the first $100,000 of taxable income is taxed the same for everybody at one rate, the next $100,000 at a different rate, etc.) So you do get to deduct personal expenses and get taxed on \"\"profit\"\" - but since the vast majority of people don\\'t keep detailed records of what they spend, it\\'s much simpler just to use blanket deduction amounts for everyone. Companies have much more detailed systems in place to track and categorize expenses, so it\\'s easier to just tax on net profit. Plus, the corporate tax rate is much higher than the average individual tax rate - would you trade more deductions for a higher tax rate?\"', metadata={})]}"
      ]
     },
     "execution_count": 144,
     "metadata": {},
     "output_type": "execute_result"
    }
   ],
   "source": [
    "result"
   ]
  },
  {
   "cell_type": "code",
   "execution_count": 126,
   "id": "dd63e45d",
   "metadata": {},
   "outputs": [
    {
     "name": "stdout",
     "output_type": "stream",
     "text": [
      "Using credit card points to pay for tax deductible business expenses can be a smart financial move for business owners. Here are a few steps to follow:\n",
      "\n",
      "1. Understand your credit card rewards program: Familiarize yourself with the specific terms and conditions of your credit card rewards program. Determine the value of the points and how they can be redeemed for statement credits, gift cards, or other options.\n",
      "\n",
      "2. Identify tax-deductible business expenses: Make a list of all the qualifying tax-deductible business expenses you plan to pay for. This may include office supplies, travel expenses, marketing costs, or professional services.\n",
      "\n",
      "3. Calculate the value of your points: Determine the value of your credit card points based on the redemption options available. For example, if each point is worth $0.01 and you have 10,000 points, you have $100 in credit to use.\n",
      "\n",
      "4. Choose the best redemption option: Evaluate the redemption options available to you and choose the one that maximizes the value of your points. Opting for a statement credit can be the most straightforward option as it can directly reduce your credit card bill.\n",
      "\n",
      "5. Pay for tax-deductible expenses with points: Use your credit card points to pay for the tax-deductible business expenses you identified earlier. Ensure that you keep proper documentation and receipts to support the expense claims during tax filing.\n",
      "\n",
      "6. Track the transaction: Maintain a record of the transactions where you used your credit card points to pay for business expenses. This will help you during tax preparation and ensure accurate reporting.\n",
      "\n",
      "7. Consult with a tax professional: It's always a good idea to consult with a tax professional or financial advisor to ensure compliance with tax laws and regulations specific to your jurisdiction.\n",
      "\n",
      "Remember, using credit card points to pay for tax-deductible business expenses can provide financial benefits, but it's important to carefully track and document these transactions to avoid any complications during tax filing.\n"
     ]
    }
   ],
   "source": [
    "llm = ChatOpenAI(model_name=\"gpt-3.5-turbo-16k\")\n",
    "print(llm.predict(q))"
   ]
  },
  {
   "cell_type": "markdown",
   "id": "a4ee357e",
   "metadata": {},
   "source": [
    "## Seed questions"
   ]
  },
  {
   "cell_type": "code",
   "execution_count": 3,
   "id": "14fe8f3e",
   "metadata": {},
   "outputs": [
    {
     "name": "stderr",
     "output_type": "stream",
     "text": [
      "Loading cached shuffled indices for dataset at /home/jjmachan/.cache/huggingface/datasets/explodinggradients___fiqa/main/1.0.0/3dc7b639f5b4b16509a3299a2ceb78bf5fe98ee6b5fee25e7d5e4d290c88efb8/cache-2f0a816219d98636.arrow\n"
     ]
    }
   ],
   "source": [
    "SEED = 512\n",
    "\n",
    "fiqa_qa.shuffle(seed=SEED)\n",
    "fiqa_qa = fiqa_qa.select(range(60))"
   ]
  },
  {
   "cell_type": "markdown",
   "id": "9e875442",
   "metadata": {},
   "source": [
    "## Evaluate with GroundTruth"
   ]
  },
  {
   "cell_type": "code",
   "execution_count": 6,
   "id": "0609b47a",
   "metadata": {},
   "outputs": [],
   "source": [
    "from langchain import PromptTemplate\n",
    "from langchain.chat_models import ChatOpenAI\n",
    "\n",
    "qa_with_gt = PromptTemplate.from_template(\n",
    "\"\"\"\\\n",
    "Answer the question using only the context provided\n",
    "\n",
    "context: {context}\n",
    "question: {question}\n",
    "answer:\n",
    "\"\"\"\n",
    ")\n",
    "\n",
    "llm = ChatOpenAI(model_name=\"gpt-3.5-turbo-16k\")"
   ]
  },
  {
   "cell_type": "code",
   "execution_count": 9,
   "id": "e83a9335",
   "metadata": {},
   "outputs": [
    {
     "name": "stderr",
     "output_type": "stream",
     "text": [
      "100%|█████████████████████████████████████████████████████████████| 3/3 [03:20<00:00, 66.67s/it]\n"
     ]
    }
   ],
   "source": [
    "from ragas.metrics.base import make_batches\n",
    "from tqdm import tqdm\n",
    "\n",
    "generations = []\n",
    "for b in tqdm(make_batches(len(fiqa_qa), 20)):\n",
    "    r_batch = fiqa_qa.select(b)\n",
    "    prompts = []\n",
    "    for r in r_batch:\n",
    "        p = qa_with_gt.format_prompt(\n",
    "            context=' '.join(r[\"ground_truths\"]),\n",
    "            question=r[\"question\"]\n",
    "        )\n",
    "        prompts.append(p)\n",
    "    res = llm.generate_prompt(prompts)\n",
    "    res_texts = [i[0].text for i in res.generations]\n",
    "    generations.extend(res_texts)"
   ]
  },
  {
   "cell_type": "code",
   "execution_count": 10,
   "id": "f342c62e",
   "metadata": {},
   "outputs": [
    {
     "data": {
      "text/plain": [
       "60"
      ]
     },
     "execution_count": 10,
     "metadata": {},
     "output_type": "execute_result"
    }
   ],
   "source": [
    "len(generations)"
   ]
  },
  {
   "cell_type": "code",
   "execution_count": 11,
   "id": "41a383fb",
   "metadata": {},
   "outputs": [
    {
     "data": {
      "text/plain": [
       "Dataset({\n",
       "    features: ['question', 'ground_truths', 'answer_with_gt'],\n",
       "    num_rows: 60\n",
       "})"
      ]
     },
     "execution_count": 11,
     "metadata": {},
     "output_type": "execute_result"
    }
   ],
   "source": [
    "final_ds = fiqa_qa.add_column(\"answer_with_gt\", generations)\n",
    "final_ds"
   ]
  },
  {
   "cell_type": "markdown",
   "id": "a666c299",
   "metadata": {},
   "source": [
    "### Evaluate with Ragas"
   ]
  },
  {
   "cell_type": "code",
   "execution_count": 31,
   "id": "a24f2816",
   "metadata": {},
   "outputs": [
    {
     "name": "stdout",
     "output_type": "stream",
     "text": [
      "evaluating with [answer_relevancy]\n"
     ]
    },
    {
     "name": "stderr",
     "output_type": "stream",
     "text": [
      "100%|█████████████████████████████████████████████████████████████| 4/4 [02:44<00:00, 41.07s/it]\n"
     ]
    },
    {
     "name": "stdout",
     "output_type": "stream",
     "text": [
      "evaluating with [context_relavency]\n"
     ]
    },
    {
     "name": "stderr",
     "output_type": "stream",
     "text": [
      "100%|████████████████████████████████████████████████████████████| 4/4 [08:07<00:00, 121.91s/it]\n"
     ]
    },
    {
     "name": "stdout",
     "output_type": "stream",
     "text": [
      "evaluating with [faithfulness]\n"
     ]
    },
    {
     "name": "stderr",
     "output_type": "stream",
     "text": [
      "100%|████████████████████████████████████████████████████████████| 4/4 [09:19<00:00, 139.96s/it]\n"
     ]
    },
    {
     "data": {
      "text/plain": [
       "{'ragas_score': 0.5712, 'answer_relevancy': 0.9003, 'context_relavency': 0.3491, 'faithfulness': 0.7833}"
      ]
     },
     "execution_count": 31,
     "metadata": {},
     "output_type": "execute_result"
    }
   ],
   "source": [
    "from ragas import evaluate\n",
    "\n",
    "ragas_grounded_result = evaluate(final_ds, column_map={\n",
    "    \"question\": \"question\",\n",
    "    \"contexts\": \"ground_truths\",\n",
    "    \"answer\": \"answer_with_gt\"\n",
    "})\n",
    "\n",
    "ragas_grounded_result"
   ]
  },
  {
   "cell_type": "markdown",
   "id": "6c99a451",
   "metadata": {},
   "source": [
    "## Evaluate context-free"
   ]
  },
  {
   "cell_type": "code",
   "execution_count": 14,
   "id": "acfbf473",
   "metadata": {},
   "outputs": [],
   "source": [
    "llm = ChatOpenAI()"
   ]
  },
  {
   "cell_type": "code",
   "execution_count": 15,
   "id": "cf646867",
   "metadata": {},
   "outputs": [],
   "source": [
    "from langchain import PromptTemplate\n",
    "\n",
    "qa_with_nocontext = PromptTemplate.from_template(\n",
    "\"\"\"\\\n",
    "Answer the question\n",
    "\n",
    "question: {question}\n",
    "answer:\n",
    "\"\"\"\n",
    ")"
   ]
  },
  {
   "cell_type": "code",
   "execution_count": 16,
   "id": "0429da59",
   "metadata": {},
   "outputs": [
    {
     "name": "stderr",
     "output_type": "stream",
     "text": [
      "100%|████████████████████████████████████████████████████████████| 3/3 [06:19<00:00, 126.51s/it]\n"
     ]
    }
   ],
   "source": [
    "from tqdm import tqdm\n",
    "\n",
    "generations = []\n",
    "for b in tqdm(make_batches(len(fiqa_qa), 20)):\n",
    "    r_batch = fiqa_qa.select(b)\n",
    "    prompts = []\n",
    "    for r in r_batch:\n",
    "        p = qa_with_nocontext.format_prompt(\n",
    "            question=r[\"question\"]\n",
    "        )\n",
    "        prompts.append(p)\n",
    "    res = llm.generate_prompt(prompts)\n",
    "    res_texts = [i[0].text for i in res.generations]\n",
    "    generations.extend(res_texts)"
   ]
  },
  {
   "cell_type": "code",
   "execution_count": 17,
   "id": "3580a5f1",
   "metadata": {},
   "outputs": [
    {
     "data": {
      "text/plain": [
       "60"
      ]
     },
     "execution_count": 17,
     "metadata": {},
     "output_type": "execute_result"
    }
   ],
   "source": [
    "len(generations)"
   ]
  },
  {
   "cell_type": "code",
   "execution_count": 18,
   "id": "21f86001",
   "metadata": {},
   "outputs": [
    {
     "data": {
      "text/plain": [
       "Dataset({\n",
       "    features: ['question', 'ground_truths', 'answer_with_gt', 'answer_with_no_context'],\n",
       "    num_rows: 60\n",
       "})"
      ]
     },
     "execution_count": 18,
     "metadata": {},
     "output_type": "execute_result"
    }
   ],
   "source": [
    "final_ds = final_ds.add_column(\"answer_with_no_context\", generations)\n",
    "final_ds"
   ]
  },
  {
   "cell_type": "code",
   "execution_count": 19,
   "id": "bac2f16e",
   "metadata": {},
   "outputs": [
    {
     "name": "stdout",
     "output_type": "stream",
     "text": [
      "evaluating with [answer_relevancy]\n"
     ]
    },
    {
     "name": "stderr",
     "output_type": "stream",
     "text": [
      "100%|█████████████████████████████████████████████████████████████| 4/4 [02:23<00:00, 35.83s/it]\n"
     ]
    },
    {
     "name": "stdout",
     "output_type": "stream",
     "text": [
      "evaluating with [context_relavency]\n"
     ]
    },
    {
     "name": "stderr",
     "output_type": "stream",
     "text": [
      " 25%|███████████████                                             | 1/4 [01:51<05:34, 111.48s/it]Retrying langchain.chat_models.openai.ChatOpenAI.completion_with_retry.<locals>._completion_with_retry in 4.0 seconds as it raised APIConnectionError: Error communicating with OpenAI: ('Connection aborted.', RemoteDisconnected('Remote end closed connection without response')).\n",
      "100%|████████████████████████████████████████████████████████████| 4/4 [11:34<00:00, 173.74s/it]\n"
     ]
    },
    {
     "name": "stdout",
     "output_type": "stream",
     "text": [
      "evaluating with [faithfulness]\n"
     ]
    },
    {
     "name": "stderr",
     "output_type": "stream",
     "text": [
      "100%|████████████████████████████████████████████████████████████| 4/4 [16:34<00:00, 248.65s/it]\n"
     ]
    },
    {
     "data": {
      "text/plain": [
       "{'ragas_score': 0.4915, 'answer_relevancy': 0.9374, 'context_relavency': 0.3158, 'faithfulness': 0.5347}"
      ]
     },
     "execution_count": 19,
     "metadata": {},
     "output_type": "execute_result"
    }
   ],
   "source": [
    "ragas_result = evaluate(final_ds, column_map={\n",
    "    \"question\": \"question\",\n",
    "    \"contexts\": \"ground_truths\",\n",
    "    \"answer\": \"answer_with_no_context\"\n",
    "})\n",
    "\n",
    "ragas_result"
   ]
  },
  {
   "cell_type": "markdown",
   "id": "c4bd2c9d",
   "metadata": {},
   "source": [
    "## Evaluate a RAG pipeline"
   ]
  },
  {
   "cell_type": "code",
   "execution_count": 20,
   "id": "9d852a56",
   "metadata": {},
   "outputs": [],
   "source": [
    "from langchain.embeddings import OpenAIEmbeddings\n",
    "from langchain.vectorstores import Chroma\n",
    "from langchain.schema import Document\n",
    "\n",
    "data = fiqa_qa[\"ground_truths\"]\n",
    "docs = []\n",
    "for r in data:\n",
    "    for t in r:\n",
    "        docs.append(Document(page_content=t))\n",
    "        \n",
    "vectorstore = Chroma.from_documents(\n",
    "    documents=docs,\n",
    "    embedding=OpenAIEmbeddings(),\n",
    ")"
   ]
  },
  {
   "cell_type": "code",
   "execution_count": 22,
   "id": "1a276e4a",
   "metadata": {},
   "outputs": [
    {
     "data": {
      "text/plain": [
       "\"To deposit a cheque issued to an associate in your business into your business account, you have a few options:\\n\\n1. Third-Party Endorsement: Have the associate sign the back of the cheque and then deposit it into your business account. This is called a third-party cheque and is generally allowed. However, there may be a longer hold period for the funds, and if the cheque doesn't clear, you won't receive the money.\\n\\n2. In-Person Endorsement: If the cheque is for a large amount or you're not well-known at the bank, you can have the associate go to the bank with the cheque and endorse it in front of a teller, providing some form of identification. This can help establish the legitimacy of the transaction.\\n\\n3. Deposit into Associate's Account: Alternatively, the associate can deposit the cheque into their own account and then write a cheque to your business for the same amount. This may be a simpler option if you encounter difficulties with the first two methods.\\n\\nIt's important to note that the specific requirements and policies may vary depending on the bank and the nature of your business. It's recommended to contact your bank directly to confirm their procedures for depositing third-party cheques into a business account.\""
      ]
     },
     "execution_count": 22,
     "metadata": {},
     "output_type": "execute_result"
    }
   ],
   "source": [
    "from langchain.chains import RetrievalQA\n",
    "from langchain.chat_models import ChatOpenAI\n",
    "\n",
    "llm = ChatOpenAI(model_name=\"gpt-3.5-turbo\", temperature=0)\n",
    "qa_chain = RetrievalQA.from_chain_type(\n",
    "    llm,\n",
    "    retriever=vectorstore.as_retriever(),\n",
    "    return_source_documents=True,\n",
    ")\n",
    "\n",
    "\n",
    "# try it out\n",
    "q = fiqa_qa[\"question\"][0]\n",
    "result = qa_chain({\"query\": q})\n",
    "result[\"result\"]"
   ]
  },
  {
   "cell_type": "code",
   "execution_count": 23,
   "id": "ff62465a",
   "metadata": {},
   "outputs": [
    {
     "name": "stderr",
     "output_type": "stream",
     "text": [
      " 37%|█████████████████████▋                                     | 22/60 [02:04<02:31,  3.98s/it]Failed to patch https://api.smith.langchain.com/runs/59b41992-e741-4f86-ad48-b5ff0773a88b in LangSmith API. {\"detail\":\"Cannot update a run that has already finished\"}\n",
      "100%|███████████████████████████████████████████████████████████| 60/60 [05:28<00:00,  5.47s/it]\n"
     ]
    }
   ],
   "source": [
    "answer_from_rag = []\n",
    "contexts = []\n",
    "for q in tqdm(fiqa_qa[\"question\"]):\n",
    "    result = qa_chain({\"query\": q})\n",
    "    answer_from_rag.append(result[\"result\"])\n",
    "    contexts.append(\n",
    "        [i.page_content for i in result[\"source_documents\"]]\n",
    "    )"
   ]
  },
  {
   "cell_type": "code",
   "execution_count": 24,
   "id": "f680ba6e",
   "metadata": {},
   "outputs": [
    {
     "data": {
      "text/plain": [
       "Dataset({\n",
       "    features: ['question', 'ground_truths', 'answer_with_gt', 'answer_with_no_context', 'answer_with_rag', 'contexts_from_rag'],\n",
       "    num_rows: 60\n",
       "})"
      ]
     },
     "execution_count": 24,
     "metadata": {},
     "output_type": "execute_result"
    }
   ],
   "source": [
    "final_ds = final_ds.add_column(\"answer_with_rag\", answer_from_rag)\n",
    "final_ds = final_ds.add_column(\"contexts_from_rag\", contexts)\n",
    "final_ds"
   ]
  },
  {
   "cell_type": "code",
   "execution_count": 26,
   "id": "2b3567b3",
   "metadata": {},
   "outputs": [
    {
     "name": "stdout",
     "output_type": "stream",
     "text": [
      "evaluating with [answer_relevancy]\n"
     ]
    },
    {
     "name": "stderr",
     "output_type": "stream",
     "text": [
      "100%|█████████████████████████████████████████████████████████████| 4/4 [02:24<00:00, 36.23s/it]\n"
     ]
    },
    {
     "name": "stdout",
     "output_type": "stream",
     "text": [
      "evaluating with [context_relavency]\n"
     ]
    },
    {
     "name": "stderr",
     "output_type": "stream",
     "text": [
      "100%|████████████████████████████████████████████████████████████| 4/4 [07:10<00:00, 107.54s/it]\n"
     ]
    },
    {
     "name": "stdout",
     "output_type": "stream",
     "text": [
      "evaluating with [faithfulness]\n"
     ]
    },
    {
     "name": "stderr",
     "output_type": "stream",
     "text": [
      "100%|████████████████████████████████████████████████████████████| 4/4 [14:47<00:00, 221.97s/it]\n"
     ]
    },
    {
     "data": {
      "text/plain": [
       "{'ragas_score': 0.3355, 'answer_relevancy': 0.9110, 'context_relavency': 0.1512, 'faithfulness': 0.8122}"
      ]
     },
     "execution_count": 26,
     "metadata": {},
     "output_type": "execute_result"
    }
   ],
   "source": [
    "ragas_rag_result = evaluate(final_ds, column_map={\n",
    "    \"question\": \"question\",\n",
    "    \"contexts\": \"contexts_from_rag\",\n",
    "    \"answer\": \"answer_with_rag\"\n",
    "})\n",
    "\n",
    "ragas_rag_result"
   ]
  },
  {
   "cell_type": "code",
   "execution_count": 29,
   "id": "0ea942e8",
   "metadata": {},
   "outputs": [
    {
     "data": {
      "text/plain": [
       "{'ragas_score': 0.4915, 'answer_relevancy': 0.9374, 'context_relavency': 0.3158, 'faithfulness': 0.5347}"
      ]
     },
     "execution_count": 29,
     "metadata": {},
     "output_type": "execute_result"
    }
   ],
   "source": [
    "ragas_free_result = ragas_result\n",
    "ragas_free_result"
   ]
  },
  {
   "cell_type": "code",
   "execution_count": 30,
   "id": "6d416773",
   "metadata": {},
   "outputs": [
    {
     "data": {
      "text/plain": [
       "{'ragas_score': 0.3355, 'answer_relevancy': 0.9110, 'context_relavency': 0.1512, 'faithfulness': 0.8122}"
      ]
     },
     "execution_count": 30,
     "metadata": {},
     "output_type": "execute_result"
    }
   ],
   "source": [
    "ragas_rag_result"
   ]
  },
  {
   "cell_type": "code",
   "execution_count": 32,
   "id": "4145ea38",
   "metadata": {},
   "outputs": [
    {
     "data": {
      "text/plain": [
       "{'ragas_score': 0.5712, 'answer_relevancy': 0.9003, 'context_relavency': 0.3491, 'faithfulness': 0.7833}"
      ]
     },
     "execution_count": 32,
     "metadata": {},
     "output_type": "execute_result"
    }
   ],
   "source": [
    "ragas_grounded_result"
   ]
  },
  {
   "cell_type": "markdown",
   "id": "70052d6a",
   "metadata": {},
   "source": [
    "### Langchain stringEvaluator"
   ]
  },
  {
   "cell_type": "code",
   "execution_count": 37,
   "id": "f2832f51",
   "metadata": {},
   "outputs": [],
   "source": [
    "from langchain.evaluation import StringEvaluator\n",
    "from dataclasses import dataclass\n",
    "from ragas.metrics.base import Metric\n",
    "from langchain.chains import LLMChain\n",
    "\n",
    "@dataclass\n",
    "class LangchainEvaluator(StringEvaluator, Chain):\n",
    "    metrics: list[Metric]\n",
    "    \n",
    "    @classmethod\n",
    "    def from_metric(cls, metric: Metric):\n",
    "        ...\n",
    "        \n",
    "    def _evaluate_strings(\n",
    "        self,\n",
    "        *,\n",
    "        prediction: str,\n",
    "        reference: str | None = None,\n",
    "        input: str \n",
    "    ):\n",
    "        ..."
   ]
  },
  {
   "cell_type": "code",
   "execution_count": null,
   "id": "7f7bf277",
   "metadata": {},
   "outputs": [],
   "source": []
  }
 ],
 "metadata": {
  "kernelspec": {
   "display_name": "Python 3 (ipykernel)",
   "language": "python",
   "name": "python3"
  },
  "language_info": {
   "codemirror_mode": {
    "name": "ipython",
    "version": 3
   },
   "file_extension": ".py",
   "mimetype": "text/x-python",
   "name": "python",
   "nbconvert_exporter": "python",
   "pygments_lexer": "ipython3",
   "version": "3.10.12"
  }
 },
 "nbformat": 4,
 "nbformat_minor": 5
}