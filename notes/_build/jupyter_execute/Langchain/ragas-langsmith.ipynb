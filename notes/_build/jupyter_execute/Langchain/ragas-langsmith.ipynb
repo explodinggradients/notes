{
 "cells": [
  {
   "cell_type": "code",
   "execution_count": 1,
   "id": "18193ca7",
   "metadata": {},
   "outputs": [],
   "source": [
    "%load_ext autoreload\n",
    "%autoreload 2"
   ]
  },
  {
   "cell_type": "code",
   "execution_count": 2,
   "id": "28044617",
   "metadata": {},
   "outputs": [],
   "source": [
    "from langchain.document_loaders import TextLoader\n",
    "from langchain.indexes import VectorstoreIndexCreator\n",
    "\n",
    "loader = TextLoader(\"nyc_text.txt\")\n",
    "index = VectorstoreIndexCreator().from_loaders([loader])"
   ]
  },
  {
   "cell_type": "code",
   "execution_count": 11,
   "id": "5ee58785",
   "metadata": {},
   "outputs": [
    {
     "data": {
      "text/plain": [
       "'New York City got its name when it was renamed by the British in 1664 after King Charles II of England granted the lands to his brother, the Duke of York. The city was originally founded as a trading post called New Amsterdam by Dutch colonists in approximately 1624.'"
      ]
     },
     "execution_count": 11,
     "metadata": {},
     "output_type": "execute_result"
    }
   ],
   "source": [
    "from langchain.chains import RetrievalQA\n",
    "from langchain.chat_models import ChatOpenAI\n",
    "\n",
    "llm = ChatOpenAI()\n",
    "qa_chain = RetrievalQA.from_chain_type(\n",
    "    llm,\n",
    "    retriever=index.vectorstore.as_retriever(),\n",
    "    return_source_documents=True\n",
    ")\n",
    "\n",
    "question = \"How did New York City get its name?\"\n",
    "result = qa_chain({\"query\": question})\n",
    "result[\"result\"]"
   ]
  },
  {
   "cell_type": "code",
   "execution_count": 60,
   "id": "5315ac45",
   "metadata": {},
   "outputs": [],
   "source": [
    "def create_qa_chain():\n",
    "    qa_chain = RetrievalQA.from_chain_type(\n",
    "        llm,\n",
    "        retriever=index.vectorstore.as_retriever(),\n",
    "        return_source_documents=True\n",
    "    )\n",
    "    return qa_chain"
   ]
  },
  {
   "cell_type": "code",
   "execution_count": 62,
   "id": "3249ec70",
   "metadata": {},
   "outputs": [
    {
     "data": {
      "text/plain": [
       "dict_keys(['query', 'result', 'source_documents'])"
      ]
     },
     "execution_count": 62,
     "metadata": {},
     "output_type": "execute_result"
    }
   ],
   "source": [
    "qa_chain = create_qa_chain()\n",
    "\n",
    "result = qa_chain({\"query\": question})\n",
    "result.keys()"
   ]
  },
  {
   "cell_type": "code",
   "execution_count": 36,
   "id": "364092fd",
   "metadata": {},
   "outputs": [],
   "source": [
    "from langchain.callbacks.tracers import LangChainTracer\n",
    "from langchain.callbacks.manager import CallbackManagerForChainRun\n",
    "\n",
    "ragas_callback = LangChainTracer()"
   ]
  },
  {
   "cell_type": "code",
   "execution_count": 73,
   "id": "655ef586",
   "metadata": {},
   "outputs": [],
   "source": [
    "from langchain.schema import RUN_KEY\n",
    "from ragas.metrics.base import Metric\n",
    "import typing as t\n",
    "\n",
    "class RagasEvalutorChain(Chain):\n",
    "    metric: t.Any\n",
    "        \n",
    "    @property\n",
    "    def input_keys(self):\n",
    "        return [\"query\", \"result\", \"source_documents\"]\n",
    "    \n",
    "    @property\n",
    "    def output_keys(self):\n",
    "        return [f\"{self.metric.name}_score\"]\n",
    "\n",
    "    def _call(\n",
    "        self,\n",
    "        inputs,\n",
    "        run_manager = None,\n",
    "    ):\n",
    "        \"\"\"Call the evaluation chain.\"\"\"\n",
    "        answer = inputs[\"result\"]\n",
    "        question = inputs[\"query\"]\n",
    "        contexts = []\n",
    "        if \"source_documents\" in inputs:\n",
    "            for d in inputs[\"source_documents\"]:\n",
    "                if isinstance(d, dict):\n",
    "                    contexts.append(d[\"page_content\"])\n",
    "                else:\n",
    "                    contexts.append(d.page_content)        \n",
    "        \n",
    "        # set callback\n",
    "        _run_manager = run_manager or CallbackManagerForChainRun.get_noop_manager()\n",
    "        callbacks = _run_manager.get_child()\n",
    "        score = self.metric.score_single({\n",
    "            \"question\": question,\n",
    "            \"answer\": answer,\n",
    "            \"contexts\": contexts,\n",
    "        }, callbacks=callbacks)\n",
    "        print(score)\n",
    "        return {f\"{self.metric.name}_score\": score}"
   ]
  },
  {
   "cell_type": "code",
   "execution_count": 44,
   "id": "cb0cdd0f",
   "metadata": {},
   "outputs": [
    {
     "data": {
      "text/plain": [
       "ragas.metrics.answer_relevance.AnswerRelevancy"
      ]
     },
     "execution_count": 44,
     "metadata": {},
     "output_type": "execute_result"
    }
   ],
   "source": [
    "type(answer_relevancy)"
   ]
  },
  {
   "cell_type": "code",
   "execution_count": 74,
   "id": "4173292d",
   "metadata": {},
   "outputs": [],
   "source": [
    "from ragas.metrics import answer_relevancy\n",
    "\n",
    "answer_rel = RagasEvalutorChain(metric=answer_relevancy)"
   ]
  },
  {
   "cell_type": "code",
   "execution_count": 46,
   "id": "ee4d573a",
   "metadata": {},
   "outputs": [
    {
     "name": "stdout",
     "output_type": "stream",
     "text": [
      "0.9031754441691303\n"
     ]
    },
    {
     "data": {
      "text/plain": [
       "{'query': 'How did New York City get its name?',\n",
       " 'result': 'New York City got its name when it was renamed by the British in 1664 after King Charles II of England granted the lands to his brother, the Duke of York. The city was originally founded as a trading post called New Amsterdam by Dutch colonists in approximately 1624.',\n",
       " 'source_documents': [Document(page_content=\"== Etymology ==\\n\\nIn 1664, New York was named in honor of the Duke of York, who would become King James II of England. James's elder brother, King Charles II, appointed the Duke as proprietor of the former territory of New Netherland, including the city of New Amsterdam, when England seized it from Dutch control.\\n\\n\\n== History ==\", metadata={'source': 'nyc_text.txt'}),\n",
       "  Document(page_content=\"During the Wisconsin glaciation, 75,000 to 11,000 years ago, the New York City area was situated at the edge of a large ice sheet over 2,000 feet (610 m) in depth. The erosive forward movement of the ice (and its subsequent retreat) contributed to the separation of what is now Long Island and Staten Island. That action also left bedrock at a relatively shallow depth, providing a solid foundation for most of Manhattan's skyscrapers.New York City is situated in the northeastern United States, in southeastern New York State, approximately halfway between Washington, D.C. and Boston. The location at the mouth of the Hudson River, which feeds into a naturally sheltered harbor and then into the Atlantic Ocean, has helped the city grow in significance as a trading port. Most of New York City is built on the three islands of Long Island, Manhattan, and Staten Island.\", metadata={'source': 'nyc_text.txt'}),\n",
       "  Document(page_content='The city and its metropolitan area constitute the premier gateway for legal immigration to the United States. As many as 800 languages are spoken in New York, making it the most linguistically diverse city in the world. New York City is home to more than 3.2 million residents born outside the U.S., the largest foreign-born population of any city in the world as of 2016.New York City traces its origins to a trading post founded on the southern tip of Manhattan Island by Dutch colonists in approximately 1624. The settlement was named New Amsterdam (Dutch: Nieuw Amsterdam) in 1626 and was chartered as a city in 1653. The city came under British control in 1664 and was renamed New York after King Charles II of England granted the lands to his brother, the Duke of York. The city was regained by the Dutch in July 1673 and was renamed New Orange for one year and three months; the city has been continuously named New York since November 1674. New York City was the capital of the United States', metadata={'source': 'nyc_text.txt'}),\n",
       "  Document(page_content=\"Despite New York's heavy reliance on its vast public transit system, streets are a defining feature of the city. The Commissioners' Plan of 1811 greatly influenced the city's physical development. Several of the city's streets and avenues, including Broadway, Wall Street, Madison Avenue, and Seventh Avenue are also used as metonyms for national industries there: the theater, finance, advertising, and fashion organizations, respectively.\", metadata={'source': 'nyc_text.txt'})],\n",
       " 'contexts': [\"== Etymology ==\\n\\nIn 1664, New York was named in honor of the Duke of York, who would become King James II of England. James's elder brother, King Charles II, appointed the Duke as proprietor of the former territory of New Netherland, including the city of New Amsterdam, when England seized it from Dutch control.\\n\\n\\n== History ==\",\n",
       "  \"During the Wisconsin glaciation, 75,000 to 11,000 years ago, the New York City area was situated at the edge of a large ice sheet over 2,000 feet (610 m) in depth. The erosive forward movement of the ice (and its subsequent retreat) contributed to the separation of what is now Long Island and Staten Island. That action also left bedrock at a relatively shallow depth, providing a solid foundation for most of Manhattan's skyscrapers.New York City is situated in the northeastern United States, in southeastern New York State, approximately halfway between Washington, D.C. and Boston. The location at the mouth of the Hudson River, which feeds into a naturally sheltered harbor and then into the Atlantic Ocean, has helped the city grow in significance as a trading port. Most of New York City is built on the three islands of Long Island, Manhattan, and Staten Island.\",\n",
       "  'The city and its metropolitan area constitute the premier gateway for legal immigration to the United States. As many as 800 languages are spoken in New York, making it the most linguistically diverse city in the world. New York City is home to more than 3.2 million residents born outside the U.S., the largest foreign-born population of any city in the world as of 2016.New York City traces its origins to a trading post founded on the southern tip of Manhattan Island by Dutch colonists in approximately 1624. The settlement was named New Amsterdam (Dutch: Nieuw Amsterdam) in 1626 and was chartered as a city in 1653. The city came under British control in 1664 and was renamed New York after King Charles II of England granted the lands to his brother, the Duke of York. The city was regained by the Dutch in July 1673 and was renamed New Orange for one year and three months; the city has been continuously named New York since November 1674. New York City was the capital of the United States',\n",
       "  \"Despite New York's heavy reliance on its vast public transit system, streets are a defining feature of the city. The Commissioners' Plan of 1811 greatly influenced the city's physical development. Several of the city's streets and avenues, including Broadway, Wall Street, Madison Avenue, and Seventh Avenue are also used as metonyms for national industries there: the theater, finance, advertising, and fashion organizations, respectively.\"],\n",
       " 'answer_relevancy_score': 0.9031754441691303,\n",
       " '__run': RunInfo(run_id=UUID('e9a31080-39e2-4ee4-a67d-0734b8c82e7e'))}"
      ]
     },
     "execution_count": 46,
     "metadata": {},
     "output_type": "execute_result"
    }
   ],
   "source": [
    "answer_rel(result, include_run_info=True)"
   ]
  },
  {
   "cell_type": "code",
   "execution_count": 75,
   "id": "d9d12475",
   "metadata": {
    "scrolled": true
   },
   "outputs": [],
   "source": [
    "from typing import Optional\n",
    "\n",
    "from ragas import evaluate\n",
    "from ragas.metrics import faithfulness\n",
    "from langchain.chains.base import Chain\n",
    "\n",
    "from langsmith.evaluation import EvaluationResult, RunEvaluator\n",
    "from langsmith.schemas import Example, Run\n",
    "\n",
    "dataset_name = \"NYC test\"\n",
    "\n",
    "class RagasEvaluator(RunEvaluator):\n",
    "    def __init__(self, metric):\n",
    "        self.metric = metric\n",
    "        \n",
    "        self.metric.init_model()\n",
    "    \n",
    "    \n",
    "    def _prepare_evaluator_output(self, output):\n",
    "        print(output)\n",
    "        \n",
    "\n",
    "    \n",
    "    def evaluate_run(\n",
    "        self, run: Run, example: Optional[Example] = None\n",
    "    ) -> EvaluationResult:\n",
    "        if run.outputs is None:\n",
    "            raise ValueError(\"Run outputs cannot be None\")\n",
    "        eval_input = run.outputs[\"query\"] = run.inputs[\"query\"]\n",
    "        eval_output = answer_rel(run.outputs, include_run_info=True)\n",
    "\n",
    "        \n",
    "        score_name = f\"{self.metric.name}_score\"\n",
    "        evaluation_result = EvaluationResult(\n",
    "            key=self.metric.name, \n",
    "            score=eval_output[score_name]\n",
    "        )\n",
    "        if RUN_KEY in eval_output:\n",
    "            evaluation_result.evaluator_info[RUN_KEY] = eval_output[RUN_KEY]\n",
    "        return evaluation_result"
   ]
  },
  {
   "cell_type": "code",
   "execution_count": 76,
   "id": "6d91ee3b",
   "metadata": {},
   "outputs": [
    {
     "name": "stdout",
     "output_type": "stream",
     "text": [
      "View the evaluation results for project '2023-08-10-19-05-35-RetrievalQA' at:\n",
      "https://smith.langchain.com/projects/p/874669fc-9241-4d27-a35e-20c9132ffe24?eval=true\n",
      "0.9686248361386427\n",
      "0.9239109844858733\n",
      "0.934866442971953\n",
      "0.9985288482453205\n",
      "1.0000000000000004\n"
     ]
    },
    {
     "data": {
      "text/plain": [
       "{'project_name': '2023-08-10-19-05-35-RetrievalQA',\n",
       " 'results': {'6ddbfe30-309c-401e-8a6b-e17f091cfa1b': [{'query': 'What is the significance of the Statue of Liberty in New York City?',\n",
       "    'result': 'The Statue of Liberty in New York City holds great significance as a symbol of the United States and its ideals of liberty and peace. It served as a welcoming sight to millions of immigrants who arrived in the U.S. by ship in the late 19th and early 20th centuries. The statue represents freedom and cultural diversity and has become an iconic landmark in New York City.',\n",
       "    'source_documents': [Document(page_content='from 1785 until 1790, and has been the largest U.S. city since 1790. The Statue of Liberty greeted millions of immigrants as they came to the U.S. by ship in the late 19th and early 20th centuries, and is a symbol of the U.S. and its ideals of liberty and peace. In the 21st century, New York City has emerged as a global node of creativity, entrepreneurship, and as a symbol of freedom and cultural diversity. The New York Times has won the most Pulitzer Prizes for journalism and remains the U.S. media\\'s \"newspaper of record\". In 2019, New York City was voted the greatest city in the world in a survey of over 30,000 people from 48 cities worldwide, citing its cultural diversity.Many districts and monuments in New York City are major landmarks, including three of the world\\'s ten most visited tourist attractions in 2013. A record 66.6 million tourists visited New York City in 2019. Times Square is the brightly illuminated hub of the Broadway Theater District, one of the world\\'s busiest', metadata={'source': 'nyc_text.txt'}),\n",
       "     Document(page_content=\"The Statue of Liberty National Monument and Ellis Island Immigration Museum are managed by the National Park Service and are in both New York and New Jersey. They are joined in the harbor by Governors Island National Monument. Historic sites under federal management on Manhattan Island include Stonewall National Monument; Castle Clinton National Monument; Federal Hall National Memorial; Theodore Roosevelt Birthplace National Historic Site; General Grant National Memorial (Grant's Tomb); African Burial Ground National Monument; and Hamilton Grange National Memorial. Hundreds of properties are listed on the National Register of Historic Places or as a National Historic Landmark.\", metadata={'source': 'nyc_text.txt'}),\n",
       "     Document(page_content=\"The majority of the most high-profile tourist destinations to the city are situated in Manhattan. These include Times Square; Broadway theater productions; the Empire State Building; the Statue of Liberty; Ellis Island; the United Nations headquarters; the World Trade Center (including the National September 11 Memorial & Museum and One World Trade Center); the art museums along Museum Mile; green spaces such as Central Park, Washington Square Park, the High Line, and the medieval gardens of The Cloisters; the Stonewall Inn; Rockefeller Center; ethnic enclaves including the Manhattan Chinatown, Koreatown, Curry Hill, Harlem, Spanish Harlem, Little Italy, and Little Australia; luxury shopping along Fifth and Madison Avenues; and events such as the Halloween Parade in Greenwich Village; the Brooklyn Bridge (shared with Brooklyn); the Macy's Thanksgiving Day Parade; the lighting of the Rockefeller Center Christmas Tree; the St. Patrick's Day Parade; seasonal activities such as ice\", metadata={'source': 'nyc_text.txt'}),\n",
       "     Document(page_content=\"Tourism is a vital industry for New York City, and NYC & Company represents the city's official bureau of tourism. New York has witnessed a growing combined volume of international and domestic tourists, reflecting over 60 million visitors to the city per year, the world's busiest tourist destination. Approximately 12 million visitors to New York City have been from outside the United States, with the highest numbers from the United Kingdom, Canada, Brazil, and China. Multiple sources have called New York the most photographed city in the world.I Love New York (stylized I ❤ NY) is both a logo and a song that are the basis of an advertising campaign and have been used since 1977 to promote tourism in New York City, and later to promote New York State as well. The trademarked logo, owned by New York State Empire State Development, appears in souvenir shops and brochures throughout the city and state, some licensed, many not. The song is the state song of New York.\", metadata={'source': 'nyc_text.txt'})]}],\n",
       "  '8d0bf6f3-096b-4092-b2e9-cacc0b5f21de': [{'query': 'How did New York City get its name?',\n",
       "    'result': 'New York City was named in honor of the Duke of York, who later became King James II of England. The city was originally called New Amsterdam when it was founded by Dutch colonists in 1624. However, it came under British control in 1664 and was renamed New York after King Charles II granted the lands to his brother, the Duke of York. The name has remained unchanged since then.',\n",
       "    'source_documents': [Document(page_content=\"== Etymology ==\\n\\nIn 1664, New York was named in honor of the Duke of York, who would become King James II of England. James's elder brother, King Charles II, appointed the Duke as proprietor of the former territory of New Netherland, including the city of New Amsterdam, when England seized it from Dutch control.\\n\\n\\n== History ==\", metadata={'source': 'nyc_text.txt'}),\n",
       "     Document(page_content=\"During the Wisconsin glaciation, 75,000 to 11,000 years ago, the New York City area was situated at the edge of a large ice sheet over 2,000 feet (610 m) in depth. The erosive forward movement of the ice (and its subsequent retreat) contributed to the separation of what is now Long Island and Staten Island. That action also left bedrock at a relatively shallow depth, providing a solid foundation for most of Manhattan's skyscrapers.New York City is situated in the northeastern United States, in southeastern New York State, approximately halfway between Washington, D.C. and Boston. The location at the mouth of the Hudson River, which feeds into a naturally sheltered harbor and then into the Atlantic Ocean, has helped the city grow in significance as a trading port. Most of New York City is built on the three islands of Long Island, Manhattan, and Staten Island.\", metadata={'source': 'nyc_text.txt'}),\n",
       "     Document(page_content='The city and its metropolitan area constitute the premier gateway for legal immigration to the United States. As many as 800 languages are spoken in New York, making it the most linguistically diverse city in the world. New York City is home to more than 3.2 million residents born outside the U.S., the largest foreign-born population of any city in the world as of 2016.New York City traces its origins to a trading post founded on the southern tip of Manhattan Island by Dutch colonists in approximately 1624. The settlement was named New Amsterdam (Dutch: Nieuw Amsterdam) in 1626 and was chartered as a city in 1653. The city came under British control in 1664 and was renamed New York after King Charles II of England granted the lands to his brother, the Duke of York. The city was regained by the Dutch in July 1673 and was renamed New Orange for one year and three months; the city has been continuously named New York since November 1674. New York City was the capital of the United States', metadata={'source': 'nyc_text.txt'}),\n",
       "     Document(page_content=\"Despite New York's heavy reliance on its vast public transit system, streets are a defining feature of the city. The Commissioners' Plan of 1811 greatly influenced the city's physical development. Several of the city's streets and avenues, including Broadway, Wall Street, Madison Avenue, and Seventh Avenue are also used as metonyms for national industries there: the theater, finance, advertising, and fashion organizations, respectively.\", metadata={'source': 'nyc_text.txt'})]}],\n",
       "  'b3704607-ed11-4da5-bc01-3788e58e28c0': [{'query': 'What is the economic significance of New York City?',\n",
       "    'result': \"The economic significance of New York City is vast and diverse. It serves as the headquarters for the U.S. financial industry, with Wall Street being a major economic engine. The city is home to numerous large financial companies as well as growing financial startup companies. Additionally, New York City is a global hub for business and commerce, attracting capital, businesses, and tourists from around the world. It is known for its global banking and finance, healthcare and life sciences, retail, world trade, transportation, tourism, real estate, media, advertising, fashion, and arts industries. The city's ports, particularly the Port of New York and New Jersey, play a significant role in handling maritime cargo. Furthermore, New York City is a major center for the advertising industry, with Madison Avenue being a symbol of its prominence. The fashion industry also thrives in the city, providing employment to a large number of people and generating billions of dollars in wages.\",\n",
       "    'source_documents': [Document(page_content=\"New York City's most important economic sector lies in its role as the headquarters for the U.S. financial industry, metonymously known as Wall Street. The city's securities industry continues to form the largest segment of the city's financial sector and is an important economic engine. Many large financial companies are headquartered in New York City, and the city is also home to a burgeoning number of financial startup companies.\", metadata={'source': 'nyc_text.txt'}),\n",
       "     Document(page_content=\"Significant economic sectors also include non-profit institutions, and universities. Manufacturing declined over the 20th century but still accounts for significant employment. particularly in smaller operations. The city's apparel and garment industry, historically centered on the Garment District in Manhattan, peaked in 1950, when more than 323,000 workers were employed in the industry in New York. In 2015, fewer than 23,000 New York City residents were employed in the manufacture of garments, accessories, and finished textiles, although efforts to revive the industry were underway, and the American fashion industry continues to be metonymized as Seventh Avenue.Chocolate is New York City's leading specialty-food export, with up to $234 million worth of exports each year. Godiva, one of the world's largest chocolatiers, is headquartered in Manhattan, and an unofficial chocolate district in Brooklyn is home to several chocolate makers and retailers. Food processing is a $5 billion\", metadata={'source': 'nyc_text.txt'}),\n",
       "     Document(page_content=\"New York City is a global hub of business and commerce and an established safe haven for global investors, and is sometimes described as the capital of the world. The term global city was popularized by sociologist Saskia Sassen in her 1991 work, The Global City: New York, London, Tokyo. New York is a center for worldwide banking and finance, health care and life sciences, medical technology and research, retailing, world trade, transportation, tourism, real estate, new media, traditional media, advertising, legal services, accountancy, insurance, both musical and prose theater, fashion, and the arts in the United States; while Silicon Alley, metonymous for New York's broad-spectrum high technology sphere, continues to expand. The Port of New York and New Jersey is a major economic engine, handling a maritime cargo volume in the ten months through October 2022 of over 8.2 million TEUs, benefitting post-Panamax from the expansion of the Panama Canal, and accelerating ahead of\", metadata={'source': 'nyc_text.txt'}),\n",
       "     Document(page_content=\"California seaports in monthly cargo volumes.Many Fortune 500 corporations are headquartered in New York City, as are a large number of multinational corporations. New York City has been ranked first among cities across the globe in attracting capital, business, and tourists. New York City's role as the top global center for the advertising industry is metonymously reflected as Madison Avenue. The city's fashion industry provides approximately 180,000 employees with $11 billion in annual wages. The non-profit Partnership for New York City, currently headed by Kathryn Wylde, is the city's pre-eminent private business association, comprising approximately 330 corporate leaders in membership. The fashion industry is based in Midtown Manhattan and is represented by the Council of Fashion Designers of America (CDFA), headquartered in Lower Manhattan.\", metadata={'source': 'nyc_text.txt'})]}],\n",
       "  'b51abfb6-5a74-4225-b0fc-2bd5ce1270a4': [{'query': 'Which borough of New York City has the highest population?',\n",
       "    'result': 'The borough of Brooklyn (Kings County) has the highest population in New York City.',\n",
       "    'source_documents': [Document(page_content=\"Manhattan (New York County) is the geographically smallest and most densely populated borough. It is home to Central Park and most of the city's skyscrapers, and is sometimes locally known as The City. Manhattan's population density of 72,033 people per square mile (27,812/km2) in 2015 makes it the highest of any county in the United States and higher than the density of any individual American city.Manhattan is the cultural, administrative, and financial center of New York City and contains the headquarters of many major multinational corporations, the United Nations headquarters, Wall Street, and a number of important universities. The borough of Manhattan is often described as the financial and cultural center of the world.Most of the borough is situated on Manhattan Island, at the mouth of the Hudson River and the East River, and its southern tip, at the confluence of the two rivers, represents the birthplace of New York City itself. Several small islands also compose part of the\", metadata={'source': 'nyc_text.txt'}),\n",
       "     Document(page_content=\"=== Population density ===\\n\\nIn 2020, the city had an estimated population density of 29,302.37 inhabitants per square mile (11,313.71/km2), rendering it the nation's most densely populated of all larger municipalities (those with more than 100,000 residents), with several small cities (of fewer than 100,000) in adjacent Hudson County, New Jersey having greater density, as per the 2010 census. Geographically co-extensive with New York County, the borough of Manhattan's 2017 population density of 72,918 inhabitants per square mile (28,154/km2) makes it the highest of any county in the United States and higher than the density of any individual American city. The next three densest counties in the United States, placing second through fourth, are also New York boroughs: Brooklyn, the Bronx, and Queens respectively.\\n\\n\\n=== Race and ethnicity ===\", metadata={'source': 'nyc_text.txt'}),\n",
       "     Document(page_content=\"The borough of Manhattan also includes a small neighborhood on the mainland, called Marble Hill, which is contiguous with the Bronx. New York City's remaining four boroughs are collectively referred to as the Outer Boroughs.\\n\\n\\n==== Brooklyn ====\\nBrooklyn (Kings County), on the western tip of Long Island, is the city's most populous borough. Brooklyn is known for its cultural, social, and ethnic diversity, an independent art scene, distinct neighborhoods, and a distinctive architectural heritage. Downtown Brooklyn is the largest central core neighborhood in the Outer Boroughs. The borough has a long beachfront shoreline including Coney Island, established in the 1870s as one of the earliest amusement grounds in the U.S. Marine Park and Prospect Park are the two largest parks in Brooklyn. Since 2010, Brooklyn has evolved into a thriving hub of entrepreneurship and high technology startup firms, and of postmodern art and design.\", metadata={'source': 'nyc_text.txt'}),\n",
       "     Document(page_content=\"New York is also home to the highest Jewish population of any city in the world, numbering 1.6 million in 2022, more than Tel Aviv and Jerusalem combined. In the borough of Brooklyn, an estimated 1 in 4 residents is Jewish. The city's Jewish communities are derived from many diverse sects, predominantly from around the Middle East and Eastern Europe, and including a rapidly growing Orthodox Jewish population, also the largest outside Israel.The metropolitan area is also home to 20% of the nation's Indian Americans and at least 20 Little India enclaves, and 15% of all Korean Americans and four Koreatowns; the largest Asian Indian population in the Western Hemisphere; the largest Russian American, Italian American, and African American populations; the largest Dominican American, Puerto Rican American, and South American and second-largest overall Hispanic population in the United States, numbering 4.8 million; and includes multiple established Chinatowns within New York City\", metadata={'source': 'nyc_text.txt'})]}],\n",
       "  'a0f330d3-5d5e-4da4-8637-0a57cd22b761': [{'query': 'What is the population of New York City as of 2020?',\n",
       "    'result': 'The population of New York City as of 2020 is 8,804,190.',\n",
       "    'source_documents': [Document(page_content=\"New York City is the most populous city in the United States, with 8,804,190 residents incorporating more immigration into the city than outmigration since the 2010 United States census. More than twice as many people live in New York City as compared to Los Angeles, the second-most populous U.S. city; and New York has more than three times the population of Chicago, the third-most populous U.S. city. New York City gained more residents between 2010 and 2020 (629,000) than any other U.S. city, and a greater amount than the total sum of the gains over the same decade of the next four largest U.S. cities, Los Angeles, Chicago, Houston, and Phoenix, Arizona combined. New York City's population is about 44% of New York State's population, and about 39% of the population of the New York metropolitan area. The majority of New York City residents in 2020 (5,141,538, or 58.4%) were living on Long Island, in Brooklyn, or in Queens. The New York City metropolitan statistical area, has the\", metadata={'source': 'nyc_text.txt'}),\n",
       "     Document(page_content=\"New York, often called New York City or NYC, is the most populous city in the United States. With a 2020 population of 8,804,190 distributed over 300.46 square miles (778.2 km2), New York City is the most densely populated major city in the United States and more than twice as populous as Los Angeles, the nation's second-largest city. New York City is located at the southern tip of New York State. It constitutes the geographical and demographic center of both the Northeast megalopolis and the New York metropolitan area, the largest metropolitan area in the U.S. by both population and urban area. With over 20.1 million people in its metropolitan statistical area and 23.5 million in its combined statistical area as of 2020, New York is one of the world's most populous megacities, and over 58 million people live within 250 mi (400 km) of the city. New York City is a global cultural, financial, entertainment, and media center with a significant influence on commerce, health care and life\", metadata={'source': 'nyc_text.txt'}),\n",
       "     Document(page_content=\"New York's population reached all-time highs in the 2000 census and then again in the 2010 census.\", metadata={'source': 'nyc_text.txt'}),\n",
       "     Document(page_content='The city\\'s population in 2020 was 30.9% White (non-Hispanic), 28.7% Hispanic or Latino, 20.2% Black or African American (non-Hispanic), 15.6% Asian, and 0.2% Native American (non-Hispanic). A total of 3.4% of the non-Hispanic population identified with more than one race. Throughout its history, New York has been a major port of entry for immigrants into the United States. More than 12 million European immigrants were received at Ellis Island between 1892 and 1924. The term \"melting pot\" was first coined to describe densely populated immigrant neighborhoods on the Lower East Side. By 1900, Germans constituted the largest immigrant group, followed by the Irish, Jews, and Italians. In 1940, Whites represented 92% of the city\\'s population.Approximately 37% of the city\\'s population is foreign born, and more than half of all children are born to mothers who are immigrants as of 2013. In New York, no single country or region of origin dominates. The ten largest sources of foreign-born', metadata={'source': 'nyc_text.txt'})]}]}}"
      ]
     },
     "execution_count": 76,
     "metadata": {},
     "output_type": "execute_result"
    }
   ],
   "source": [
    "from langsmith import Client\n",
    "from langchain.smith import RunEvalConfig, run_on_dataset\n",
    "\n",
    "from ragas.metrics.critique import harmfulness, coherence\n",
    "from ragas.metrics import faithfulness, context_relevancy, answer_relevancy\n",
    "\n",
    "client = Client()\n",
    "\n",
    "evaluation_config = RunEvalConfig(\n",
    "    custom_evaluators = [\n",
    "        RagasEvaluator(metric=answer_relevancy)\n",
    "    ],\n",
    "    prediction_key=\"result\"\n",
    ")\n",
    "\n",
    "run_on_dataset(\n",
    "    client,\n",
    "    dataset_name,\n",
    "    create_qa_chain,\n",
    "    evaluation=evaluation_config,\n",
    "    input_mapper=lambda x: x\n",
    ")"
   ]
  },
  {
   "cell_type": "code",
   "execution_count": 6,
   "id": "92af6424",
   "metadata": {},
   "outputs": [],
   "source": [
    "from langchain.smith import RunEvalConfig, run_on_dataset\n",
    "from langsmith import Client\n",
    "\n",
    "client = Client()\n",
    "eval_config = RunEvalConfig(\n",
    "    evaluators=[\n",
    "      \"qa\",\n",
    "  ],\n",
    "    reference_key = \"answer\"\n",
    ")"
   ]
  },
  {
   "cell_type": "code",
   "execution_count": 7,
   "id": "feff4d73",
   "metadata": {},
   "outputs": [
    {
     "name": "stdout",
     "output_type": "stream",
     "text": [
      "View the evaluation results for project '2023-08-03-12-40-25-RetrievalQA' at:\n",
      "https://smith.langchain.com/projects/p/ff921a02-7dcc-453b-9500-4ee160fda9d7?eval=true\n",
      "> \u001b[0;32m/home/jjmachan/.pyenv/versions/3.10.12/envs/notes/lib/python3.10/site-packages/langsmith/client.py\u001b[0m(1375)\u001b[0;36mevaluate_run\u001b[0;34m()\u001b[0m\n",
      "\u001b[0;32m   1374 \u001b[0;31m        \u001b[0;32mimport\u001b[0m \u001b[0mipdb\u001b[0m\u001b[0;34m;\u001b[0m \u001b[0mipdb\u001b[0m\u001b[0;34m.\u001b[0m\u001b[0mset_trace\u001b[0m\u001b[0;34m(\u001b[0m\u001b[0;34m)\u001b[0m \u001b[0;31m# fmt: skip\u001b[0m\u001b[0;34m\u001b[0m\u001b[0;34m\u001b[0m\u001b[0m\n",
      "\u001b[0m\u001b[0;32m-> 1375 \u001b[0;31m        return self.create_feedback(\n",
      "\u001b[0m\u001b[0;32m   1376 \u001b[0;31m            \u001b[0mrun_\u001b[0m\u001b[0;34m.\u001b[0m\u001b[0mid\u001b[0m\u001b[0;34m,\u001b[0m\u001b[0;34m\u001b[0m\u001b[0;34m\u001b[0m\u001b[0m\n",
      "\u001b[0m\n",
      "ipdb> source_info\n",
      "{'__run': RunInfo(run_id=UUID('a7327fbf-bc3b-45d2-9fb3-44c117903a4a'))}\n",
      "ipdb> qssed\n"
     ]
    },
    {
     "name": "stderr",
     "output_type": "stream",
     "text": [
      "Error evaluating run ee863bac-6c20-4474-82eb-7a7ebca0c93e with StringRunEvaluatorChain: \n",
      "Traceback (most recent call last):\n",
      "  File \"/home/jjmachan/.pyenv/versions/3.10.12/envs/notes/lib/python3.10/site-packages/langchain/callbacks/tracers/evaluation.py\", line 109, in _evaluate_in_project\n",
      "    self.client.evaluate_run(run, evaluator)\n",
      "  File \"/home/jjmachan/.pyenv/versions/3.10.12/envs/notes/lib/python3.10/site-packages/langsmith/client.py\", line 1375, in evaluate_run\n",
      "    return self.create_feedback(\n",
      "  File \"/home/jjmachan/.pyenv/versions/3.10.12/envs/notes/lib/python3.10/site-packages/langsmith/client.py\", line 1375, in evaluate_run\n",
      "    return self.create_feedback(\n",
      "  File \"/home/jjmachan/.pyenv/versions/3.10.12/lib/python3.10/bdb.py\", line 90, in trace_dispatch\n",
      "    return self.dispatch_line(frame)\n",
      "  File \"/home/jjmachan/.pyenv/versions/3.10.12/lib/python3.10/bdb.py\", line 115, in dispatch_line\n",
      "    if self.quitting: raise BdbQuit\n",
      "bdb.BdbQuit\n"
     ]
    },
    {
     "name": "stdout",
     "output_type": "stream",
     "text": [
      "> \u001b[0;32m/home/jjmachan/.pyenv/versions/3.10.12/envs/notes/lib/python3.10/site-packages/langsmith/client.py\u001b[0m(1375)\u001b[0;36mevaluate_run\u001b[0;34m()\u001b[0m\n",
      "\u001b[0;32m   1374 \u001b[0;31m        \u001b[0;32mimport\u001b[0m \u001b[0mipdb\u001b[0m\u001b[0;34m;\u001b[0m \u001b[0mipdb\u001b[0m\u001b[0;34m.\u001b[0m\u001b[0mset_trace\u001b[0m\u001b[0;34m(\u001b[0m\u001b[0;34m)\u001b[0m \u001b[0;31m# fmt: skip\u001b[0m\u001b[0;34m\u001b[0m\u001b[0;34m\u001b[0m\u001b[0m\n",
      "\u001b[0m\u001b[0;32m-> 1375 \u001b[0;31m        return self.create_feedback(\n",
      "\u001b[0m\u001b[0;32m   1376 \u001b[0;31m            \u001b[0mrun_\u001b[0m\u001b[0;34m.\u001b[0m\u001b[0mid\u001b[0m\u001b[0;34m,\u001b[0m\u001b[0;34m\u001b[0m\u001b[0;34m\u001b[0m\u001b[0m\n",
      "\u001b[0m\n",
      "ipdb> q\n"
     ]
    },
    {
     "name": "stderr",
     "output_type": "stream",
     "text": [
      "Error evaluating run 502cda78-6d4b-47e1-a445-435ac1e1b017 with StringRunEvaluatorChain: \n",
      "Traceback (most recent call last):\n",
      "  File \"/home/jjmachan/.pyenv/versions/3.10.12/envs/notes/lib/python3.10/site-packages/langchain/callbacks/tracers/evaluation.py\", line 109, in _evaluate_in_project\n",
      "    self.client.evaluate_run(run, evaluator)\n",
      "  File \"/home/jjmachan/.pyenv/versions/3.10.12/envs/notes/lib/python3.10/site-packages/langsmith/client.py\", line 1375, in evaluate_run\n",
      "    return self.create_feedback(\n",
      "  File \"/home/jjmachan/.pyenv/versions/3.10.12/envs/notes/lib/python3.10/site-packages/langsmith/client.py\", line 1375, in evaluate_run\n",
      "    return self.create_feedback(\n",
      "  File \"/home/jjmachan/.pyenv/versions/3.10.12/lib/python3.10/bdb.py\", line 90, in trace_dispatch\n",
      "    return self.dispatch_line(frame)\n",
      "  File \"/home/jjmachan/.pyenv/versions/3.10.12/lib/python3.10/bdb.py\", line 115, in dispatch_line\n",
      "    if self.quitting: raise BdbQuit\n",
      "bdb.BdbQuit\n"
     ]
    },
    {
     "name": "stdout",
     "output_type": "stream",
     "text": [
      "> \u001b[0;32m/home/jjmachan/.pyenv/versions/3.10.12/envs/notes/lib/python3.10/site-packages/langsmith/client.py\u001b[0m(1375)\u001b[0;36mevaluate_run\u001b[0;34m()\u001b[0m\n",
      "\u001b[0;32m   1374 \u001b[0;31m        \u001b[0;32mimport\u001b[0m \u001b[0mipdb\u001b[0m\u001b[0;34m;\u001b[0m \u001b[0mipdb\u001b[0m\u001b[0;34m.\u001b[0m\u001b[0mset_trace\u001b[0m\u001b[0;34m(\u001b[0m\u001b[0;34m)\u001b[0m \u001b[0;31m# fmt: skip\u001b[0m\u001b[0;34m\u001b[0m\u001b[0;34m\u001b[0m\u001b[0m\n",
      "\u001b[0m\u001b[0;32m-> 1375 \u001b[0;31m        return self.create_feedback(\n",
      "\u001b[0m\u001b[0;32m   1376 \u001b[0;31m            \u001b[0mrun_\u001b[0m\u001b[0;34m.\u001b[0m\u001b[0mid\u001b[0m\u001b[0;34m,\u001b[0m\u001b[0;34m\u001b[0m\u001b[0;34m\u001b[0m\u001b[0m\n",
      "\u001b[0m\n",
      "ipdb> q\n"
     ]
    },
    {
     "name": "stderr",
     "output_type": "stream",
     "text": [
      "Error evaluating run c27d2ebe-e103-419e-8fdd-988c6489ba95 with StringRunEvaluatorChain: \n",
      "Traceback (most recent call last):\n",
      "  File \"/home/jjmachan/.pyenv/versions/3.10.12/envs/notes/lib/python3.10/site-packages/langchain/callbacks/tracers/evaluation.py\", line 109, in _evaluate_in_project\n",
      "    self.client.evaluate_run(run, evaluator)\n",
      "  File \"/home/jjmachan/.pyenv/versions/3.10.12/envs/notes/lib/python3.10/site-packages/langsmith/client.py\", line 1375, in evaluate_run\n",
      "    return self.create_feedback(\n",
      "  File \"/home/jjmachan/.pyenv/versions/3.10.12/envs/notes/lib/python3.10/site-packages/langsmith/client.py\", line 1375, in evaluate_run\n",
      "    return self.create_feedback(\n",
      "  File \"/home/jjmachan/.pyenv/versions/3.10.12/lib/python3.10/bdb.py\", line 90, in trace_dispatch\n",
      "    return self.dispatch_line(frame)\n",
      "  File \"/home/jjmachan/.pyenv/versions/3.10.12/lib/python3.10/bdb.py\", line 115, in dispatch_line\n",
      "    if self.quitting: raise BdbQuit\n",
      "bdb.BdbQuit\n"
     ]
    },
    {
     "name": "stdout",
     "output_type": "stream",
     "text": [
      "> \u001b[0;32m/home/jjmachan/.pyenv/versions/3.10.12/envs/notes/lib/python3.10/site-packages/langsmith/client.py\u001b[0m(1375)\u001b[0;36mevaluate_run\u001b[0;34m()\u001b[0m\n",
      "\u001b[0;32m   1374 \u001b[0;31m        \u001b[0;32mimport\u001b[0m \u001b[0mipdb\u001b[0m\u001b[0;34m;\u001b[0m \u001b[0mipdb\u001b[0m\u001b[0;34m.\u001b[0m\u001b[0mset_trace\u001b[0m\u001b[0;34m(\u001b[0m\u001b[0;34m)\u001b[0m \u001b[0;31m# fmt: skip\u001b[0m\u001b[0;34m\u001b[0m\u001b[0;34m\u001b[0m\u001b[0m\n",
      "\u001b[0m\u001b[0;32m-> 1375 \u001b[0;31m        return self.create_feedback(\n",
      "\u001b[0m\u001b[0;32m   1376 \u001b[0;31m            \u001b[0mrun_\u001b[0m\u001b[0;34m.\u001b[0m\u001b[0mid\u001b[0m\u001b[0;34m,\u001b[0m\u001b[0;34m\u001b[0m\u001b[0;34m\u001b[0m\u001b[0m\n",
      "\u001b[0m\n",
      "ipdb> q\n"
     ]
    },
    {
     "name": "stderr",
     "output_type": "stream",
     "text": [
      "Error evaluating run 34d8c89d-bf71-4c6d-b589-1d2cd2e37ac1 with StringRunEvaluatorChain: \n",
      "Traceback (most recent call last):\n",
      "  File \"/home/jjmachan/.pyenv/versions/3.10.12/envs/notes/lib/python3.10/site-packages/langchain/callbacks/tracers/evaluation.py\", line 109, in _evaluate_in_project\n",
      "    self.client.evaluate_run(run, evaluator)\n",
      "  File \"/home/jjmachan/.pyenv/versions/3.10.12/envs/notes/lib/python3.10/site-packages/langsmith/client.py\", line 1375, in evaluate_run\n",
      "    return self.create_feedback(\n",
      "  File \"/home/jjmachan/.pyenv/versions/3.10.12/envs/notes/lib/python3.10/site-packages/langsmith/client.py\", line 1375, in evaluate_run\n",
      "    return self.create_feedback(\n",
      "  File \"/home/jjmachan/.pyenv/versions/3.10.12/lib/python3.10/bdb.py\", line 90, in trace_dispatch\n",
      "    return self.dispatch_line(frame)\n",
      "  File \"/home/jjmachan/.pyenv/versions/3.10.12/lib/python3.10/bdb.py\", line 115, in dispatch_line\n",
      "    if self.quitting: raise BdbQuit\n",
      "bdb.BdbQuit\n"
     ]
    },
    {
     "name": "stdout",
     "output_type": "stream",
     "text": [
      "> \u001b[0;32m/home/jjmachan/.pyenv/versions/3.10.12/envs/notes/lib/python3.10/site-packages/langsmith/client.py\u001b[0m(1375)\u001b[0;36mevaluate_run\u001b[0;34m()\u001b[0m\n",
      "\u001b[0;32m   1374 \u001b[0;31m        \u001b[0;32mimport\u001b[0m \u001b[0mipdb\u001b[0m\u001b[0;34m;\u001b[0m \u001b[0mipdb\u001b[0m\u001b[0;34m.\u001b[0m\u001b[0mset_trace\u001b[0m\u001b[0;34m(\u001b[0m\u001b[0;34m)\u001b[0m \u001b[0;31m# fmt: skip\u001b[0m\u001b[0;34m\u001b[0m\u001b[0;34m\u001b[0m\u001b[0m\n",
      "\u001b[0m\u001b[0;32m-> 1375 \u001b[0;31m        return self.create_feedback(\n",
      "\u001b[0m\u001b[0;32m   1376 \u001b[0;31m            \u001b[0mrun_\u001b[0m\u001b[0;34m.\u001b[0m\u001b[0mid\u001b[0m\u001b[0;34m,\u001b[0m\u001b[0;34m\u001b[0m\u001b[0;34m\u001b[0m\u001b[0m\n",
      "\u001b[0m\n",
      "ipdb> q\n"
     ]
    },
    {
     "name": "stderr",
     "output_type": "stream",
     "text": [
      "Error evaluating run 20d970a1-77e5-481b-8ada-e89b5cc02e1d with StringRunEvaluatorChain: \n",
      "Traceback (most recent call last):\n",
      "  File \"/home/jjmachan/.pyenv/versions/3.10.12/envs/notes/lib/python3.10/site-packages/langchain/callbacks/tracers/evaluation.py\", line 109, in _evaluate_in_project\n",
      "    self.client.evaluate_run(run, evaluator)\n",
      "  File \"/home/jjmachan/.pyenv/versions/3.10.12/envs/notes/lib/python3.10/site-packages/langsmith/client.py\", line 1375, in evaluate_run\n",
      "    return self.create_feedback(\n",
      "  File \"/home/jjmachan/.pyenv/versions/3.10.12/envs/notes/lib/python3.10/site-packages/langsmith/client.py\", line 1375, in evaluate_run\n",
      "    return self.create_feedback(\n",
      "  File \"/home/jjmachan/.pyenv/versions/3.10.12/lib/python3.10/bdb.py\", line 90, in trace_dispatch\n",
      "    return self.dispatch_line(frame)\n",
      "  File \"/home/jjmachan/.pyenv/versions/3.10.12/lib/python3.10/bdb.py\", line 115, in dispatch_line\n",
      "    if self.quitting: raise BdbQuit\n",
      "bdb.BdbQuit\n"
     ]
    },
    {
     "data": {
      "text/plain": [
       "{'project_name': '2023-08-03-12-40-25-RetrievalQA',\n",
       " 'results': {'6ddbfe30-309c-401e-8a6b-e17f091cfa1b': [{'query': 'What is the significance of the Statue of Liberty in New York City?',\n",
       "    'result': 'The Statue of Liberty in New York City holds great significance. It served as a symbol of freedom and peace, welcoming millions of immigrants as they arrived in the U.S. in the late 19th and early 20th centuries. It represents the ideals of liberty and is recognized globally as a symbol of the United States. The Statue of Liberty is managed by the National Park Service and is a major landmark in New York City.'}],\n",
       "  '8d0bf6f3-096b-4092-b2e9-cacc0b5f21de': [{'query': 'How did New York City get its name?',\n",
       "    'result': 'New York City got its name in 1664 when it was renamed after the Duke of York, who later became King James II of England. The city was originally called New Amsterdam when it was founded by Dutch colonists in 1624, but it was renamed New York after the English took control of the area from the Dutch.'}],\n",
       "  'b3704607-ed11-4da5-bc01-3788e58e28c0': [{'query': 'What is the economic significance of New York City?',\n",
       "    'result': \"The economic significance of New York City is vast and diverse. It is the headquarters for the U.S. financial industry, with Wall Street being a major economic engine. The city is home to many large financial companies and a growing number of financial startups. Additionally, New York City is a global hub for business and commerce, attracting capital, businesses, and tourists from around the world. It is a center for industries such as banking and finance, healthcare and life sciences, retailing, world trade, transportation, tourism, media, advertising, fashion, and the arts. The city's ports, particularly the Port of New York and New Jersey, play a significant role in the economy. The fashion industry and the food processing sector, particularly chocolate production, are also important economic sectors in the city. Overall, New York City is often referred to as the capital of the world due to its economic prominence.\"}],\n",
       "  'b51abfb6-5a74-4225-b0fc-2bd5ce1270a4': [{'query': 'Which borough of New York City has the highest population?',\n",
       "    'result': 'The borough of Brooklyn has the highest population in New York City.'}],\n",
       "  'a0f330d3-5d5e-4da4-8637-0a57cd22b761': [{'query': 'What is the population of New York City as of 2020?',\n",
       "    'result': 'The population of New York City as of 2020 was 8,804,190.'}]}}"
      ]
     },
     "execution_count": 7,
     "metadata": {},
     "output_type": "execute_result"
    }
   ],
   "source": [
    "run_on_dataset(\n",
    "    client=client,\n",
    "    dataset_name=dataset_name,\n",
    "    llm_or_chain_factory=create_qa_chain,\n",
    "    evaluation=eval_config,\n",
    "    verbose=True,\n",
    "    input_mapper=lambda x: x\n",
    ")"
   ]
  },
  {
   "cell_type": "code",
   "execution_count": null,
   "id": "889db69f",
   "metadata": {},
   "outputs": [],
   "source": [
    "cli"
   ]
  }
 ],
 "metadata": {
  "kernelspec": {
   "display_name": "Python 3 (ipykernel)",
   "language": "python",
   "name": "python3"
  },
  "language_info": {
   "codemirror_mode": {
    "name": "ipython",
    "version": 3
   },
   "file_extension": ".py",
   "mimetype": "text/x-python",
   "name": "python",
   "nbconvert_exporter": "python",
   "pygments_lexer": "ipython3",
   "version": "3.10.12"
  }
 },
 "nbformat": 4,
 "nbformat_minor": 5
}