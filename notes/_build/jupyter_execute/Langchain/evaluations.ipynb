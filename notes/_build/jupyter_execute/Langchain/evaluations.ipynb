{
 "cells": [
  {
   "cell_type": "markdown",
   "id": "464bc95f",
   "metadata": {},
   "source": [
    "# Evaluations - Intro\n",
    "\n",
    "Langchain offers various types of evaluator to measure the performance of your apps. You can see the entire list with the following code section.\n",
    "\n",
    "1. String Evaluators: assess the predicted string for a given input, usually compared against a reference string. `StringEvaluator`\n",
    "2. Trajectory Evaluators: evalaute the entire trajectory of the agent actions. `AgentTrajectoryEvaluator`\n",
    "3. Comparison Evaluators: compare predictions from 2 runs on a common input. `PairwiseStringEvaluator`\n",
    "\n",
    "Based on these classes the following `EvaluatorTypes` are available`"
   ]
  },
  {
   "cell_type": "code",
   "execution_count": 1,
   "id": "35dbe050",
   "metadata": {},
   "outputs": [
    {
     "name": "stdout",
     "output_type": "stream",
     "text": [
      "1. EvaluatorType.QA - (qa)\n",
      "2. EvaluatorType.COT_QA - (cot_qa)\n",
      "3. EvaluatorType.CONTEXT_QA - (context_qa)\n",
      "4. EvaluatorType.PAIRWISE_STRING - (pairwise_string)\n",
      "5. EvaluatorType.LABELED_PAIRWISE_STRING - (labeled_pairwise_string)\n",
      "6. EvaluatorType.AGENT_TRAJECTORY - (trajectory)\n",
      "7. EvaluatorType.CRITERIA - (criteria)\n",
      "8. EvaluatorType.LABELED_CRITERIA - (labeled_criteria)\n",
      "9. EvaluatorType.STRING_DISTANCE - (string_distance)\n",
      "10. EvaluatorType.PAIRWISE_STRING_DISTANCE - (pairwise_string_distance)\n",
      "11. EvaluatorType.EMBEDDING_DISTANCE - (embedding_distance)\n",
      "12. EvaluatorType.PAIRWISE_EMBEDDING_DISTANCE - (pairwise_embedding_distance)\n"
     ]
    }
   ],
   "source": [
    "from langchain.evaluation import EvaluatorType\n",
    "\n",
    "for i, e in enumerate(EvaluatorType):\n",
    "    print(f\"{i+1}. EvaluatorType.{e.name} - ({e.value})\")"
   ]
  },
  {
   "cell_type": "code",
   "execution_count": 2,
   "id": "b630af6a",
   "metadata": {},
   "outputs": [
    {
     "name": "stdout",
     "output_type": "stream",
     "text": [
      "{'reasoning': 'The criterion is conciseness, which means the submission should be brief and to the point. \\n\\nLooking at the submission, the answer to the question \"What\\'s 2+2?\" is indeed \"four\". However, the respondent has added extra information, stating \"That\\'s an elementary question\" before providing the answer. \\n\\nThis additional statement does not contribute to answering the question and therefore makes the response less concise. \\n\\nSo, based on the criterion of conciseness, the submission does not meet the criterion.\\n\\nN', 'value': 'N', 'score': 0}\n"
     ]
    }
   ],
   "source": [
    "from langchain.evaluation import load_evaluator\n",
    "\n",
    "evaluator = load_evaluator(\"criteria\", criteria=\"conciseness\")\n",
    "\n",
    "eval_result = evaluator.evaluate_strings(\n",
    "    prediction=\"What's 2+2? That's an elementary question. The answer you're looking for is that two and two is four.\",\n",
    "    input=\"What's 2+2?\",\n",
    ")\n",
    "print(eval_result)"
   ]
  },
  {
   "cell_type": "code",
   "execution_count": 3,
   "id": "d79749e9",
   "metadata": {},
   "outputs": [],
   "source": [
    "# some might need references\n",
    "evaluator = load_evaluator(\"labeled_criteria\", criteria=\"correctness\")\n",
    "\n",
    "# We can even override the model's learned knowledge using ground truth labels\n",
    "eval_result = evaluator.evaluate_strings(\n",
    "    input=\"What is the capital of the US?\",\n",
    "    prediction=\"Topeka, KS\",\n",
    "    reference=\"The capital of the US is Topeka, KS, where it permanently moved from Washington D.C. on May 16, 2023\",\n",
    ")"
   ]
  },
  {
   "cell_type": "code",
   "execution_count": null,
   "id": "f93bcbac",
   "metadata": {},
   "outputs": [],
   "source": []
  }
 ],
 "metadata": {
  "kernelspec": {
   "display_name": "Python 3 (ipykernel)",
   "language": "python",
   "name": "python3"
  },
  "language_info": {
   "codemirror_mode": {
    "name": "ipython",
    "version": 3
   },
   "file_extension": ".py",
   "mimetype": "text/x-python",
   "name": "python",
   "nbconvert_exporter": "python",
   "pygments_lexer": "ipython3",
   "version": "3.10.12"
  }
 },
 "nbformat": 4,
 "nbformat_minor": 5
}