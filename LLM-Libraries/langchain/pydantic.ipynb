{
 "cells": [
  {
   "cell_type": "markdown",
   "id": "6677c98d",
   "metadata": {},
   "source": [
    "# Intro to Pydantic\n",
    "\n"
   ]
  },
  {
   "cell_type": "code",
   "execution_count": 23,
   "id": "9f8f418d",
   "metadata": {},
   "outputs": [
    {
     "data": {
      "text/plain": [
       "'1.10.11'"
      ]
     },
     "execution_count": 23,
     "metadata": {},
     "output_type": "execute_result"
    }
   ],
   "source": [
    "# check pydantic version\n",
    "from pydantic import __version__\n",
    "\n",
    "# this was written for <v2\n",
    "__version__"
   ]
  },
  {
   "cell_type": "code",
   "execution_count": 18,
   "id": "758c0e5d",
   "metadata": {},
   "outputs": [],
   "source": [
    "from pydantic import BaseModel\n",
    "from datetime import datetime\n",
    "\n",
    "class User(BaseModel):\n",
    "    id: int\n",
    "    name = 'Jithin James'\n",
    "    creation_time = datetime.now()"
   ]
  },
  {
   "cell_type": "code",
   "execution_count": 21,
   "id": "ba7e8bd5",
   "metadata": {},
   "outputs": [
    {
     "data": {
      "text/plain": [
       "User(id=123, name='Jithin James', creation_time=datetime.datetime(2023, 8, 18, 17, 30, 37, 425005))"
      ]
     },
     "execution_count": 21,
     "metadata": {},
     "output_type": "execute_result"
    }
   ],
   "source": [
    "user = User(id='123')\n",
    "user"
   ]
  },
  {
   "cell_type": "code",
   "execution_count": 20,
   "id": "037fc368",
   "metadata": {},
   "outputs": [
    {
     "ename": "ValidationError",
     "evalue": "1 validation error for User\nid\n  value is not a valid integer (type=type_error.integer)",
     "output_type": "error",
     "traceback": [
      "\u001b[0;31m---------------------------------------------------------------------------\u001b[0m",
      "\u001b[0;31mValidationError\u001b[0m                           Traceback (most recent call last)",
      "Cell \u001b[0;32mIn[20], line 1\u001b[0m\n\u001b[0;32m----> 1\u001b[0m \u001b[43mUser\u001b[49m\u001b[43m(\u001b[49m\u001b[38;5;28;43mid\u001b[39;49m\u001b[38;5;241;43m=\u001b[39;49m\u001b[38;5;124;43m'\u001b[39;49m\u001b[38;5;124;43m123.43\u001b[39;49m\u001b[38;5;124;43m'\u001b[39;49m\u001b[43m)\u001b[49m\n",
      "File \u001b[0;32m~/.pyenv/versions/3.10.12/envs/notes/lib/python3.10/site-packages/pydantic/main.py:341\u001b[0m, in \u001b[0;36mpydantic.main.BaseModel.__init__\u001b[0;34m()\u001b[0m\n",
      "\u001b[0;31mValidationError\u001b[0m: 1 validation error for User\nid\n  value is not a valid integer (type=type_error.integer)"
     ]
    }
   ],
   "source": [
    "User(id='123.43')"
   ]
  },
  {
   "cell_type": "code",
   "execution_count": 22,
   "id": "955f4f4e",
   "metadata": {},
   "outputs": [
    {
     "data": {
      "text/plain": [
       "'{\"id\": 123, \"name\": \"Jithin James\", \"creation_time\": \"2023-08-18T17:30:37.425005\"}'"
      ]
     },
     "execution_count": 22,
     "metadata": {},
     "output_type": "execute_result"
    }
   ],
   "source": [
    "user.json()"
   ]
  },
  {
   "cell_type": "markdown",
   "id": "dd639848",
   "metadata": {},
   "source": [
    "The generated model support these methods\n",
    "\n",
    "- `dict()`: Returns a dictionary of the model's fields and values.\n",
    "- `json()`: Returns a JSON string representation of the model's dictionary.\n",
    "- `copy()`: Returns a copy (by default, shallow copy) of the model.\n",
    "- `parse_obj()`: A utility for loading any object into a model with error handling if the object is not a dictionary.\n",
    "- `parse_raw()`: A utility for loading strings of numerous formats.\n",
    "- `parse_file()`: Similar to `parse_raw()`, but for file paths.\n",
    "- `from_orm()`: Loads data into a model from an arbitrary class.\n",
    "- `schema()`: Returns a dictionary representing the model as JSON Schema.\n",
    "- `schema_json()`: Returns a JSON string representation of the model's schema.\n",
    "- `construct()`: A class method for creating models without running validation.\n",
    "- `__fields_set__`: Set of names of fields which were set when the model instance was initialized.\n",
    "- `__fields__`: A dictionary of the model's fields.\n",
    "- `__config__`: The configuration class for the model."
   ]
  },
  {
   "cell_type": "code",
   "execution_count": null,
   "id": "5117bd31",
   "metadata": {},
   "outputs": [],
   "source": []
  }
 ],
 "metadata": {
  "kernelspec": {
   "display_name": "Python 3 (ipykernel)",
   "language": "python",
   "name": "python3"
  },
  "language_info": {
   "codemirror_mode": {
    "name": "ipython",
    "version": 3
   },
   "file_extension": ".py",
   "mimetype": "text/x-python",
   "name": "python",
   "nbconvert_exporter": "python",
   "pygments_lexer": "ipython3",
   "version": "3.10.12"
  }
 },
 "nbformat": 4,
 "nbformat_minor": 5
}
