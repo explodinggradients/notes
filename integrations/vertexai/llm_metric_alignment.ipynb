{
  "cells": [
    {
      "cell_type": "markdown",
      "metadata": {},
      "source": [
        "# Aligning LLM Evaluators with Human Judgment"
      ]
    },
    {
      "cell_type": "markdown",
      "metadata": {
        "id": "gCs51FuxtpgG"
      },
      "source": [
        "## Overview\n",
        "\n",
        "In this tutorial, you will learn how to train and align your own custom LLM-based metric using Ragas. While LLM-based evaluators offer a powerful means of scoring AI applications, they can sometimes produce judgments that diverge from human expectations due to differences in style, context, or subtle nuances. By following this guide, you will refine your metric so that it more accurately mirrors human judgment.\n",
        "\n",
        "In this tutorial, you will:\n",
        "\n",
        "1. Define a model-based metric using Ragas.\n",
        "2. Construct an EvaluationDataset from the \"helpful\" subset of the HHH dataset.\n",
        "3. Run an initial evaluation to benchmark the metric’s performance.\n",
        "4. Review and annotate 15–20 evaluation examples.\n",
        "5. Train the metric using your annotated data.\n",
        "6. Reevaluate the metric to observe improvements in alignment with human judgments."
      ]
    },
    {
      "cell_type": "markdown",
      "metadata": {
        "id": "VVG89m4Ltsre"
      },
      "source": [
        "## Getting Started\n",
        "\n",
        "### Install Dependencies"
      ]
    },
    {
      "cell_type": "code",
      "execution_count": 1,
      "metadata": {
        "id": "mN71934ctqGr"
      },
      "outputs": [],
      "source": [
        "%pip install --upgrade --user --quiet langchain-core langchain-google-vertexai langchain ragas"
      ]
    },
    {
      "cell_type": "markdown",
      "metadata": {
        "id": "HVqiHJNMtyaa"
      },
      "source": [
        "### Restart runtime\n",
        "\n",
        "To use the newly installed packages in this Jupyter runtime, you must restart the runtime. You can do this by running the cell below, which restarts the current kernel.\n",
        "\n",
        "The restart might take a minute or longer. After it's restarted, continue to the next step."
      ]
    },
    {
      "cell_type": "code",
      "execution_count": 2,
      "metadata": {
        "colab": {
          "base_uri": "https://localhost:8080/"
        },
        "id": "nO9XXQs1tvNg",
        "outputId": "62633fac-f957-4727-db1e-2fef4523fdf2"
      },
      "outputs": [
        {
          "data": {
            "text/plain": [
              "{'status': 'ok', 'restart': True}"
            ]
          },
          "execution_count": 2,
          "metadata": {},
          "output_type": "execute_result"
        }
      ],
      "source": [
        "import IPython\n",
        "\n",
        "app = IPython.Application.instance()\n",
        "app.kernel.do_shutdown(True)"
      ]
    },
    {
      "cell_type": "markdown",
      "metadata": {
        "id": "BloaVQfquFn2"
      },
      "source": [
        "### Authenticate your notebook environment (Colab only)\n",
        "\n",
        "If you're running this notebook on Google Colab, run the cell below to authenticate your environment."
      ]
    },
    {
      "cell_type": "code",
      "execution_count": 1,
      "metadata": {
        "id": "D3JMCXV0uDbH"
      },
      "outputs": [],
      "source": [
        "import sys\n",
        "\n",
        "if \"google.colab\" in sys.modules:\n",
        "    from google.colab import auth\n",
        "\n",
        "    auth.authenticate_user()"
      ]
    },
    {
      "cell_type": "markdown",
      "metadata": {
        "id": "CHZQIOr1uRMa"
      },
      "source": [
        "### Set Google Cloud project information and initialize Vertex AI SDK"
      ]
    },
    {
      "cell_type": "code",
      "execution_count": null,
      "metadata": {
        "id": "hahqG4qvuIS3"
      },
      "outputs": [],
      "source": [
        "PROJECT_ID = \"[your-project-id]\"  # @param {type:\"string\"}\n",
        "LOCATION = \"us-central1\"  # @param {type:\"string\"}\n",
        "\n",
        "if not PROJECT_ID or PROJECT_ID == \"[your-project-id]\":\n",
        "    raise ValueError(\"Please set your PROJECT_ID\")\n",
        "\n",
        "\n",
        "import vertexai\n",
        "\n",
        "vertexai.init(project=PROJECT_ID, location=LOCATION)"
      ]
    },
    {
      "cell_type": "markdown",
      "metadata": {
        "id": "8ncv1UiFucS2"
      },
      "source": [
        "## Set up eval metrics\n",
        "\n",
        "LLM-based metrics have tremendous potential but can sometimes misjudge responses compared to human evaluators. To bridge this gap, we align our model-based metric with human judgment using a feedback loop.\n",
        "\n",
        "### Define evaluator_llm\n",
        "\n",
        "Import the required wrappers and define your evaluator LLM and embedder."
      ]
    },
    {
      "cell_type": "code",
      "execution_count": 3,
      "metadata": {
        "id": "YVvfDoY-uaFP"
      },
      "outputs": [],
      "source": [
        "from ragas.llms import LangchainLLMWrapper\n",
        "from ragas.embeddings import LangchainEmbeddingsWrapper\n",
        "from langchain_google_vertexai import VertexAI, VertexAIEmbeddings\n",
        "\n",
        "\n",
        "evaluator_llm = LangchainLLMWrapper(VertexAI(model_name=\"gemini-2.0-flash-001\"))\n",
        "evaluator_embeddings = LangchainEmbeddingsWrapper(VertexAIEmbeddings(model_name=\"text-embedding-004\"))"
      ]
    },
    {
      "cell_type": "markdown",
      "metadata": {
        "id": "C2oLlb4duk06"
      },
      "source": [
        "### Ragas metrics\n",
        "\n",
        "Ragas offers various model-based metrics that can be fine-tuned to align with human evaluators. For demonstration, we will use the **Aspect Critic** metric—a user-defined, binary metric. For further details, please refer to the [Aspect Critic documentation](https://docs.ragas.io/en/stable/concepts/metrics/available_metrics/general_purpose/#aspect-critic)."
      ]
    },
    {
      "cell_type": "code",
      "execution_count": 4,
      "metadata": {
        "id": "upiGNs0vuiMG"
      },
      "outputs": [],
      "source": [
        "from ragas.metrics import AspectCritic\n",
        "\n",
        "helpfulness_critic = AspectCritic(\n",
        "    name=\"helpfulness\",\n",
        "    definition=\"Evaluate how helpful the assistant's response is to the user's query.\",\n",
        "    llm=evaluator_llm\n",
        ")"
      ]
    },
    {
      "cell_type": "markdown",
      "metadata": {
        "id": "e6CPiD-Buq-J"
      },
      "source": [
        "You can preview the prompt that will be passed to the LLM (before alignment) by running:"
      ]
    },
    {
      "cell_type": "code",
      "execution_count": 5,
      "metadata": {
        "colab": {
          "base_uri": "https://localhost:8080/"
        },
        "id": "AUsVtXE_uovA",
        "outputId": "87b9bf0a-7172-42a9-bd83-30a4406e5b3b"
      },
      "outputs": [
        {
          "name": "stdout",
          "output_type": "stream",
          "text": [
            "Evaluate the Input based on the criterial defined. Use only 'Yes' (1) and 'No' (0) as verdict.\n",
            "Criteria Definition: Evaluate how helpful the assistant's response is to the user's query.\n"
          ]
        }
      ],
      "source": [
        "print(helpfulness_critic.get_prompts()[\"single_turn_aspect_critic_prompt\"].instruction)"
      ]
    },
    {
      "cell_type": "markdown",
      "metadata": {
        "id": "frYpmpH-uxXe"
      },
      "source": [
        "### Defining Alignment Score\n",
        "\n",
        "Since we are using a binary metric, we will measure the alignment using the F1-score. However, depending on the metric you are aligning, you can modify this function accordingly to use other methods to measure the alignment."
      ]
    },
    {
      "cell_type": "code",
      "execution_count": 6,
      "metadata": {
        "id": "XkrsZ-ztuvFv"
      },
      "outputs": [],
      "source": [
        "from typing import List\n",
        "from sklearn.metrics import f1_score\n",
        "\n",
        "def alignment_score(human_score: List[float], llm_score: List[float]) -> float:\n",
        "    \"\"\"\n",
        "    Computes the alignment between human-annotated binary scores and LLM-generated binary scores\n",
        "    using the F1-score metric.\n",
        "\n",
        "    Args:\n",
        "        human_score (List[int]): Binary labels from human evaluation (0 or 1).\n",
        "        llm_score (List[int]): Binary labels from LLM predictions (0 or 1).\n",
        "\n",
        "    Returns:\n",
        "        float: The F1-score measuring alignment.\n",
        "    \"\"\"\n",
        "    return f1_score(human_score, llm_score)"
      ]
    },
    {
      "cell_type": "markdown",
      "metadata": {
        "id": "S6pnwKmSu2hu"
      },
      "source": [
        "## Prepare your dataset\n",
        "\n",
        "The `process_hhh_dataset` function prepares data from the  [HHH dataset](https://paperswithcode.com/dataset/hhh?utm_source=chatgpt.com) for use in training and aligning of the LLM evaluator. Alternate  0 and 1 scores (1 for helpful, 0 for non-helpful) are assigned to each example, indicating which response is preferred."
      ]
    },
    {
      "cell_type": "code",
      "execution_count": 7,
      "metadata": {
        "id": "pVE9YBc1u0ZF"
      },
      "outputs": [],
      "source": [
        "import numpy as np\n",
        "from datasets import load_dataset\n",
        "from ragas import EvaluationDataset\n",
        "\n",
        "\n",
        "def process_hhh_dataset(split: str = \"helpful\", total_count: int = 50):\n",
        "\tdataset = load_dataset(\"HuggingFaceH4/hhh_alignment\",split, split=f\"test[:{total_count}]\")\n",
        "\tdata = []\n",
        "\texpert_scores = []\n",
        "\n",
        "\tfor idx, entry in enumerate(dataset):\n",
        "\t\t# Extract input and target details\n",
        "\t\tuser_input = entry['input']\n",
        "\t\tchoices = entry['targets']['choices']\n",
        "\t\tlabels = entry['targets']['labels']\n",
        "\n",
        "\t\t# Choose target based on whether the index is even or odd\n",
        "\t\tif idx % 2 == 0:\n",
        "\t\t\ttarget_label = 1\n",
        "\t\t\tscore = 1\n",
        "\t\telse:\n",
        "\t\t\ttarget_label = 0\n",
        "\t\t\tscore = 0\n",
        "\n",
        "\t\t# Find the index corresponding to the target label in the labels list\n",
        "\t\ttry:\n",
        "\t\t\tlabel_index = labels.index(target_label)\n",
        "\t\texcept ValueError:\n",
        "\t\t\traise ValueError(f\"Target label {target_label} not found in labels for entry at index {idx}.\")\n",
        "\n",
        "\t\t# Retrieve the response using the determined label index\n",
        "\t\tresponse = choices[label_index]\n",
        "\n",
        "\t\t# Append the processed record and the expert score\n",
        "\t\tdata.append({\n",
        "\t\t\t'user_input': user_input,\n",
        "\t\t\t'response': response,\n",
        "\t\t})\n",
        "\t\texpert_scores.append(score)\n",
        "\n",
        "\treturn EvaluationDataset.from_list(data), expert_scores\n",
        "\n",
        "eval_dataset, expert_scores = process_hhh_dataset()"
      ]
    },
    {
      "cell_type": "markdown",
      "metadata": {
        "id": "ICDOp0HuvCzo"
      },
      "source": [
        "## Run evaluation\n",
        "\n",
        "With the evaluation dataset and the helpfulness metric defined, you can now run the evaluation:"
      ]
    },
    {
      "cell_type": "code",
      "execution_count": 8,
      "metadata": {
        "colab": {
          "base_uri": "https://localhost:8080/",
          "height": 153,
          "referenced_widgets": [
            "bee9a2ea3d3143f8959a32296e3333d1",
            "ed9077c4f8444269a3d41127fa9b5e3a",
            "654a950ac51d4e70814ea2eef1d42a8c",
            "2624fbc9a99d4d7893c8615afeccf44d",
            "b73378d2fd9b4375bf7711742849bd42",
            "1f2371450a57449db8f0a7b5c635bb70",
            "fc5cdddd0e6844448c5a6b00da11ac39",
            "a77b9f7595ee4ef18927360ab66f2065",
            "5a37b536acfd4f5eaf4e7ee26c18edbe",
            "68647e38a7774f419b3c1043bd612b2a",
            "2b9aa8635eb24e75b87a7c48648d155f"
          ]
        },
        "id": "8UYjXDn4u-z-",
        "outputId": "40ce93e5-7940-4817-e76d-0af93f5fb92d"
      },
      "outputs": [
        {
          "data": {
            "application/vnd.jupyter.widget-view+json": {
              "model_id": "bee9a2ea3d3143f8959a32296e3333d1",
              "version_major": 2,
              "version_minor": 0
            },
            "text/plain": [
              "Evaluating:   0%|          | 0/50 [00:00<?, ?it/s]"
            ]
          },
          "metadata": {},
          "output_type": "display_data"
        },
        {
          "name": "stderr",
          "output_type": "stream",
          "text": [
            "WARNING:urllib3.connectionpool:Connection pool is full, discarding connection: metadata.google.internal. Connection pool size: 10\n",
            "WARNING:urllib3.connectionpool:Connection pool is full, discarding connection: metadata.google.internal. Connection pool size: 10\n",
            "WARNING:urllib3.connectionpool:Connection pool is full, discarding connection: metadata.google.internal. Connection pool size: 10\n",
            "WARNING:urllib3.connectionpool:Connection pool is full, discarding connection: metadata.google.internal. Connection pool size: 10\n",
            "WARNING:urllib3.connectionpool:Connection pool is full, discarding connection: metadata.google.internal. Connection pool size: 10\n",
            "WARNING:urllib3.connectionpool:Connection pool is full, discarding connection: metadata.google.internal. Connection pool size: 10\n"
          ]
        }
      ],
      "source": [
        "from ragas import evaluate\n",
        "\n",
        "results = evaluate(eval_dataset, metrics=[helpfulness_critic])"
      ]
    },
    {
      "cell_type": "code",
      "execution_count": 9,
      "metadata": {
        "colab": {
          "base_uri": "https://localhost:8080/"
        },
        "id": "ehn8aJUpvI4c",
        "outputId": "bfc29268-f340-4334-c19a-dbc62be348bd"
      },
      "outputs": [
        {
          "data": {
            "text/plain": [
              "{'helpfulness': 0.5400}"
            ]
          },
          "execution_count": 9,
          "metadata": {},
          "output_type": "execute_result"
        }
      ],
      "source": [
        "results"
      ]
    },
    {
      "cell_type": "markdown",
      "metadata": {
        "id": "1GVOCMQIvlBs"
      },
      "source": [
        "This initial run highlights the level of misalignment present in LLM-based evaluators, which the subsequent training will address.\n",
        "\n",
        "Next, benchmark the metric's performance against the expert scores:"
      ]
    },
    {
      "cell_type": "code",
      "execution_count": 10,
      "metadata": {
        "colab": {
          "base_uri": "https://localhost:8080/"
        },
        "id": "MJF4eWdFvaSG",
        "outputId": "638dabd5-f297-44cb-8183-aaeda6eebdf7"
      },
      "outputs": [
        {
          "data": {
            "text/plain": [
              "0.8076923076923077"
            ]
          },
          "execution_count": 10,
          "metadata": {},
          "output_type": "execute_result"
        }
      ],
      "source": [
        "human_score = expert_scores\n",
        "llm_score = results.to_pandas()[\"helpfulness\"].values\n",
        "\n",
        "initial_score = alignment_score(human_score, llm_score)\n",
        "initial_score"
      ]
    },
    {
      "cell_type": "markdown",
      "metadata": {
        "id": "z616FIQkwN4K"
      },
      "source": [
        "## Review and Annotate\n",
        "\n",
        "Now that you have obtained the evaluation results, it’s time to review and annotate them. As discussed in blog [Aligning LLM as judge with human evaluators](https://blog.ragas.io/aligning-llm-as-judge-with-human-evaluators), collecting detailed feedback is essential for bridging the gap between LLM-based and human evaluations. Annotate at least 15–20 examples to capture diverse scenarios where the metric might be misaligned.\n",
        "\n",
        "Here is a sample annotation for the above example. You can [download]() and use it."
      ]
    },
    {
      "cell_type": "markdown",
      "metadata": {
        "id": "qfNUN9riAdr9"
      },
      "source": [
        "## Training and Alignment\n",
        "\n",
        "The next step is to train your metric using the annotated examples. This training process leverages a gradient-free prompt optimization approach that adjusts both instructions and few-shot demonstrations based on the annotated feedback."
      ]
    },
    {
      "cell_type": "code",
      "execution_count": 11,
      "metadata": {
        "colab": {
          "base_uri": "https://localhost:8080/",
          "height": 66,
          "referenced_widgets": [
            "6dfa5e9b0aa646af872b7c4e740d4a86",
            "73c7c7437e314b6eaaf7e22eb37c2708",
            "27ec8c08bc49425f9fb61f02a3288e5a",
            "cb57c8a4f41d4164a534a870e4fc1fd6",
            "04a143e1d3b34fc3a6978e98111bf575",
            "bda6ae3d01cf4804b9f214bdc02e8ec1",
            "4a7d771d7c6d44f488ec74a96b95b55c",
            "3cdbdf8e06684ebb862761e74381270b",
            "4c5ced0c5e404caa93ce6d41de96ac20",
            "a71db721aecb478b82013014c04a357d",
            "28b3aef84bf04dfe8f2135c88f836109"
          ]
        },
        "id": "_AmSt82HvnoH",
        "outputId": "62cd5cab-3853-4060-8c05-2d95e97ab38b"
      },
      "outputs": [
        {
          "data": {
            "application/vnd.jupyter.widget-view+json": {
              "model_id": "6dfa5e9b0aa646af872b7c4e740d4a86",
              "version_major": 2,
              "version_minor": 0
            },
            "text/plain": [
              "Overall Progress:   0%|          | 0/170 [00:00<?, ?it/s]"
            ]
          },
          "metadata": {},
          "output_type": "display_data"
        },
        {
          "name": "stderr",
          "output_type": "stream",
          "text": [
            "Few-shot examples [single_turn_aspect_critic_prompt]: 100%|██████████| 16/16 [00:03<00:00,  5.26it/s]\n"
          ]
        }
      ],
      "source": [
        "from ragas.config import InstructionConfig, DemonstrationConfig\n",
        "\n",
        "demo_config = DemonstrationConfig(embedding=evaluator_embeddings)\n",
        "inst_config = InstructionConfig(llm=evaluator_llm)\n",
        "\n",
        "helpfulness_critic.train(\n",
        "    path=\"annotated_data.json\",\n",
        "    instruction_config=inst_config,\n",
        "    demonstration_config=demo_config,\n",
        ")"
      ]
    },
    {
      "cell_type": "markdown",
      "metadata": {
        "id": "BSpeVmqOAF-T"
      },
      "source": [
        "After training, review the updated instructions that have been optimized for the metric:"
      ]
    },
    {
      "cell_type": "code",
      "execution_count": 12,
      "metadata": {
        "colab": {
          "base_uri": "https://localhost:8080/"
        },
        "id": "fjcmWt0P_1m-",
        "outputId": "67a784b4-ba66-492e-8749-783d0542b8b1"
      },
      "outputs": [
        {
          "name": "stdout",
          "output_type": "stream",
          "text": [
            "You are provided with a user input and an assistant/model response. Your task is to evaluate the quality of the response based on how well it addresses the user input, considering all requests and constraints. Assign a score/verdict of 1 if the response is helpful, appropriate, and effective, and 0 if it is not. A good response should be accurate, complete, relevant, and provide a tangible improvement or solution, without omitting key information. Provide a brief explanation for your score/verdict.\n"
          ]
        }
      ],
      "source": [
        "print(helpfulness_critic.get_prompts()[\"single_turn_aspect_critic_prompt\"].instruction)"
      ]
    },
    {
      "cell_type": "markdown",
      "metadata": {
        "id": "kqDRIou2AKdz"
      },
      "source": [
        "## Re-evaluate\n",
        "\n",
        "Now that your metric has been aligned with human feedback, re-run the evaluation on your dataset. This step allows you to benchmark the improvements and quantify how well the alignment process has enhanced the metric’s reliability."
      ]
    },
    {
      "cell_type": "code",
      "execution_count": 13,
      "metadata": {
        "id": "kFkErzK6-ySz"
      },
      "outputs": [],
      "source": [
        "from ragas.llms import LangchainLLMWrapper\n",
        "from ragas.embeddings import LangchainEmbeddingsWrapper\n",
        "from langchain_google_vertexai import VertexAI, VertexAIEmbeddings\n",
        "\n",
        "\n",
        "evaluator_llm = LangchainLLMWrapper(VertexAI(model_name=\"gemini-pro\"))\n",
        "evaluator_embeddings = LangchainEmbeddingsWrapper(VertexAIEmbeddings(model_name=\"text-embedding-004\"))"
      ]
    },
    {
      "cell_type": "code",
      "execution_count": 14,
      "metadata": {
        "colab": {
          "base_uri": "https://localhost:8080/",
          "height": 49,
          "referenced_widgets": [
            "58c81e6fa978408693d4bc41660ec710",
            "3c6386c91bff4513a7687455ca8d8b21",
            "5f09a5b3f0de412089dae3e52d10bb74",
            "e59885a6e63049f9b2ce4997cb6f83e0",
            "681eb758e7844a24849ba1d528d429d0",
            "c681d268d81348afb5c6e30326b263cb",
            "dd1cbf1f0c8347a2bbe1768a55630469",
            "0c12d494acff48599618e64199ae53ea",
            "7eeb5ccd8c5041ddacc9e4c656c3e2fd",
            "84cf5c893c6741efbd6ea3a70983ad57",
            "342e0adc2e3f4d6898f667145074036c"
          ]
        },
        "id": "7KYBz5_EANAN",
        "outputId": "9a6dbec3-1d8b-4cce-d691-a751dade15cb"
      },
      "outputs": [
        {
          "data": {
            "application/vnd.jupyter.widget-view+json": {
              "model_id": "58c81e6fa978408693d4bc41660ec710",
              "version_major": 2,
              "version_minor": 0
            },
            "text/plain": [
              "Evaluating:   0%|          | 0/50 [00:00<?, ?it/s]"
            ]
          },
          "metadata": {},
          "output_type": "display_data"
        }
      ],
      "source": [
        "from ragas import evaluate\n",
        "\n",
        "results2 = evaluate(eval_dataset, metrics=[helpfulness_critic])"
      ]
    },
    {
      "cell_type": "markdown",
      "metadata": {
        "id": "15qWQiasATyD"
      },
      "source": [
        "Benchmark the updated results against the expert scores:"
      ]
    },
    {
      "cell_type": "code",
      "execution_count": 15,
      "metadata": {
        "colab": {
          "base_uri": "https://localhost:8080/"
        },
        "id": "S6e3iFg9APsa",
        "outputId": "d2482d72-2bbd-494a-a678-0a79e696a54d"
      },
      "outputs": [
        {
          "data": {
            "text/plain": [
              "0.8444444444444444"
            ]
          },
          "execution_count": 15,
          "metadata": {},
          "output_type": "execute_result"
        }
      ],
      "source": [
        "human_score = expert_scores\n",
        "llm_score = results2.to_pandas()[\"helpfulness\"].values\n",
        "\n",
        "new_score = alignment_score(human_score, llm_score)\n",
        "new_score"
      ]
    }
  ],
  "metadata": {
    "colab": {
      "provenance": []
    },
    "kernelspec": {
      "display_name": "Python 3",
      "name": "python3"
    },
    "language_info": {
      "name": "python"
    },
    "widgets": {
      "application/vnd.jupyter.widget-state+json": {
        "04a143e1d3b34fc3a6978e98111bf575": {
          "model_module": "@jupyter-widgets/base",
          "model_module_version": "1.2.0",
          "model_name": "LayoutModel",
          "state": {
            "_model_module": "@jupyter-widgets/base",
            "_model_module_version": "1.2.0",
            "_model_name": "LayoutModel",
            "_view_count": null,
            "_view_module": "@jupyter-widgets/base",
            "_view_module_version": "1.2.0",
            "_view_name": "LayoutView",
            "align_content": null,
            "align_items": null,
            "align_self": null,
            "border": null,
            "bottom": null,
            "display": "inline-flex",
            "flex": null,
            "flex_flow": "row wrap",
            "grid_area": null,
            "grid_auto_columns": null,
            "grid_auto_flow": null,
            "grid_auto_rows": null,
            "grid_column": null,
            "grid_gap": null,
            "grid_row": null,
            "grid_template_areas": null,
            "grid_template_columns": null,
            "grid_template_rows": null,
            "height": null,
            "justify_content": null,
            "justify_items": null,
            "left": null,
            "margin": null,
            "max_height": null,
            "max_width": null,
            "min_height": null,
            "min_width": null,
            "object_fit": null,
            "object_position": null,
            "order": null,
            "overflow": null,
            "overflow_x": null,
            "overflow_y": null,
            "padding": null,
            "right": null,
            "top": null,
            "visibility": null,
            "width": "100%"
          }
        },
        "0c12d494acff48599618e64199ae53ea": {
          "model_module": "@jupyter-widgets/base",
          "model_module_version": "1.2.0",
          "model_name": "LayoutModel",
          "state": {
            "_model_module": "@jupyter-widgets/base",
            "_model_module_version": "1.2.0",
            "_model_name": "LayoutModel",
            "_view_count": null,
            "_view_module": "@jupyter-widgets/base",
            "_view_module_version": "1.2.0",
            "_view_name": "LayoutView",
            "align_content": null,
            "align_items": null,
            "align_self": null,
            "border": null,
            "bottom": null,
            "display": null,
            "flex": null,
            "flex_flow": null,
            "grid_area": null,
            "grid_auto_columns": null,
            "grid_auto_flow": null,
            "grid_auto_rows": null,
            "grid_column": null,
            "grid_gap": null,
            "grid_row": null,
            "grid_template_areas": null,
            "grid_template_columns": null,
            "grid_template_rows": null,
            "height": null,
            "justify_content": null,
            "justify_items": null,
            "left": null,
            "margin": null,
            "max_height": null,
            "max_width": null,
            "min_height": null,
            "min_width": null,
            "object_fit": null,
            "object_position": null,
            "order": null,
            "overflow": null,
            "overflow_x": null,
            "overflow_y": null,
            "padding": null,
            "right": null,
            "top": null,
            "visibility": null,
            "width": null
          }
        },
        "1f2371450a57449db8f0a7b5c635bb70": {
          "model_module": "@jupyter-widgets/base",
          "model_module_version": "1.2.0",
          "model_name": "LayoutModel",
          "state": {
            "_model_module": "@jupyter-widgets/base",
            "_model_module_version": "1.2.0",
            "_model_name": "LayoutModel",
            "_view_count": null,
            "_view_module": "@jupyter-widgets/base",
            "_view_module_version": "1.2.0",
            "_view_name": "LayoutView",
            "align_content": null,
            "align_items": null,
            "align_self": null,
            "border": null,
            "bottom": null,
            "display": null,
            "flex": null,
            "flex_flow": null,
            "grid_area": null,
            "grid_auto_columns": null,
            "grid_auto_flow": null,
            "grid_auto_rows": null,
            "grid_column": null,
            "grid_gap": null,
            "grid_row": null,
            "grid_template_areas": null,
            "grid_template_columns": null,
            "grid_template_rows": null,
            "height": null,
            "justify_content": null,
            "justify_items": null,
            "left": null,
            "margin": null,
            "max_height": null,
            "max_width": null,
            "min_height": null,
            "min_width": null,
            "object_fit": null,
            "object_position": null,
            "order": null,
            "overflow": null,
            "overflow_x": null,
            "overflow_y": null,
            "padding": null,
            "right": null,
            "top": null,
            "visibility": null,
            "width": null
          }
        },
        "2624fbc9a99d4d7893c8615afeccf44d": {
          "model_module": "@jupyter-widgets/controls",
          "model_module_version": "1.5.0",
          "model_name": "HTMLModel",
          "state": {
            "_dom_classes": [],
            "_model_module": "@jupyter-widgets/controls",
            "_model_module_version": "1.5.0",
            "_model_name": "HTMLModel",
            "_view_count": null,
            "_view_module": "@jupyter-widgets/controls",
            "_view_module_version": "1.5.0",
            "_view_name": "HTMLView",
            "description": "",
            "description_tooltip": null,
            "layout": "IPY_MODEL_68647e38a7774f419b3c1043bd612b2a",
            "placeholder": "​",
            "style": "IPY_MODEL_2b9aa8635eb24e75b87a7c48648d155f",
            "value": " 50/50 [00:03&lt;00:00, 18.96it/s]"
          }
        },
        "27ec8c08bc49425f9fb61f02a3288e5a": {
          "model_module": "@jupyter-widgets/controls",
          "model_module_version": "1.5.0",
          "model_name": "FloatProgressModel",
          "state": {
            "_dom_classes": [],
            "_model_module": "@jupyter-widgets/controls",
            "_model_module_version": "1.5.0",
            "_model_name": "FloatProgressModel",
            "_view_count": null,
            "_view_module": "@jupyter-widgets/controls",
            "_view_module_version": "1.5.0",
            "_view_name": "ProgressView",
            "bar_style": "success",
            "description": "",
            "description_tooltip": null,
            "layout": "IPY_MODEL_3cdbdf8e06684ebb862761e74381270b",
            "max": 170,
            "min": 0,
            "orientation": "horizontal",
            "style": "IPY_MODEL_4c5ced0c5e404caa93ce6d41de96ac20",
            "value": 170
          }
        },
        "28b3aef84bf04dfe8f2135c88f836109": {
          "model_module": "@jupyter-widgets/controls",
          "model_module_version": "1.5.0",
          "model_name": "DescriptionStyleModel",
          "state": {
            "_model_module": "@jupyter-widgets/controls",
            "_model_module_version": "1.5.0",
            "_model_name": "DescriptionStyleModel",
            "_view_count": null,
            "_view_module": "@jupyter-widgets/base",
            "_view_module_version": "1.2.0",
            "_view_name": "StyleView",
            "description_width": ""
          }
        },
        "2b9aa8635eb24e75b87a7c48648d155f": {
          "model_module": "@jupyter-widgets/controls",
          "model_module_version": "1.5.0",
          "model_name": "DescriptionStyleModel",
          "state": {
            "_model_module": "@jupyter-widgets/controls",
            "_model_module_version": "1.5.0",
            "_model_name": "DescriptionStyleModel",
            "_view_count": null,
            "_view_module": "@jupyter-widgets/base",
            "_view_module_version": "1.2.0",
            "_view_name": "StyleView",
            "description_width": ""
          }
        },
        "342e0adc2e3f4d6898f667145074036c": {
          "model_module": "@jupyter-widgets/controls",
          "model_module_version": "1.5.0",
          "model_name": "DescriptionStyleModel",
          "state": {
            "_model_module": "@jupyter-widgets/controls",
            "_model_module_version": "1.5.0",
            "_model_name": "DescriptionStyleModel",
            "_view_count": null,
            "_view_module": "@jupyter-widgets/base",
            "_view_module_version": "1.2.0",
            "_view_name": "StyleView",
            "description_width": ""
          }
        },
        "3c6386c91bff4513a7687455ca8d8b21": {
          "model_module": "@jupyter-widgets/controls",
          "model_module_version": "1.5.0",
          "model_name": "HTMLModel",
          "state": {
            "_dom_classes": [],
            "_model_module": "@jupyter-widgets/controls",
            "_model_module_version": "1.5.0",
            "_model_name": "HTMLModel",
            "_view_count": null,
            "_view_module": "@jupyter-widgets/controls",
            "_view_module_version": "1.5.0",
            "_view_name": "HTMLView",
            "description": "",
            "description_tooltip": null,
            "layout": "IPY_MODEL_c681d268d81348afb5c6e30326b263cb",
            "placeholder": "​",
            "style": "IPY_MODEL_dd1cbf1f0c8347a2bbe1768a55630469",
            "value": "Evaluating: 100%"
          }
        },
        "3cdbdf8e06684ebb862761e74381270b": {
          "model_module": "@jupyter-widgets/base",
          "model_module_version": "1.2.0",
          "model_name": "LayoutModel",
          "state": {
            "_model_module": "@jupyter-widgets/base",
            "_model_module_version": "1.2.0",
            "_model_name": "LayoutModel",
            "_view_count": null,
            "_view_module": "@jupyter-widgets/base",
            "_view_module_version": "1.2.0",
            "_view_name": "LayoutView",
            "align_content": null,
            "align_items": null,
            "align_self": null,
            "border": null,
            "bottom": null,
            "display": null,
            "flex": "2",
            "flex_flow": null,
            "grid_area": null,
            "grid_auto_columns": null,
            "grid_auto_flow": null,
            "grid_auto_rows": null,
            "grid_column": null,
            "grid_gap": null,
            "grid_row": null,
            "grid_template_areas": null,
            "grid_template_columns": null,
            "grid_template_rows": null,
            "height": null,
            "justify_content": null,
            "justify_items": null,
            "left": null,
            "margin": null,
            "max_height": null,
            "max_width": null,
            "min_height": null,
            "min_width": null,
            "object_fit": null,
            "object_position": null,
            "order": null,
            "overflow": null,
            "overflow_x": null,
            "overflow_y": null,
            "padding": null,
            "right": null,
            "top": null,
            "visibility": null,
            "width": null
          }
        },
        "4a7d771d7c6d44f488ec74a96b95b55c": {
          "model_module": "@jupyter-widgets/controls",
          "model_module_version": "1.5.0",
          "model_name": "DescriptionStyleModel",
          "state": {
            "_model_module": "@jupyter-widgets/controls",
            "_model_module_version": "1.5.0",
            "_model_name": "DescriptionStyleModel",
            "_view_count": null,
            "_view_module": "@jupyter-widgets/base",
            "_view_module_version": "1.2.0",
            "_view_name": "StyleView",
            "description_width": ""
          }
        },
        "4c5ced0c5e404caa93ce6d41de96ac20": {
          "model_module": "@jupyter-widgets/controls",
          "model_module_version": "1.5.0",
          "model_name": "ProgressStyleModel",
          "state": {
            "_model_module": "@jupyter-widgets/controls",
            "_model_module_version": "1.5.0",
            "_model_name": "ProgressStyleModel",
            "_view_count": null,
            "_view_module": "@jupyter-widgets/base",
            "_view_module_version": "1.2.0",
            "_view_name": "StyleView",
            "bar_color": null,
            "description_width": ""
          }
        },
        "58c81e6fa978408693d4bc41660ec710": {
          "model_module": "@jupyter-widgets/controls",
          "model_module_version": "1.5.0",
          "model_name": "HBoxModel",
          "state": {
            "_dom_classes": [],
            "_model_module": "@jupyter-widgets/controls",
            "_model_module_version": "1.5.0",
            "_model_name": "HBoxModel",
            "_view_count": null,
            "_view_module": "@jupyter-widgets/controls",
            "_view_module_version": "1.5.0",
            "_view_name": "HBoxView",
            "box_style": "",
            "children": [
              "IPY_MODEL_3c6386c91bff4513a7687455ca8d8b21",
              "IPY_MODEL_5f09a5b3f0de412089dae3e52d10bb74",
              "IPY_MODEL_e59885a6e63049f9b2ce4997cb6f83e0"
            ],
            "layout": "IPY_MODEL_681eb758e7844a24849ba1d528d429d0"
          }
        },
        "5a37b536acfd4f5eaf4e7ee26c18edbe": {
          "model_module": "@jupyter-widgets/controls",
          "model_module_version": "1.5.0",
          "model_name": "ProgressStyleModel",
          "state": {
            "_model_module": "@jupyter-widgets/controls",
            "_model_module_version": "1.5.0",
            "_model_name": "ProgressStyleModel",
            "_view_count": null,
            "_view_module": "@jupyter-widgets/base",
            "_view_module_version": "1.2.0",
            "_view_name": "StyleView",
            "bar_color": null,
            "description_width": ""
          }
        },
        "5f09a5b3f0de412089dae3e52d10bb74": {
          "model_module": "@jupyter-widgets/controls",
          "model_module_version": "1.5.0",
          "model_name": "FloatProgressModel",
          "state": {
            "_dom_classes": [],
            "_model_module": "@jupyter-widgets/controls",
            "_model_module_version": "1.5.0",
            "_model_name": "FloatProgressModel",
            "_view_count": null,
            "_view_module": "@jupyter-widgets/controls",
            "_view_module_version": "1.5.0",
            "_view_name": "ProgressView",
            "bar_style": "success",
            "description": "",
            "description_tooltip": null,
            "layout": "IPY_MODEL_0c12d494acff48599618e64199ae53ea",
            "max": 50,
            "min": 0,
            "orientation": "horizontal",
            "style": "IPY_MODEL_7eeb5ccd8c5041ddacc9e4c656c3e2fd",
            "value": 50
          }
        },
        "654a950ac51d4e70814ea2eef1d42a8c": {
          "model_module": "@jupyter-widgets/controls",
          "model_module_version": "1.5.0",
          "model_name": "FloatProgressModel",
          "state": {
            "_dom_classes": [],
            "_model_module": "@jupyter-widgets/controls",
            "_model_module_version": "1.5.0",
            "_model_name": "FloatProgressModel",
            "_view_count": null,
            "_view_module": "@jupyter-widgets/controls",
            "_view_module_version": "1.5.0",
            "_view_name": "ProgressView",
            "bar_style": "success",
            "description": "",
            "description_tooltip": null,
            "layout": "IPY_MODEL_a77b9f7595ee4ef18927360ab66f2065",
            "max": 50,
            "min": 0,
            "orientation": "horizontal",
            "style": "IPY_MODEL_5a37b536acfd4f5eaf4e7ee26c18edbe",
            "value": 50
          }
        },
        "681eb758e7844a24849ba1d528d429d0": {
          "model_module": "@jupyter-widgets/base",
          "model_module_version": "1.2.0",
          "model_name": "LayoutModel",
          "state": {
            "_model_module": "@jupyter-widgets/base",
            "_model_module_version": "1.2.0",
            "_model_name": "LayoutModel",
            "_view_count": null,
            "_view_module": "@jupyter-widgets/base",
            "_view_module_version": "1.2.0",
            "_view_name": "LayoutView",
            "align_content": null,
            "align_items": null,
            "align_self": null,
            "border": null,
            "bottom": null,
            "display": null,
            "flex": null,
            "flex_flow": null,
            "grid_area": null,
            "grid_auto_columns": null,
            "grid_auto_flow": null,
            "grid_auto_rows": null,
            "grid_column": null,
            "grid_gap": null,
            "grid_row": null,
            "grid_template_areas": null,
            "grid_template_columns": null,
            "grid_template_rows": null,
            "height": null,
            "justify_content": null,
            "justify_items": null,
            "left": null,
            "margin": null,
            "max_height": null,
            "max_width": null,
            "min_height": null,
            "min_width": null,
            "object_fit": null,
            "object_position": null,
            "order": null,
            "overflow": null,
            "overflow_x": null,
            "overflow_y": null,
            "padding": null,
            "right": null,
            "top": null,
            "visibility": null,
            "width": null
          }
        },
        "68647e38a7774f419b3c1043bd612b2a": {
          "model_module": "@jupyter-widgets/base",
          "model_module_version": "1.2.0",
          "model_name": "LayoutModel",
          "state": {
            "_model_module": "@jupyter-widgets/base",
            "_model_module_version": "1.2.0",
            "_model_name": "LayoutModel",
            "_view_count": null,
            "_view_module": "@jupyter-widgets/base",
            "_view_module_version": "1.2.0",
            "_view_name": "LayoutView",
            "align_content": null,
            "align_items": null,
            "align_self": null,
            "border": null,
            "bottom": null,
            "display": null,
            "flex": null,
            "flex_flow": null,
            "grid_area": null,
            "grid_auto_columns": null,
            "grid_auto_flow": null,
            "grid_auto_rows": null,
            "grid_column": null,
            "grid_gap": null,
            "grid_row": null,
            "grid_template_areas": null,
            "grid_template_columns": null,
            "grid_template_rows": null,
            "height": null,
            "justify_content": null,
            "justify_items": null,
            "left": null,
            "margin": null,
            "max_height": null,
            "max_width": null,
            "min_height": null,
            "min_width": null,
            "object_fit": null,
            "object_position": null,
            "order": null,
            "overflow": null,
            "overflow_x": null,
            "overflow_y": null,
            "padding": null,
            "right": null,
            "top": null,
            "visibility": null,
            "width": null
          }
        },
        "6dfa5e9b0aa646af872b7c4e740d4a86": {
          "model_module": "@jupyter-widgets/controls",
          "model_module_version": "1.5.0",
          "model_name": "HBoxModel",
          "state": {
            "_dom_classes": [],
            "_model_module": "@jupyter-widgets/controls",
            "_model_module_version": "1.5.0",
            "_model_name": "HBoxModel",
            "_view_count": null,
            "_view_module": "@jupyter-widgets/controls",
            "_view_module_version": "1.5.0",
            "_view_name": "HBoxView",
            "box_style": "",
            "children": [
              "IPY_MODEL_73c7c7437e314b6eaaf7e22eb37c2708",
              "IPY_MODEL_27ec8c08bc49425f9fb61f02a3288e5a",
              "IPY_MODEL_cb57c8a4f41d4164a534a870e4fc1fd6"
            ],
            "layout": "IPY_MODEL_04a143e1d3b34fc3a6978e98111bf575"
          }
        },
        "73c7c7437e314b6eaaf7e22eb37c2708": {
          "model_module": "@jupyter-widgets/controls",
          "model_module_version": "1.5.0",
          "model_name": "HTMLModel",
          "state": {
            "_dom_classes": [],
            "_model_module": "@jupyter-widgets/controls",
            "_model_module_version": "1.5.0",
            "_model_name": "HTMLModel",
            "_view_count": null,
            "_view_module": "@jupyter-widgets/controls",
            "_view_module_version": "1.5.0",
            "_view_name": "HTMLView",
            "description": "",
            "description_tooltip": null,
            "layout": "IPY_MODEL_bda6ae3d01cf4804b9f214bdc02e8ec1",
            "placeholder": "​",
            "style": "IPY_MODEL_4a7d771d7c6d44f488ec74a96b95b55c",
            "value": "Fitness Evaluation Step 4/4: 100%"
          }
        },
        "7eeb5ccd8c5041ddacc9e4c656c3e2fd": {
          "model_module": "@jupyter-widgets/controls",
          "model_module_version": "1.5.0",
          "model_name": "ProgressStyleModel",
          "state": {
            "_model_module": "@jupyter-widgets/controls",
            "_model_module_version": "1.5.0",
            "_model_name": "ProgressStyleModel",
            "_view_count": null,
            "_view_module": "@jupyter-widgets/base",
            "_view_module_version": "1.2.0",
            "_view_name": "StyleView",
            "bar_color": null,
            "description_width": ""
          }
        },
        "84cf5c893c6741efbd6ea3a70983ad57": {
          "model_module": "@jupyter-widgets/base",
          "model_module_version": "1.2.0",
          "model_name": "LayoutModel",
          "state": {
            "_model_module": "@jupyter-widgets/base",
            "_model_module_version": "1.2.0",
            "_model_name": "LayoutModel",
            "_view_count": null,
            "_view_module": "@jupyter-widgets/base",
            "_view_module_version": "1.2.0",
            "_view_name": "LayoutView",
            "align_content": null,
            "align_items": null,
            "align_self": null,
            "border": null,
            "bottom": null,
            "display": null,
            "flex": null,
            "flex_flow": null,
            "grid_area": null,
            "grid_auto_columns": null,
            "grid_auto_flow": null,
            "grid_auto_rows": null,
            "grid_column": null,
            "grid_gap": null,
            "grid_row": null,
            "grid_template_areas": null,
            "grid_template_columns": null,
            "grid_template_rows": null,
            "height": null,
            "justify_content": null,
            "justify_items": null,
            "left": null,
            "margin": null,
            "max_height": null,
            "max_width": null,
            "min_height": null,
            "min_width": null,
            "object_fit": null,
            "object_position": null,
            "order": null,
            "overflow": null,
            "overflow_x": null,
            "overflow_y": null,
            "padding": null,
            "right": null,
            "top": null,
            "visibility": null,
            "width": null
          }
        },
        "a71db721aecb478b82013014c04a357d": {
          "model_module": "@jupyter-widgets/base",
          "model_module_version": "1.2.0",
          "model_name": "LayoutModel",
          "state": {
            "_model_module": "@jupyter-widgets/base",
            "_model_module_version": "1.2.0",
            "_model_name": "LayoutModel",
            "_view_count": null,
            "_view_module": "@jupyter-widgets/base",
            "_view_module_version": "1.2.0",
            "_view_name": "LayoutView",
            "align_content": null,
            "align_items": null,
            "align_self": null,
            "border": null,
            "bottom": null,
            "display": null,
            "flex": null,
            "flex_flow": null,
            "grid_area": null,
            "grid_auto_columns": null,
            "grid_auto_flow": null,
            "grid_auto_rows": null,
            "grid_column": null,
            "grid_gap": null,
            "grid_row": null,
            "grid_template_areas": null,
            "grid_template_columns": null,
            "grid_template_rows": null,
            "height": null,
            "justify_content": null,
            "justify_items": null,
            "left": null,
            "margin": null,
            "max_height": null,
            "max_width": null,
            "min_height": null,
            "min_width": null,
            "object_fit": null,
            "object_position": null,
            "order": null,
            "overflow": null,
            "overflow_x": null,
            "overflow_y": null,
            "padding": null,
            "right": null,
            "top": null,
            "visibility": null,
            "width": null
          }
        },
        "a77b9f7595ee4ef18927360ab66f2065": {
          "model_module": "@jupyter-widgets/base",
          "model_module_version": "1.2.0",
          "model_name": "LayoutModel",
          "state": {
            "_model_module": "@jupyter-widgets/base",
            "_model_module_version": "1.2.0",
            "_model_name": "LayoutModel",
            "_view_count": null,
            "_view_module": "@jupyter-widgets/base",
            "_view_module_version": "1.2.0",
            "_view_name": "LayoutView",
            "align_content": null,
            "align_items": null,
            "align_self": null,
            "border": null,
            "bottom": null,
            "display": null,
            "flex": null,
            "flex_flow": null,
            "grid_area": null,
            "grid_auto_columns": null,
            "grid_auto_flow": null,
            "grid_auto_rows": null,
            "grid_column": null,
            "grid_gap": null,
            "grid_row": null,
            "grid_template_areas": null,
            "grid_template_columns": null,
            "grid_template_rows": null,
            "height": null,
            "justify_content": null,
            "justify_items": null,
            "left": null,
            "margin": null,
            "max_height": null,
            "max_width": null,
            "min_height": null,
            "min_width": null,
            "object_fit": null,
            "object_position": null,
            "order": null,
            "overflow": null,
            "overflow_x": null,
            "overflow_y": null,
            "padding": null,
            "right": null,
            "top": null,
            "visibility": null,
            "width": null
          }
        },
        "b73378d2fd9b4375bf7711742849bd42": {
          "model_module": "@jupyter-widgets/base",
          "model_module_version": "1.2.0",
          "model_name": "LayoutModel",
          "state": {
            "_model_module": "@jupyter-widgets/base",
            "_model_module_version": "1.2.0",
            "_model_name": "LayoutModel",
            "_view_count": null,
            "_view_module": "@jupyter-widgets/base",
            "_view_module_version": "1.2.0",
            "_view_name": "LayoutView",
            "align_content": null,
            "align_items": null,
            "align_self": null,
            "border": null,
            "bottom": null,
            "display": null,
            "flex": null,
            "flex_flow": null,
            "grid_area": null,
            "grid_auto_columns": null,
            "grid_auto_flow": null,
            "grid_auto_rows": null,
            "grid_column": null,
            "grid_gap": null,
            "grid_row": null,
            "grid_template_areas": null,
            "grid_template_columns": null,
            "grid_template_rows": null,
            "height": null,
            "justify_content": null,
            "justify_items": null,
            "left": null,
            "margin": null,
            "max_height": null,
            "max_width": null,
            "min_height": null,
            "min_width": null,
            "object_fit": null,
            "object_position": null,
            "order": null,
            "overflow": null,
            "overflow_x": null,
            "overflow_y": null,
            "padding": null,
            "right": null,
            "top": null,
            "visibility": null,
            "width": null
          }
        },
        "bda6ae3d01cf4804b9f214bdc02e8ec1": {
          "model_module": "@jupyter-widgets/base",
          "model_module_version": "1.2.0",
          "model_name": "LayoutModel",
          "state": {
            "_model_module": "@jupyter-widgets/base",
            "_model_module_version": "1.2.0",
            "_model_name": "LayoutModel",
            "_view_count": null,
            "_view_module": "@jupyter-widgets/base",
            "_view_module_version": "1.2.0",
            "_view_name": "LayoutView",
            "align_content": null,
            "align_items": null,
            "align_self": null,
            "border": null,
            "bottom": null,
            "display": null,
            "flex": null,
            "flex_flow": null,
            "grid_area": null,
            "grid_auto_columns": null,
            "grid_auto_flow": null,
            "grid_auto_rows": null,
            "grid_column": null,
            "grid_gap": null,
            "grid_row": null,
            "grid_template_areas": null,
            "grid_template_columns": null,
            "grid_template_rows": null,
            "height": null,
            "justify_content": null,
            "justify_items": null,
            "left": null,
            "margin": null,
            "max_height": null,
            "max_width": null,
            "min_height": null,
            "min_width": null,
            "object_fit": null,
            "object_position": null,
            "order": null,
            "overflow": null,
            "overflow_x": null,
            "overflow_y": null,
            "padding": null,
            "right": null,
            "top": null,
            "visibility": null,
            "width": null
          }
        },
        "bee9a2ea3d3143f8959a32296e3333d1": {
          "model_module": "@jupyter-widgets/controls",
          "model_module_version": "1.5.0",
          "model_name": "HBoxModel",
          "state": {
            "_dom_classes": [],
            "_model_module": "@jupyter-widgets/controls",
            "_model_module_version": "1.5.0",
            "_model_name": "HBoxModel",
            "_view_count": null,
            "_view_module": "@jupyter-widgets/controls",
            "_view_module_version": "1.5.0",
            "_view_name": "HBoxView",
            "box_style": "",
            "children": [
              "IPY_MODEL_ed9077c4f8444269a3d41127fa9b5e3a",
              "IPY_MODEL_654a950ac51d4e70814ea2eef1d42a8c",
              "IPY_MODEL_2624fbc9a99d4d7893c8615afeccf44d"
            ],
            "layout": "IPY_MODEL_b73378d2fd9b4375bf7711742849bd42"
          }
        },
        "c681d268d81348afb5c6e30326b263cb": {
          "model_module": "@jupyter-widgets/base",
          "model_module_version": "1.2.0",
          "model_name": "LayoutModel",
          "state": {
            "_model_module": "@jupyter-widgets/base",
            "_model_module_version": "1.2.0",
            "_model_name": "LayoutModel",
            "_view_count": null,
            "_view_module": "@jupyter-widgets/base",
            "_view_module_version": "1.2.0",
            "_view_name": "LayoutView",
            "align_content": null,
            "align_items": null,
            "align_self": null,
            "border": null,
            "bottom": null,
            "display": null,
            "flex": null,
            "flex_flow": null,
            "grid_area": null,
            "grid_auto_columns": null,
            "grid_auto_flow": null,
            "grid_auto_rows": null,
            "grid_column": null,
            "grid_gap": null,
            "grid_row": null,
            "grid_template_areas": null,
            "grid_template_columns": null,
            "grid_template_rows": null,
            "height": null,
            "justify_content": null,
            "justify_items": null,
            "left": null,
            "margin": null,
            "max_height": null,
            "max_width": null,
            "min_height": null,
            "min_width": null,
            "object_fit": null,
            "object_position": null,
            "order": null,
            "overflow": null,
            "overflow_x": null,
            "overflow_y": null,
            "padding": null,
            "right": null,
            "top": null,
            "visibility": null,
            "width": null
          }
        },
        "cb57c8a4f41d4164a534a870e4fc1fd6": {
          "model_module": "@jupyter-widgets/controls",
          "model_module_version": "1.5.0",
          "model_name": "HTMLModel",
          "state": {
            "_dom_classes": [],
            "_model_module": "@jupyter-widgets/controls",
            "_model_module_version": "1.5.0",
            "_model_name": "HTMLModel",
            "_view_count": null,
            "_view_module": "@jupyter-widgets/controls",
            "_view_module_version": "1.5.0",
            "_view_name": "HTMLView",
            "description": "",
            "description_tooltip": null,
            "layout": "IPY_MODEL_a71db721aecb478b82013014c04a357d",
            "placeholder": "​",
            "style": "IPY_MODEL_28b3aef84bf04dfe8f2135c88f836109",
            "value": " 170/170 [00:15&lt;00:00, 14.20it/s]"
          }
        },
        "dd1cbf1f0c8347a2bbe1768a55630469": {
          "model_module": "@jupyter-widgets/controls",
          "model_module_version": "1.5.0",
          "model_name": "DescriptionStyleModel",
          "state": {
            "_model_module": "@jupyter-widgets/controls",
            "_model_module_version": "1.5.0",
            "_model_name": "DescriptionStyleModel",
            "_view_count": null,
            "_view_module": "@jupyter-widgets/base",
            "_view_module_version": "1.2.0",
            "_view_name": "StyleView",
            "description_width": ""
          }
        },
        "e59885a6e63049f9b2ce4997cb6f83e0": {
          "model_module": "@jupyter-widgets/controls",
          "model_module_version": "1.5.0",
          "model_name": "HTMLModel",
          "state": {
            "_dom_classes": [],
            "_model_module": "@jupyter-widgets/controls",
            "_model_module_version": "1.5.0",
            "_model_name": "HTMLModel",
            "_view_count": null,
            "_view_module": "@jupyter-widgets/controls",
            "_view_module_version": "1.5.0",
            "_view_name": "HTMLView",
            "description": "",
            "description_tooltip": null,
            "layout": "IPY_MODEL_84cf5c893c6741efbd6ea3a70983ad57",
            "placeholder": "​",
            "style": "IPY_MODEL_342e0adc2e3f4d6898f667145074036c",
            "value": " 50/50 [00:08&lt;00:00, 10.45it/s]"
          }
        },
        "ed9077c4f8444269a3d41127fa9b5e3a": {
          "model_module": "@jupyter-widgets/controls",
          "model_module_version": "1.5.0",
          "model_name": "HTMLModel",
          "state": {
            "_dom_classes": [],
            "_model_module": "@jupyter-widgets/controls",
            "_model_module_version": "1.5.0",
            "_model_name": "HTMLModel",
            "_view_count": null,
            "_view_module": "@jupyter-widgets/controls",
            "_view_module_version": "1.5.0",
            "_view_name": "HTMLView",
            "description": "",
            "description_tooltip": null,
            "layout": "IPY_MODEL_1f2371450a57449db8f0a7b5c635bb70",
            "placeholder": "​",
            "style": "IPY_MODEL_fc5cdddd0e6844448c5a6b00da11ac39",
            "value": "Evaluating: 100%"
          }
        },
        "fc5cdddd0e6844448c5a6b00da11ac39": {
          "model_module": "@jupyter-widgets/controls",
          "model_module_version": "1.5.0",
          "model_name": "DescriptionStyleModel",
          "state": {
            "_model_module": "@jupyter-widgets/controls",
            "_model_module_version": "1.5.0",
            "_model_name": "DescriptionStyleModel",
            "_view_count": null,
            "_view_module": "@jupyter-widgets/base",
            "_view_module_version": "1.2.0",
            "_view_name": "StyleView",
            "description_width": ""
          }
        }
      }
    }
  },
  "nbformat": 4,
  "nbformat_minor": 0
}
