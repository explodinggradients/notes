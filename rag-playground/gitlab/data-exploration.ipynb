{
 "cells": [
  {
   "cell_type": "code",
   "execution_count": 1,
   "id": "991d8c0b",
   "metadata": {},
   "outputs": [],
   "source": [
    "import glob"
   ]
  },
  {
   "cell_type": "code",
   "execution_count": 33,
   "id": "30c605df",
   "metadata": {},
   "outputs": [
    {
     "data": {
      "text/plain": [
       "{'gif', 'jpeg', 'jpg', 'md', 'mp4', 'ogg', 'png', 'sh', 'svg', 'webm'}"
      ]
     },
     "execution_count": 33,
     "metadata": {},
     "output_type": "execute_result"
    }
   ],
   "source": [
    "files = glob.glob(\"data/**\", recursive=True)\n",
    "\n",
    "file_ends = set()\n",
    "for f in files:\n",
    "    splits = f.split('.')\n",
    "    if len(splits) == 2:\n",
    "        file_ends.add(splits[-1])\n",
    "file_ends"
   ]
  },
  {
   "cell_type": "code",
   "execution_count": 34,
   "id": "86e725f5",
   "metadata": {},
   "outputs": [
    {
     "data": {
      "text/plain": [
       "{'gif', 'jpeg', 'jpg', 'mp4', 'ogg', 'png', 'sh', 'svg', 'webm'}"
      ]
     },
     "execution_count": 34,
     "metadata": {},
     "output_type": "execute_result"
    }
   ],
   "source": [
    "file_ends = file_ends - {'md'}\n",
    "file_ends"
   ]
  },
  {
   "cell_type": "code",
   "execution_count": 35,
   "id": "98b6eaf6",
   "metadata": {},
   "outputs": [
    {
     "data": {
      "text/plain": [
       "245"
      ]
     },
     "execution_count": 35,
     "metadata": {},
     "output_type": "execute_result"
    }
   ],
   "source": [
    "files = []\n",
    "glob_str = \"**/*.{end}\"\n",
    "for e in file_ends:\n",
    "    ext_files = glob.glob(glob_str.format(end=e), recursive=True)\n",
    "    files.extend(ext_files)\n",
    "    \n",
    "len(files)"
   ]
  },
  {
   "cell_type": "code",
   "execution_count": 37,
   "id": "f7ecb260",
   "metadata": {},
   "outputs": [
    {
     "data": {
      "text/plain": [
       "'data/handbook/content-websites/check-files.sh'"
      ]
     },
     "execution_count": 37,
     "metadata": {},
     "output_type": "execute_result"
    }
   ],
   "source": [
    "files[0]"
   ]
  },
  {
   "cell_type": "code",
   "execution_count": 36,
   "id": "7b435261",
   "metadata": {},
   "outputs": [
    {
     "data": {
      "text/plain": [
       "'data/handbook/support/readiness/operations/images/manually_create_ticket4.gif'"
      ]
     },
     "execution_count": 36,
     "metadata": {},
     "output_type": "execute_result"
    }
   ],
   "source": [
    "import os\n",
    "\n",
    "os.remove(files)"
   ]
  },
  {
   "cell_type": "code",
   "execution_count": null,
   "id": "a48f21cf",
   "metadata": {},
   "outputs": [],
   "source": []
  }
 ],
 "metadata": {
  "kernelspec": {
   "display_name": "Python 3 (ipykernel)",
   "language": "python",
   "name": "python3"
  },
  "language_info": {
   "codemirror_mode": {
    "name": "ipython",
    "version": 3
   },
   "file_extension": ".py",
   "mimetype": "text/x-python",
   "name": "python",
   "nbconvert_exporter": "python",
   "pygments_lexer": "ipython3",
   "version": "3.10.12"
  }
 },
 "nbformat": 4,
 "nbformat_minor": 5
}
