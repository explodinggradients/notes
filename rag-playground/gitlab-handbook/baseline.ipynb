{
 "cells": [
  {
   "cell_type": "markdown",
   "id": "6aa0339b",
   "metadata": {},
   "source": [
    "### Cleaned Data\n",
    "\n",
    "(ignore)"
   ]
  },
  {
   "cell_type": "code",
   "execution_count": 1,
   "id": "a978a753",
   "metadata": {},
   "outputs": [],
   "source": [
    "import glob"
   ]
  },
  {
   "cell_type": "code",
   "execution_count": 43,
   "id": "2963dbea",
   "metadata": {},
   "outputs": [
    {
     "data": {
      "text/plain": [
       "{'md'}"
      ]
     },
     "execution_count": 43,
     "metadata": {},
     "output_type": "execute_result"
    }
   ],
   "source": [
    "files = glob.glob(\"data/**\", recursive=True)\n",
    "\n",
    "file_ends = set()\n",
    "for f in files:\n",
    "    splits = f.split('.')\n",
    "    if len(splits) == 2:\n",
    "        file_ends.add(splits[-1])\n",
    "file_ends"
   ]
  },
  {
   "cell_type": "code",
   "execution_count": 44,
   "id": "42dd902b",
   "metadata": {},
   "outputs": [
    {
     "data": {
      "text/plain": [
       "set()"
      ]
     },
     "execution_count": 44,
     "metadata": {},
     "output_type": "execute_result"
    }
   ],
   "source": [
    "file_ends = file_ends - {'md'}\n",
    "file_ends"
   ]
  },
  {
   "cell_type": "code",
   "execution_count": 45,
   "id": "00f995da",
   "metadata": {},
   "outputs": [
    {
     "data": {
      "text/plain": [
       "0"
      ]
     },
     "execution_count": 45,
     "metadata": {},
     "output_type": "execute_result"
    }
   ],
   "source": [
    "files = []\n",
    "glob_str = \"**/*.{end}\"\n",
    "for e in file_ends:\n",
    "    ext_files = glob.glob(glob_str.format(end=e), recursive=True)\n",
    "    files.extend(ext_files)\n",
    "    \n",
    "len(files)"
   ]
  },
  {
   "cell_type": "code",
   "execution_count": 46,
   "id": "d6cff761",
   "metadata": {},
   "outputs": [],
   "source": [
    "import os\n",
    "\n",
    "for file in files:\n",
    "    try:\n",
    "        os.remove(file)\n",
    "    except FileNotFoundError:\n",
    "        print(file, \" not found!\")"
   ]
  },
  {
   "cell_type": "code",
   "execution_count": 19,
   "id": "3621da8e",
   "metadata": {},
   "outputs": [],
   "source": [
    "#!tree data"
   ]
  },
  {
   "cell_type": "markdown",
   "id": "d5787341",
   "metadata": {},
   "source": [
    "Using only `/handbook/ceo` because there are a lot of data inside this."
   ]
  },
  {
   "cell_type": "markdown",
   "id": "3808b7a8",
   "metadata": {},
   "source": [
    "## Baseline LlamaIndex\n",
    "\n",
    "using the `ceo` section which is viable [here](https://handbook.gitlab.com/handbook/ceo/). Feel free to use any other sections as well but do point to the hosted webpage so that it is easier to view."
   ]
  },
  {
   "cell_type": "code",
   "execution_count": 3,
   "id": "03db3339",
   "metadata": {},
   "outputs": [
    {
     "name": "stdout",
     "output_type": "stream",
     "text": [
      "\u001b[01;34mdata/handbook/ceo\u001b[0m\r\n",
      "├── \u001b[01;34mchief-of-staff-team\u001b[0m\r\n",
      "│   ├── _index.md\r\n",
      "│   ├── \u001b[01;34mjihu-support\u001b[0m\r\n",
      "│   │   ├── \u001b[01;34mimages\u001b[0m\r\n",
      "│   │   ├── _index.md\r\n",
      "│   │   ├── jihu-contribution-process.md\r\n",
      "│   │   ├── jihu-database-change-process.md\r\n",
      "│   │   ├── jihu-security-review-process.md\r\n",
      "│   │   ├── jihu-validation-pipelines.md\r\n",
      "│   │   └── release-certification.md\r\n",
      "│   ├── performance-indicators.md\r\n",
      "│   ├── \u001b[01;34mreadmes\u001b[0m\r\n",
      "│   │   ├── dlangemak.md\r\n",
      "│   │   ├── _index.md\r\n",
      "│   │   ├── ipedowitz.md\r\n",
      "│   │   ├── jamiemaynard.md\r\n",
      "│   │   └── streas.md\r\n",
      "│   └── workplace.md\r\n",
      "├── _index.md\r\n",
      "└── shadow.md\r\n",
      "\r\n",
      "4 directories, 16 files\r\n"
     ]
    }
   ],
   "source": [
    "!tree data/handbook/ceo"
   ]
  },
  {
   "cell_type": "code",
   "execution_count": 4,
   "id": "5ef8ffd3",
   "metadata": {},
   "outputs": [
    {
     "data": {
      "text/plain": [
       "279"
      ]
     },
     "execution_count": 4,
     "metadata": {},
     "output_type": "execute_result"
    }
   ],
   "source": [
    "from llama_index import SimpleDirectoryReader\n",
    "\n",
    "reader = SimpleDirectoryReader('./data/handbook/ceo/', recursive=True)\n",
    "docs = reader.load_data()\n",
    "\n",
    "len(docs)"
   ]
  },
  {
   "cell_type": "code",
   "execution_count": 5,
   "id": "69687f33",
   "metadata": {},
   "outputs": [],
   "source": [
    "from llama_index import VectorStoreIndex\n",
    "\n",
    "index = VectorStoreIndex.from_documents(docs)\n",
    "qe = index.as_query_engine()"
   ]
  },
  {
   "cell_type": "code",
   "execution_count": 6,
   "id": "486bd9cd",
   "metadata": {},
   "outputs": [
    {
     "name": "stdout",
     "output_type": "stream",
     "text": [
      "\n",
      "Sid believes in “strong opinions, weakly held.” He encourages people to have strong opinions, but to be open to changing them if presented with compelling new information and a data driven perspective. For example, if someone has a strong opinion about a product feature, but then new data is presented that suggests a different approach, Sid would encourage them to consider the new data and potentially change their opinion.\n"
     ]
    }
   ],
   "source": [
    "r = qe.query(\"What is Sid's view on Strong Opinions weakly held? can you give any examples\")\n",
    "print(r)"
   ]
  },
  {
   "cell_type": "code",
   "execution_count": 7,
   "id": "8adde170",
   "metadata": {},
   "outputs": [
    {
     "name": "stdout",
     "output_type": "stream",
     "text": [
      "\n",
      "The CEO Shadow Program is a program designed to give team members and eligible individuals an overview of all aspects of the company. Through attending meetings and completing short-term tasks, participants gain a better understanding of the company and its operations. The program also provides an opportunity for the CEO to build relationships with team members and identify challenges and opportunities earlier. Additionally, shadows can connect with one another, creating new cross-functional relationships.\n"
     ]
    }
   ],
   "source": [
    "r = qe.query(\"What is the CEO Shadow Program?\")\n",
    "print(r)"
   ]
  },
  {
   "cell_type": "code",
   "execution_count": 8,
   "id": "d0af4183",
   "metadata": {},
   "outputs": [
    {
     "name": "stdout",
     "output_type": "stream",
     "text": [
      "\n",
      "The CEO is not specified in the context information.\n"
     ]
    }
   ],
   "source": [
    "r = qe.query(\"Who is the CEO?\")\n",
    "print(r)"
   ]
  },
  {
   "cell_type": "markdown",
   "id": "3b07e790",
   "metadata": {},
   "source": [
    "### Evaluating with ragas"
   ]
  },
  {
   "cell_type": "code",
   "execution_count": 9,
   "id": "89b5aeac",
   "metadata": {},
   "outputs": [
    {
     "data": {
      "text/plain": [
       "['What are some specific processes that are detailed on this page for Sid, CEO of GitLab?',\n",
       " 'How is this page intended to be helpful?',\n",
       " 'What is the purpose of the Executive Business Administrators (EBAs) mentioned on this page?',\n",
       " 'Can you provide examples of guidelines mentioned on this page for the EBAs?',\n",
       " 'How does the page suggest handling items that might seem pretentious or overbearing?',\n",
       " 'What is the role of Sid in GitLab?',\n",
       " 'How can someone deviate from the page and update it?',\n",
       " \"What is the significance of the CEO's involvement in the processes detailed on this page?\",\n",
       " 'How does the page encourage collaboration and feedback?',\n",
       " 'What is the overall purpose of this page in relation to Sid, CEO of GitLab?',\n",
       " \"What is Sid Sijbrandij's role at GitLab Inc.?\",\n",
       " 'How did Sid Sijbrandij first become interested in programming?',\n",
       " \"What is the purpose of GitLab's single application?\",\n",
       " \"What is Sid Sijbrandij's educational background?\",\n",
       " 'How did Sid Sijbrandij commercialize GitLab?',\n",
       " 'What recognition did Sid Sijbrandij receive from Forbes?',\n",
       " 'What is the estimated number of registered users on GitLab?',\n",
       " 'What were some of the innovative web applications developed by Sid Sijbrandij while working on the Legis project?',\n",
       " \"How did Sid Sijbrandij lead GitLab through Y Combinator's Winter 2015 batch?\",\n",
       " \"What were Sid Sijbrandij's previous work experiences before co-founding GitLab Inc.?\"]"
      ]
     },
     "execution_count": 9,
     "metadata": {},
     "output_type": "execute_result"
    }
   ],
   "source": [
    "from llama_index.evaluation import DatasetGenerator\n",
    "from ragas.llama_index import evaluate\n",
    "\n",
    "data_generator = DatasetGenerator.from_documents(docs)\n",
    "eval_questions = data_generator.generate_questions_from_nodes(num=20)\n",
    "\n",
    "eval_questions"
   ]
  },
  {
   "cell_type": "code",
   "execution_count": 10,
   "id": "e3b87e28",
   "metadata": {},
   "outputs": [],
   "source": [
    "import nest_asyncio\n",
    "nest_asyncio.apply()"
   ]
  },
  {
   "cell_type": "code",
   "execution_count": 11,
   "id": "a72c69f8",
   "metadata": {},
   "outputs": [
    {
     "name": "stdout",
     "output_type": "stream",
     "text": [
      "evaluating with [faithfulness]\n"
     ]
    },
    {
     "name": "stderr",
     "output_type": "stream",
     "text": [
      "100%|████████████████████████████████████████████████████████████| 2/2 [03:48<00:00, 114.23s/it]\n"
     ]
    },
    {
     "name": "stdout",
     "output_type": "stream",
     "text": [
      "evaluating with [answer_relevancy]\n"
     ]
    },
    {
     "name": "stderr",
     "output_type": "stream",
     "text": [
      "100%|█████████████████████████████████████████████████████████████| 2/2 [00:49<00:00, 24.76s/it]\n"
     ]
    },
    {
     "name": "stdout",
     "output_type": "stream",
     "text": [
      "evaluating with [context_relevancy]\n"
     ]
    },
    {
     "name": "stderr",
     "output_type": "stream",
     "text": [
      "100%|█████████████████████████████████████████████████████████████| 2/2 [00:36<00:00, 18.01s/it]\n"
     ]
    },
    {
     "data": {
      "text/plain": [
       "{'ragas_score': 0.2560, 'faithfulness': 0.7533, 'answer_relevancy': 0.9209, 'context_relevancy': 0.1075}"
      ]
     },
     "execution_count": 11,
     "metadata": {},
     "output_type": "execute_result"
    }
   ],
   "source": [
    "from ragas.metrics import faithfulness, answer_relevancy, context_relevancy\n",
    "\n",
    "result = evaluate(\n",
    "    qe, \n",
    "    [faithfulness, answer_relevancy, context_relevancy],\n",
    "    eval_questions,\n",
    ")\n",
    "\n",
    "result"
   ]
  },
  {
   "cell_type": "code",
   "execution_count": 12,
   "id": "a8f67072",
   "metadata": {},
   "outputs": [
    {
     "data": {
      "text/html": [
       "<div>\n",
       "<style scoped>\n",
       "    .dataframe tbody tr th:only-of-type {\n",
       "        vertical-align: middle;\n",
       "    }\n",
       "\n",
       "    .dataframe tbody tr th {\n",
       "        vertical-align: top;\n",
       "    }\n",
       "\n",
       "    .dataframe thead th {\n",
       "        text-align: right;\n",
       "    }\n",
       "</style>\n",
       "<table border=\"1\" class=\"dataframe\">\n",
       "  <thead>\n",
       "    <tr style=\"text-align: right;\">\n",
       "      <th></th>\n",
       "      <th>question</th>\n",
       "      <th>contexts</th>\n",
       "      <th>answer</th>\n",
       "      <th>faithfulness</th>\n",
       "      <th>answer_relevancy</th>\n",
       "      <th>context_relevancy</th>\n",
       "    </tr>\n",
       "  </thead>\n",
       "  <tbody>\n",
       "    <tr>\n",
       "      <th>0</th>\n",
       "      <td>What are some specific processes that are deta...</td>\n",
       "      <td>[Intro\\n\\nThis page details processes specific...</td>\n",
       "      <td>\\nSome specific processes that are detailed on...</td>\n",
       "      <td>0.333333</td>\n",
       "      <td>0.999171</td>\n",
       "      <td>0.000000</td>\n",
       "    </tr>\n",
       "    <tr>\n",
       "      <th>2</th>\n",
       "      <td>What is the purpose of the Executive Business ...</td>\n",
       "      <td>[Intro\\n\\nThis page details processes specific...</td>\n",
       "      <td>\\nThe purpose of the Executive Business Admini...</td>\n",
       "      <td>0.666667</td>\n",
       "      <td>0.983159</td>\n",
       "      <td>0.200000</td>\n",
       "    </tr>\n",
       "    <tr>\n",
       "      <th>4</th>\n",
       "      <td>How does the page suggest handling items that ...</td>\n",
       "      <td>[Brand\\n\\nPlease refer to our guidelines, Prod...</td>\n",
       "      <td>\\nThe page does not suggest any specific handl...</td>\n",
       "      <td>0.500000</td>\n",
       "      <td>0.989259</td>\n",
       "      <td>0.000000</td>\n",
       "    </tr>\n",
       "    <tr>\n",
       "      <th>7</th>\n",
       "      <td>What is the significance of the CEO's involvem...</td>\n",
       "      <td>[Review the CEO Handbook\\n\\nThe CEO has a sect...</td>\n",
       "      <td>\\nThe CEO's involvement in the processes detai...</td>\n",
       "      <td>0.333333</td>\n",
       "      <td>0.982521</td>\n",
       "      <td>0.000000</td>\n",
       "    </tr>\n",
       "    <tr>\n",
       "      <th>12</th>\n",
       "      <td>What is the purpose of GitLab's single applica...</td>\n",
       "      <td>[Vision\\n\\nGitLab is an influencer and educato...</td>\n",
       "      <td>\\nThe purpose of GitLab's single application i...</td>\n",
       "      <td>0.333333</td>\n",
       "      <td>0.962176</td>\n",
       "      <td>0.000000</td>\n",
       "    </tr>\n",
       "    <tr>\n",
       "      <th>17</th>\n",
       "      <td>What were some of the innovative web applicati...</td>\n",
       "      <td>[CEO Bio\\n\\nSid Sijbrandij is the Co-founder, ...</td>\n",
       "      <td>\\nSome of the innovative web applications deve...</td>\n",
       "      <td>0.000000</td>\n",
       "      <td>0.996383</td>\n",
       "      <td>0.000000</td>\n",
       "    </tr>\n",
       "    <tr>\n",
       "      <th>18</th>\n",
       "      <td>How did Sid Sijbrandij lead GitLab through Y C...</td>\n",
       "      <td>[CEO Bio\\n\\nSid Sijbrandij is the Co-founder, ...</td>\n",
       "      <td>\\nSid Sijbrandij led GitLab through Y Combinat...</td>\n",
       "      <td>0.600000</td>\n",
       "      <td>0.937906</td>\n",
       "      <td>0.018182</td>\n",
       "    </tr>\n",
       "  </tbody>\n",
       "</table>\n",
       "</div>"
      ],
      "text/plain": [
       "                                             question  \\\n",
       "0   What are some specific processes that are deta...   \n",
       "2   What is the purpose of the Executive Business ...   \n",
       "4   How does the page suggest handling items that ...   \n",
       "7   What is the significance of the CEO's involvem...   \n",
       "12  What is the purpose of GitLab's single applica...   \n",
       "17  What were some of the innovative web applicati...   \n",
       "18  How did Sid Sijbrandij lead GitLab through Y C...   \n",
       "\n",
       "                                             contexts  \\\n",
       "0   [Intro\\n\\nThis page details processes specific...   \n",
       "2   [Intro\\n\\nThis page details processes specific...   \n",
       "4   [Brand\\n\\nPlease refer to our guidelines, Prod...   \n",
       "7   [Review the CEO Handbook\\n\\nThe CEO has a sect...   \n",
       "12  [Vision\\n\\nGitLab is an influencer and educato...   \n",
       "17  [CEO Bio\\n\\nSid Sijbrandij is the Co-founder, ...   \n",
       "18  [CEO Bio\\n\\nSid Sijbrandij is the Co-founder, ...   \n",
       "\n",
       "                                               answer  faithfulness  \\\n",
       "0   \\nSome specific processes that are detailed on...      0.333333   \n",
       "2   \\nThe purpose of the Executive Business Admini...      0.666667   \n",
       "4   \\nThe page does not suggest any specific handl...      0.500000   \n",
       "7   \\nThe CEO's involvement in the processes detai...      0.333333   \n",
       "12  \\nThe purpose of GitLab's single application i...      0.333333   \n",
       "17  \\nSome of the innovative web applications deve...      0.000000   \n",
       "18  \\nSid Sijbrandij led GitLab through Y Combinat...      0.600000   \n",
       "\n",
       "    answer_relevancy  context_relevancy  \n",
       "0           0.999171           0.000000  \n",
       "2           0.983159           0.200000  \n",
       "4           0.989259           0.000000  \n",
       "7           0.982521           0.000000  \n",
       "12          0.962176           0.000000  \n",
       "17          0.996383           0.000000  \n",
       "18          0.937906           0.018182  "
      ]
     },
     "execution_count": 12,
     "metadata": {},
     "output_type": "execute_result"
    }
   ],
   "source": [
    "df = result.to_pandas()\n",
    "\n",
    "df[df.faithfulness < 0.71]"
   ]
  },
  {
   "cell_type": "markdown",
   "id": "6ea1f416",
   "metadata": {},
   "source": [
    "Seems like faithfullness is something we should be improving. Lets try GPT-4 and see if we can bring an improvement."
   ]
  },
  {
   "cell_type": "code",
   "execution_count": 14,
   "id": "e6616ad1",
   "metadata": {},
   "outputs": [],
   "source": [
    "from llama_index import ServiceContext\n",
    "from llama_index.llms import OpenAI\n",
    "\n",
    "gpt4 = OpenAI(model=\"gpt-4\")\n",
    "sc = ServiceContext.from_defaults(llm=gpt4)\n",
    "index = VectorStoreIndex.from_documents(docs, service_context=sc)\n",
    "gpt4_qe = index.as_query_engine()"
   ]
  },
  {
   "cell_type": "code",
   "execution_count": 15,
   "id": "1f15275c",
   "metadata": {},
   "outputs": [
    {
     "name": "stdout",
     "output_type": "stream",
     "text": [
      "Sid believes in the concept of \"strong opinions, weakly held.\" This means that while he may have strong beliefs or ideas, he is open to changing his mind if presented with compelling new information and a data-driven perspective. No specific examples are given in the context.\n"
     ]
    }
   ],
   "source": [
    "r = gpt4_qe.query(\"What is Sid's view on Strong Opinions weakly held? can you give any examples\")\n",
    "print(r)"
   ]
  },
  {
   "cell_type": "code",
   "execution_count": 16,
   "id": "f11a4061",
   "metadata": {},
   "outputs": [
    {
     "name": "stdout",
     "output_type": "stream",
     "text": [
      "The context does not provide information on who the CEO is.\n"
     ]
    }
   ],
   "source": [
    "r = gpt4_qe.query(\"Who is the CEO?\")\n",
    "print(r)"
   ]
  },
  {
   "cell_type": "code",
   "execution_count": 18,
   "id": "7ce5fd6f",
   "metadata": {},
   "outputs": [
    {
     "name": "stdout",
     "output_type": "stream",
     "text": [
      "evaluating with [faithfulness]\n"
     ]
    },
    {
     "name": "stderr",
     "output_type": "stream",
     "text": [
      "100%|█████████████████████████████████████████████████████████████| 2/2 [02:33<00:00, 76.93s/it]\n"
     ]
    },
    {
     "name": "stdout",
     "output_type": "stream",
     "text": [
      "evaluating with [answer_relevancy]\n"
     ]
    },
    {
     "name": "stderr",
     "output_type": "stream",
     "text": [
      "100%|█████████████████████████████████████████████████████████████| 2/2 [00:51<00:00, 25.98s/it]\n"
     ]
    },
    {
     "name": "stdout",
     "output_type": "stream",
     "text": [
      "evaluating with [context_relevancy]\n"
     ]
    },
    {
     "name": "stderr",
     "output_type": "stream",
     "text": [
      "100%|█████████████████████████████████████████████████████████████| 2/2 [00:29<00:00, 14.71s/it]\n"
     ]
    },
    {
     "data": {
      "text/plain": [
       "{'ragas_score': 0.2153, 'faithfulness': 0.8500, 'answer_relevancy': 0.9318, 'context_relevancy': 0.0856}"
      ]
     },
     "execution_count": 18,
     "metadata": {},
     "output_type": "execute_result"
    }
   ],
   "source": [
    "gpt4_result = evaluate(\n",
    "    gpt4_qe, \n",
    "    [faithfulness, answer_relevancy, context_relevancy],\n",
    "    eval_questions,\n",
    ")\n",
    "\n",
    "gpt4_result"
   ]
  },
  {
   "cell_type": "markdown",
   "id": "ef12c737",
   "metadata": {},
   "source": [
    "We managed to improve faithfulness from 0.75 to 0.85. How do we improve further?\n",
    "\n",
    "First we have to figure out what exactly is wrong by seeing the traces. We recommend having something like langsmith to view these traces which will help you zone in on the issues."
   ]
  }
 ],
 "metadata": {
  "kernelspec": {
   "display_name": "Python 3 (ipykernel)",
   "language": "python",
   "name": "python3"
  },
  "language_info": {
   "codemirror_mode": {
    "name": "ipython",
    "version": 3
   },
   "file_extension": ".py",
   "mimetype": "text/x-python",
   "name": "python",
   "nbconvert_exporter": "python",
   "pygments_lexer": "ipython3",
   "version": "3.10.12"
  }
 },
 "nbformat": 4,
 "nbformat_minor": 5
}
