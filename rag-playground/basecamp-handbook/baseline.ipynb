{
 "cells": [
  {
   "cell_type": "markdown",
   "id": "5d7d6d21",
   "metadata": {},
   "source": [
    "## Baseline\n",
    "\n",
    "Build a baseline RAG and evaluate with ragas."
   ]
  },
  {
   "cell_type": "code",
   "execution_count": 2,
   "id": "fae55e46",
   "metadata": {},
   "outputs": [
    {
     "name": "stdout",
     "output_type": "stream",
     "text": [
      "\u001b[01;34mdata/\u001b[0m\r\n",
      "├── 37signals-is-you.md\r\n",
      "├── benefits-and-perks.md\r\n",
      "├── code-of-conduct.md\r\n",
      "├── faq.md\r\n",
      "├── getting-started.md\r\n",
      "├── how-we-work.md\r\n",
      "├── international-travel-guide.md\r\n",
      "├── LICENSE.md\r\n",
      "├── making-a-career.md\r\n",
      "├── managing-work-devices.md\r\n",
      "├── moonlighting.md\r\n",
      "├── our-internal-systems.md\r\n",
      "├── our-rituals.md\r\n",
      "├── performance-plans.md\r\n",
      "├── product-histories.md\r\n",
      "├── README.md\r\n",
      "├── stateFMLA.md\r\n",
      "├── titles-for-data.md\r\n",
      "├── titles-for-designers.md\r\n",
      "├── titles-for-ops.md\r\n",
      "├── titles-for-programmers.md\r\n",
      "├── titles-for-support.md\r\n",
      "├── vocabulary.md\r\n",
      "├── what-influenced-us.md\r\n",
      "├── what-we-stand-for.md\r\n",
      "└── where-we-work.md\r\n",
      "\r\n",
      "0 directories, 26 files\r\n"
     ]
    }
   ],
   "source": [
    "!tree data/"
   ]
  },
  {
   "cell_type": "code",
   "execution_count": 4,
   "id": "ea340a1b",
   "metadata": {},
   "outputs": [
    {
     "data": {
      "text/plain": [
       "155"
      ]
     },
     "execution_count": 4,
     "metadata": {},
     "output_type": "execute_result"
    }
   ],
   "source": [
    "from llama_index import SimpleDirectoryReader\n",
    "\n",
    "reader = SimpleDirectoryReader('./data', recursive=True)\n",
    "docs = reader.load_data()\n",
    "\n",
    "len(docs)"
   ]
  },
  {
   "cell_type": "code",
   "execution_count": 5,
   "id": "e59b71b8",
   "metadata": {},
   "outputs": [],
   "source": [
    "from llama_index import VectorStoreIndex\n",
    "\n",
    "index = VectorStoreIndex.from_documents(docs)\n",
    "qe = index.as_query_engine()"
   ]
  },
  {
   "cell_type": "code",
   "execution_count": 7,
   "id": "5b6f4c8b",
   "metadata": {},
   "outputs": [
    {
     "name": "stdout",
     "output_type": "stream",
     "text": [
      "\n",
      "The company policy about Moonlighting is that it is allowed as long as it does not create conflicts of interest or affect the employee's time, dedication, or performance at 37signals. Examples of activities that are not allowed include working full or part time for another company in the same industry, going on a regular speaking circuit tour, consulting for other companies in the same industry, aggressively marketing availability for side work, and taking on anything outside of work that will pull attention from work.\n"
     ]
    }
   ],
   "source": [
    "r = qe.query(\"What is the company policy about Moonlighting?\")\n",
    "print(r)"
   ]
  },
  {
   "cell_type": "code",
   "execution_count": 8,
   "id": "821307b9",
   "metadata": {},
   "outputs": [
    {
     "name": "stdout",
     "output_type": "stream",
     "text": [
      "\n",
      "The Benefits and Perks offered are Paid Time Off.\n"
     ]
    }
   ],
   "source": [
    "r = qe.query(\"What are the Benefits and Perks offered?\")\n",
    "print(r)"
   ]
  },
  {
   "cell_type": "markdown",
   "id": "b5e20959",
   "metadata": {},
   "source": [
    "### Running Evaluations"
   ]
  },
  {
   "cell_type": "code",
   "execution_count": 11,
   "id": "b7f13a15",
   "metadata": {},
   "outputs": [
    {
     "data": {
      "text/plain": [
       "['How does 37signals emphasize the importance of customer support and communication?',\n",
       " \"Why does 37signals believe that marketing is everyone's responsibility?\",\n",
       " 'How does 37signals cultivate its image through customer interactions?',\n",
       " \"What role does word of mouth play in 37signals' customer acquisition strategy?\",\n",
       " 'How does 37signals contribute to the open-source community?',\n",
       " 'What advice does 37signals give to new employees about work-life balance?',\n",
       " 'How does 37signals encourage collaboration and teamwork among its employees?',\n",
       " 'What is the significance of setting boundaries and not becoming consumed by work at 37signals?',\n",
       " 'How does 37signals view the role of writing and communication in their organization?',\n",
       " 'How does 37signals prioritize customer satisfaction and experience?',\n",
       " 'How can other organizations use this handbook as inspiration for their own organizations?',\n",
       " \"What is the recommended approach for personalizing the handbook to match one's own organization?\",\n",
       " 'Why is it important to not use the exact words from this handbook when creating a new one?',\n",
       " 'What is the purpose of the disclaimer about not being an officially recognized open-source license?',\n",
       " 'As a teacher/professor, how would you structure the quiz/examination to ensure diversity in the nature of the questions?',\n",
       " 'How can the structure of this handbook be used as a template for creating other organizational handbooks?',\n",
       " 'What are the potential benefits of using this handbook as a source of inspiration for other organizations?',\n",
       " 'How can personalization of the handbook help organizations align it with their own values and goals?',\n",
       " 'What are some examples of personalization that can be done to match the handbook with a specific organization?',\n",
       " 'How can the examples provided in this handbook be adapted to suit the context of different organizations?']"
      ]
     },
     "execution_count": 11,
     "metadata": {},
     "output_type": "execute_result"
    }
   ],
   "source": [
    "from llama_index.evaluation import DatasetGenerator\n",
    "from ragas.llama_index import evaluate\n",
    "\n",
    "data_generator = DatasetGenerator.from_documents(docs)\n",
    "eval_questions = data_generator.generate_questions_from_nodes(num=20)\n",
    "\n",
    "eval_questions"
   ]
  },
  {
   "cell_type": "code",
   "execution_count": 12,
   "id": "70b5b3b3",
   "metadata": {},
   "outputs": [],
   "source": [
    "import nest_asyncio\n",
    "nest_asyncio.apply()"
   ]
  },
  {
   "cell_type": "code",
   "execution_count": 13,
   "id": "1a0bc417",
   "metadata": {},
   "outputs": [
    {
     "name": "stdout",
     "output_type": "stream",
     "text": [
      "evaluating with [faithfulness]\n"
     ]
    },
    {
     "name": "stderr",
     "output_type": "stream",
     "text": [
      "100%|████████████████████████████████████████████████████████████| 2/2 [04:48<00:00, 144.49s/it]\n"
     ]
    },
    {
     "name": "stdout",
     "output_type": "stream",
     "text": [
      "evaluating with [answer_relevancy]\n"
     ]
    },
    {
     "name": "stderr",
     "output_type": "stream",
     "text": [
      "100%|█████████████████████████████████████████████████████████████| 2/2 [00:53<00:00, 26.86s/it]\n"
     ]
    },
    {
     "name": "stdout",
     "output_type": "stream",
     "text": [
      "evaluating with [context_relevancy]\n"
     ]
    },
    {
     "name": "stderr",
     "output_type": "stream",
     "text": [
      "100%|█████████████████████████████████████████████████████████████| 2/2 [00:47<00:00, 23.84s/it]\n"
     ]
    },
    {
     "data": {
      "text/plain": [
       "{'ragas_score': 0.2195, 'faithfulness': 0.9012, 'answer_relevancy': 0.9691, 'context_relevancy': 0.0868}"
      ]
     },
     "execution_count": 13,
     "metadata": {},
     "output_type": "execute_result"
    }
   ],
   "source": [
    "from ragas.metrics import faithfulness, answer_relevancy, context_relevancy\n",
    "\n",
    "result = evaluate(\n",
    "    qe, \n",
    "    [faithfulness, answer_relevancy, context_relevancy],\n",
    "    eval_questions,\n",
    ")\n",
    "\n",
    "result"
   ]
  },
  {
   "cell_type": "markdown",
   "id": "e7c24549",
   "metadata": {},
   "source": [
    "Seems like overall scores are good. Lets look into a bit more to see which questions gave bad results."
   ]
  },
  {
   "cell_type": "code",
   "execution_count": 15,
   "id": "8a0ad424",
   "metadata": {},
   "outputs": [
    {
     "data": {
      "text/html": [
       "<div>\n",
       "<style scoped>\n",
       "    .dataframe tbody tr th:only-of-type {\n",
       "        vertical-align: middle;\n",
       "    }\n",
       "\n",
       "    .dataframe tbody tr th {\n",
       "        vertical-align: top;\n",
       "    }\n",
       "\n",
       "    .dataframe thead th {\n",
       "        text-align: right;\n",
       "    }\n",
       "</style>\n",
       "<table border=\"1\" class=\"dataframe\">\n",
       "  <thead>\n",
       "    <tr style=\"text-align: right;\">\n",
       "      <th></th>\n",
       "      <th>question</th>\n",
       "      <th>contexts</th>\n",
       "      <th>answer</th>\n",
       "      <th>faithfulness</th>\n",
       "      <th>answer_relevancy</th>\n",
       "      <th>context_relevancy</th>\n",
       "    </tr>\n",
       "  </thead>\n",
       "  <tbody>\n",
       "    <tr>\n",
       "      <th>2</th>\n",
       "      <td>How does 37signals cultivate its image through...</td>\n",
       "      <td>[37signals Is You\\n\\nEveryone working at 37sig...</td>\n",
       "      <td>\\n37signals cultivates its image through custo...</td>\n",
       "      <td>0.857143</td>\n",
       "      <td>1.000000</td>\n",
       "      <td>0.000000</td>\n",
       "    </tr>\n",
       "    <tr>\n",
       "      <th>5</th>\n",
       "      <td>What advice does 37signals give to new employe...</td>\n",
       "      <td>[Getting Started\\n\\nGetting started at 37signa...</td>\n",
       "      <td>\\n37signals encourages new employees to take a...</td>\n",
       "      <td>0.750000</td>\n",
       "      <td>0.878195</td>\n",
       "      <td>0.000000</td>\n",
       "    </tr>\n",
       "    <tr>\n",
       "      <th>6</th>\n",
       "      <td>How does 37signals encourage collaboration and...</td>\n",
       "      <td>[Employee Gifts\\n\\nAt the end of every year, 3...</td>\n",
       "      <td>\\n37signals encourages collaboration and teamw...</td>\n",
       "      <td>0.750000</td>\n",
       "      <td>0.997122</td>\n",
       "      <td>0.428571</td>\n",
       "    </tr>\n",
       "    <tr>\n",
       "      <th>7</th>\n",
       "      <td>What is the significance of setting boundaries...</td>\n",
       "      <td>[Books\\n\\n* Turn The Ship Around: “Leadership ...</td>\n",
       "      <td>\\nSetting boundaries and not becoming consumed...</td>\n",
       "      <td>0.666667</td>\n",
       "      <td>0.985963</td>\n",
       "      <td>0.050000</td>\n",
       "    </tr>\n",
       "    <tr>\n",
       "      <th>14</th>\n",
       "      <td>As a teacher/professor, how would you structur...</td>\n",
       "      <td>[Frequently Asked Questions, FAQ\\n\\nThere are ...</td>\n",
       "      <td>\\nAs a teacher/professor, one way to structure...</td>\n",
       "      <td>0.000000</td>\n",
       "      <td>0.961137</td>\n",
       "      <td>0.000000</td>\n",
       "    </tr>\n",
       "  </tbody>\n",
       "</table>\n",
       "</div>"
      ],
      "text/plain": [
       "                                             question  \\\n",
       "2   How does 37signals cultivate its image through...   \n",
       "5   What advice does 37signals give to new employe...   \n",
       "6   How does 37signals encourage collaboration and...   \n",
       "7   What is the significance of setting boundaries...   \n",
       "14  As a teacher/professor, how would you structur...   \n",
       "\n",
       "                                             contexts  \\\n",
       "2   [37signals Is You\\n\\nEveryone working at 37sig...   \n",
       "5   [Getting Started\\n\\nGetting started at 37signa...   \n",
       "6   [Employee Gifts\\n\\nAt the end of every year, 3...   \n",
       "7   [Books\\n\\n* Turn The Ship Around: “Leadership ...   \n",
       "14  [Frequently Asked Questions, FAQ\\n\\nThere are ...   \n",
       "\n",
       "                                               answer  faithfulness  \\\n",
       "2   \\n37signals cultivates its image through custo...      0.857143   \n",
       "5   \\n37signals encourages new employees to take a...      0.750000   \n",
       "6   \\n37signals encourages collaboration and teamw...      0.750000   \n",
       "7   \\nSetting boundaries and not becoming consumed...      0.666667   \n",
       "14  \\nAs a teacher/professor, one way to structure...      0.000000   \n",
       "\n",
       "    answer_relevancy  context_relevancy  \n",
       "2           1.000000           0.000000  \n",
       "5           0.878195           0.000000  \n",
       "6           0.997122           0.428571  \n",
       "7           0.985963           0.050000  \n",
       "14          0.961137           0.000000  "
      ]
     },
     "execution_count": 15,
     "metadata": {},
     "output_type": "execute_result"
    }
   ],
   "source": [
    "df = result.to_pandas()\n",
    "low_faithfulness = df[df.faithfulness < 0.9]\n",
    "low_faithfulness"
   ]
  },
  {
   "cell_type": "markdown",
   "id": "f65cb827",
   "metadata": {},
   "source": [
    "With a small utility function we can see the question, answer, contexts."
   ]
  },
  {
   "cell_type": "code",
   "execution_count": 45,
   "id": "5b94e540",
   "metadata": {},
   "outputs": [],
   "source": [
    "msg = \"\"\"\\\n",
    "**Q: {question}**\n",
    "\n",
    "A: {answer}\n",
    "\n",
    "**Contexts**\n",
    "\n",
    "---\n",
    "\n",
    "{context}\n",
    "\"\"\"\n",
    "\n",
    "ctx_msg = \"\"\"\\\n",
    "{c}\n",
    "\n",
    "---\n",
    "\n",
    "\"\"\"\n",
    "def view_row(i, df):\n",
    "    r = df.iloc[i]\n",
    "    c = ''.join([ctx_msg.format(c=c) for c in r[\"contexts\"]])\n",
    "    display(Markdown(msg.format(\n",
    "        question=r[\"question\"],\n",
    "        answer=r[\"answer\"],\n",
    "        context=c,\n",
    "    )))"
   ]
  },
  {
   "cell_type": "code",
   "execution_count": 46,
   "id": "9842219a",
   "metadata": {},
   "outputs": [
    {
     "data": {
      "text/markdown": [
       "**Q: As a teacher/professor, how would you structure the quiz/examination to ensure diversity in the nature of the questions?**\n",
       "\n",
       "A: \n",
       "As a teacher/professor, one way to structure the quiz/examination to ensure diversity in the nature of the questions is to use the Frequently Asked Questions (FAQ) provided in BC4 as a guide. This will help ensure that the questions cover a wide range of topics and are not too focused on any one particular area. Additionally, it is important to ensure that the questions are not too difficult or too easy, and that they are appropriate for the level of the students taking the quiz/examination. Finally, it is important to provide a variety of question types, such as multiple choice, short answer, and essay questions, to ensure that students are able to demonstrate their knowledge in different ways.\n",
       "\n",
       "**Contexts**\n",
       "\n",
       "---\n",
       "\n",
       "Frequently Asked Questions\n",
       "\n",
       "---\n",
       "\n",
       "FAQ\n",
       "\n",
       "There are many questions that arise from IT policies such as this, so we've produced an FAQ in BC4 to help answer them.\n",
       "\n",
       "---\n",
       "\n",
       "\n"
      ],
      "text/plain": [
       "<IPython.core.display.Markdown object>"
      ]
     },
     "metadata": {},
     "output_type": "display_data"
    }
   ],
   "source": [
    "view_row(4, low_faithfulness)"
   ]
  },
  {
   "cell_type": "markdown",
   "id": "d85441a1",
   "metadata": {},
   "source": [
    "Seems like the question is a bit off and the LLM actually makes a lot of stuff to answer the questions because the retrieved context is not very good.\n",
    "\n",
    "Taking a look at the faithfulness metric logs from langsmith.\n",
    "\n",
    "**statements generated**\n",
    "```txt\n",
    "- One way to structure the quiz/examination to ensure diversity in the nature of the questions is to use the Frequently Asked Questions (FAQ) provided in BC4 as a guide.\n",
    "- Using the FAQ as a guide will help ensure that the questions cover a wide range of topics and are not too focused on any one particular area.\n",
    "- It is important to ensure that the questions are not too difficult or too easy, and that they are appropriate for the level of the students taking the quiz/examination.\n",
    "- Providing a variety of question types, such as multiple choice, short answer, and essay questions, will ensure that students are able to demonstrate their knowledge in different ways.\n",
    "```\n",
    "\n",
    "**checking for support in context**\n",
    "```txt\n",
    "1. One way to structure the quiz/examination to ensure diversity in the nature of the questions is to use the Frequently Asked Questions (FAQ) provided in BC4 as a guide.\n",
    "Explanation: The context mentions that an FAQ has been produced to answer questions related to IT policies. However, there is no information suggesting that the FAQ can be used as a guide to structure a quiz/examination. Verdict: No.\n",
    "\n",
    "2. Using the FAQ as a guide will help ensure that the questions cover a wide range of topics and are not too focused on any one particular area.\n",
    "Explanation: The context mentions that the FAQ has been produced to answer questions related to IT policies. It does not provide any information about the content or topics covered in the FAQ. Therefore, it cannot be deduced that using the FAQ as a guide will ensure question diversity. Verdict: No.\n",
    "\n",
    "3. It is important to ensure that the questions are not too difficult or too easy, and that they are appropriate for the level of the students taking the quiz/examination.\n",
    "Explanation: The context does not provide any information about the difficulty level or appropriateness of the questions. Therefore, it cannot be deduced whether it is important to ensure these factors. Verdict: No.\n",
    "\n",
    "4. Providing a variety of question types, such as multiple choice, short answer, and essay questions, will ensure that students are able to demonstrate their knowledge in different ways.\n",
    "Explanation: The context does not provide any information about the variety of question types or how students can demonstrate their knowledge. Therefore, it cannot be deduced that providing a variety of question types will ensure different ways of demonstrating knowledge. Verdict: No.\n",
    "\n",
    "Final verdict for each statement in order: No. No. No. No.\n",
    "```"
   ]
  },
  {
   "cell_type": "code",
   "execution_count": 44,
   "id": "df5cc616",
   "metadata": {},
   "outputs": [
    {
     "data": {
      "text/html": [
       "<div>\n",
       "<style scoped>\n",
       "    .dataframe tbody tr th:only-of-type {\n",
       "        vertical-align: middle;\n",
       "    }\n",
       "\n",
       "    .dataframe tbody tr th {\n",
       "        vertical-align: top;\n",
       "    }\n",
       "\n",
       "    .dataframe thead th {\n",
       "        text-align: right;\n",
       "    }\n",
       "</style>\n",
       "<table border=\"1\" class=\"dataframe\">\n",
       "  <thead>\n",
       "    <tr style=\"text-align: right;\">\n",
       "      <th></th>\n",
       "      <th>question</th>\n",
       "      <th>contexts</th>\n",
       "      <th>answer</th>\n",
       "      <th>faithfulness</th>\n",
       "      <th>answer_relevancy</th>\n",
       "      <th>context_relevancy</th>\n",
       "    </tr>\n",
       "  </thead>\n",
       "  <tbody>\n",
       "    <tr>\n",
       "      <th>5</th>\n",
       "      <td>What advice does 37signals give to new employe...</td>\n",
       "      <td>[Getting Started\\n\\nGetting started at 37signa...</td>\n",
       "      <td>\\n37signals encourages new employees to take a...</td>\n",
       "      <td>0.75</td>\n",
       "      <td>0.878195</td>\n",
       "      <td>0.0</td>\n",
       "    </tr>\n",
       "  </tbody>\n",
       "</table>\n",
       "</div>"
      ],
      "text/plain": [
       "                                            question  \\\n",
       "5  What advice does 37signals give to new employe...   \n",
       "\n",
       "                                            contexts  \\\n",
       "5  [Getting Started\\n\\nGetting started at 37signa...   \n",
       "\n",
       "                                              answer  faithfulness  \\\n",
       "5  \\n37signals encourages new employees to take a...          0.75   \n",
       "\n",
       "   answer_relevancy  context_relevancy  \n",
       "5          0.878195                0.0  "
      ]
     },
     "execution_count": 44,
     "metadata": {},
     "output_type": "execute_result"
    }
   ],
   "source": [
    "low_relavency = df[df.answer_relevancy < 0.9]\n",
    "low_relavency"
   ]
  },
  {
   "cell_type": "markdown",
   "id": "b89aaf54",
   "metadata": {},
   "source": [
    "### why?\n",
    "Here you can see that the answer is only about paid-time-off while the question is much more general which shows the answer_relavency needs to be improved."
   ]
  },
  {
   "cell_type": "code",
   "execution_count": 47,
   "id": "259c31da",
   "metadata": {},
   "outputs": [
    {
     "data": {
      "text/markdown": [
       "**Q: What advice does 37signals give to new employees about work-life balance?**\n",
       "\n",
       "A: \n",
       "37signals encourages new employees to take advantage of their 18 days of paid time off plus 11 local holidays every year. They also suggest tracking vacation time and note that vacation time rolls over year to year with a maximum bank of 27 days at any time. If an employee is terminated or resigns from 37signals with vacation days in their bank, they will be paid the monetary equivalent for those unused days (prorated at the time of their departure). This encourages employees to maintain a healthy work-life balance.\n",
       "\n",
       "**Contexts**\n",
       "\n",
       "---\n",
       "\n",
       "Getting Started\n",
       "\n",
       "Getting started at 37signals involves a lot of little details, a number of big tasks, learning the details of your new job, meeting new coworkers, all while working remotely. Your teammates, your manager, your 37signals buddy, your Ops buddy, and our People team are all here to help as you navigate your first few days and weeks.\n",
       "\n",
       "---\n",
       "\n",
       "Vacation Time\n",
       "\n",
       "37signals offers 18 days of paid time off plus 11 local holidays every year. We ask that you track your time off. Your vacation time is prorated based on your start date during your first year at 37signals. Your vacation time rolls over year to year with a maximum bank of 27 days at any time. If you are terminated or resign from 37signals with vacation days in your bank, you’ll be paid the monetary equivalent for those unused days (prorated at the time of your departure).\n",
       "\n",
       "---\n",
       "\n",
       "\n"
      ],
      "text/plain": [
       "<IPython.core.display.Markdown object>"
      ]
     },
     "metadata": {},
     "output_type": "display_data"
    }
   ],
   "source": [
    "view_row(0, low_relavency)"
   ]
  }
 ],
 "metadata": {
  "kernelspec": {
   "display_name": "Python 3 (ipykernel)",
   "language": "python",
   "name": "python3"
  },
  "language_info": {
   "codemirror_mode": {
    "name": "ipython",
    "version": 3
   },
   "file_extension": ".py",
   "mimetype": "text/x-python",
   "name": "python",
   "nbconvert_exporter": "python",
   "pygments_lexer": "ipython3",
   "version": "3.10.12"
  }
 },
 "nbformat": 4,
 "nbformat_minor": 5
}
